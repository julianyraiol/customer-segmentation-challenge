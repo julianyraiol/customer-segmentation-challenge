{
  "nbformat": 4,
  "nbformat_minor": 0,
  "metadata": {
    "colab": {
      "name": "preprocessamento.ipynb",
      "provenance": [],
      "collapsed_sections": [],
      "authorship_tag": "ABX9TyMx+Dg1UVjRqwoFpl9Kh9mH",
      "include_colab_link": true
    },
    "kernelspec": {
      "name": "python3",
      "display_name": "Python 3"
    }
  },
  "cells": [
    {
      "cell_type": "markdown",
      "metadata": {
        "id": "view-in-github",
        "colab_type": "text"
      },
      "source": [
        "<a href=\"https://colab.research.google.com/github/ludigoncalves/bemol-challenge/blob/master/preprocessamento.ipynb\" target=\"_parent\"><img src=\"https://colab.research.google.com/assets/colab-badge.svg\" alt=\"Open In Colab\"/></a>"
      ]
    },
    {
      "cell_type": "markdown",
      "metadata": {
        "id": "k2PZUi5wufIV",
        "colab_type": "text"
      },
      "source": [
        "# Visão Geral\n",
        "\n",
        "Para este desafio, estou considerando a base de dados [Online Retail](https://www.kaggle.com/hellbuoy/online-retail-customer-clustering) devido a natureza dos atributos que podem ser explorados no contexto da Bemol. Por exemplo, usando atributo de localidade (na base nós temos o atributo 'Country') podemos explorar estratégias de Marketing em uma granularidade menor, i.e. por regiões/bairros, ou em uma granularidade maior, como estados (devido a presença da rede Bemol em diversos estados). Outra caracteríística interessante dessa base é que ela possui informação sobre os items comprados pelos consumidores, o que pode ser usado, em termos de estratégia de Marketing novamente, para fazer recomendações de produtos comprados por consumidores pertencentes ao mesmo segmento (cluster) para um consumidor que não os comprou ainda.\n",
        "\n",
        "A base de dados Online Retail contém transações que ocorrem dentro do período de 01/12/2010 à 09/12/2011 em 38 países diferentes. A companhia vende principalmente presentes exclusivos para todas as ocasições e muitos dos seus clientes são atacadistas. "
      ]
    },
    {
      "cell_type": "markdown",
      "metadata": {
        "id": "1qJNyeaz06PT",
        "colab_type": "text"
      },
      "source": [
        "# Objetivo\n",
        "\n",
        "O objetivo deste trabalho consiste em segmentar uma lista de clientes com base em suas transações. Para isto, será utilizada a técnica de análise conhecida como RFM (do inglês Recency, Frequency, and Monetary value). RFM é uma técnica comumente utilizada em Marketing que usa histórico de comportamento de compras para dividir os consumidores em grupos de acordo com as seguintes métricas:\n",
        "  - Recency (R): tempo decorrido desde a última compra de um dado consumidor. São clientes mais suscetíveis a responder a novas ofertas.\n",
        "  - Frequency (F): núúmero total de compras do consumidor. Clientes que compraram muito são mais suscetíveis a responder a ofertas que clientes que compraram pouco.\n",
        "  - Monetary value (M): valor total gasto em compras. Clientes que gastaram valor considerável em compras no passado são mais passíveis de realizarem compras volumosas novamente.\n",
        "\n",
        "Fontes:\n",
        "1. [IBM](https://www.ibm.com/support/knowledgecenter/da/SSLVMB_23.0.0/spss/rfm/rfm_intro.xml.html)\n",
        "2. [Blast Analytics](https://www.blastanalytics.com/blog/rfm-analysis-boosts-sales)"
      ]
    },
    {
      "cell_type": "markdown",
      "metadata": {
        "id": "IMLXEa4A6fsh",
        "colab_type": "text"
      },
      "source": [
        "# Metodologia Geral\n",
        "\n",
        "1. Leitura e Exploração dos Dados\n",
        "2. Limpeza dos Dados\n",
        "3. Preparação dos Dados\n",
        "4. Segmentação\n",
        "5. Análises"
      ]
    },
    {
      "cell_type": "markdown",
      "metadata": {
        "id": "NxvfsiREx_ee",
        "colab_type": "text"
      },
      "source": [
        "## Estrutura do Notebook\n",
        "1. Leitura e Exploração dos Dados\n",
        "2. Limpeza dos Dados\n",
        "3. Preparação dos Dados\n",
        "4. Salva Dados Gerados"
      ]
    },
    {
      "cell_type": "markdown",
      "metadata": {
        "id": "3Eeh4eTRDEfW",
        "colab_type": "text"
      },
      "source": [
        "# Configurações"
      ]
    },
    {
      "cell_type": "code",
      "metadata": {
        "id": "rmfESrrftPED",
        "colab_type": "code",
        "colab": {
          "base_uri": "https://localhost:8080/",
          "height": 52
        },
        "outputId": "83a2fa17-fa32-43d8-bc27-248e243d1e5a"
      },
      "source": [
        "# Este código foi construído no ambiente de desenvolvimento https://colab.research.google.com/\n",
        "# Utilizando ambiente Python 3.6.9\n",
        "# Imports necessários para este desafio\n",
        "\n",
        "from google.colab import drive # monta ambiente para salvar dados gerados no notebook\n",
        "import os # seta o caminho no ambiente como padrão \n",
        "\n",
        "import pandas as pd # biblioteca para processamento dos dados\n",
        "import numpy as np # biblioteca de algebra linear\n",
        "\n",
        "# Bibliotecas para visualização\n",
        "import matplotlib.pyplot as plt\n",
        "import seaborn as sns\n",
        "import matplotlib as mpl\n",
        "# funcao mágica para manter os graficos no notebook e próximos ao código gerador\n",
        "%matplotlib inline \n",
        "\n",
        "# Biblioteca para datas\n",
        "import datetime"
      ],
      "execution_count": 2,
      "outputs": [
        {
          "output_type": "stream",
          "text": [
            "/usr/local/lib/python3.6/dist-packages/statsmodels/tools/_testing.py:19: FutureWarning: pandas.util.testing is deprecated. Use the functions in the public API at pandas.testing instead.\n",
            "  import pandas.util.testing as tm\n"
          ],
          "name": "stderr"
        }
      ]
    },
    {
      "cell_type": "code",
      "metadata": {
        "id": "vh6fJ2cE_qd6",
        "colab_type": "code",
        "colab": {
          "base_uri": "https://localhost:8080/",
          "height": 104
        },
        "outputId": "7884fdbe-0409-4354-ac4d-c3a145bce7b1"
      },
      "source": [
        "# Versao das bibliotecas utilizadas\n",
        "!python --version\n",
        "print(\"Pandas:\", pd.__version__)\n",
        "print(\"Numpy:\", np.__version__)\n",
        "print(\"Matplotlib: \", mpl.__version__)\n",
        "print(\"Seaborn:\", sns.__version__)"
      ],
      "execution_count": 3,
      "outputs": [
        {
          "output_type": "stream",
          "text": [
            "Python 3.6.9\n",
            "Pandas: 1.0.5\n",
            "Numpy: 1.18.5\n",
            "Matplotlib:  3.2.2\n",
            "Seaborn: 0.10.1\n"
          ],
          "name": "stdout"
        }
      ]
    },
    {
      "cell_type": "code",
      "metadata": {
        "id": "_N6M7hijtnnD",
        "colab_type": "code",
        "colab": {
          "base_uri": "https://localhost:8080/",
          "height": 124
        },
        "outputId": "d1024dec-4f50-4390-c795-aa6ccef05a1c"
      },
      "source": [
        "# Monta o ambiente onde os dados gerados neste notebook serao salvos\n",
        "drive.mount('/content/gdrive', force_remount=True)"
      ],
      "execution_count": 4,
      "outputs": [
        {
          "output_type": "stream",
          "text": [
            "Go to this URL in a browser: https://accounts.google.com/o/oauth2/auth?client_id=947318989803-6bn6qk8qdgf4n4g3pfee6491hc0brc4i.apps.googleusercontent.com&redirect_uri=urn%3aietf%3awg%3aoauth%3a2.0%3aoob&response_type=code&scope=email%20https%3a%2f%2fwww.googleapis.com%2fauth%2fdocs.test%20https%3a%2f%2fwww.googleapis.com%2fauth%2fdrive%20https%3a%2f%2fwww.googleapis.com%2fauth%2fdrive.photos.readonly%20https%3a%2f%2fwww.googleapis.com%2fauth%2fpeopleapi.readonly\n",
            "\n",
            "Enter your authorization code:\n",
            "··········\n",
            "Mounted at /content/gdrive\n"
          ],
          "name": "stdout"
        }
      ]
    },
    {
      "cell_type": "code",
      "metadata": {
        "id": "7haoxokDtnpt",
        "colab_type": "code",
        "colab": {}
      },
      "source": [
        "# Seta o caminho onde os dados serao salvos\n",
        "def set_path(path):\n",
        "  os.chdir(path)"
      ],
      "execution_count": 5,
      "outputs": []
    },
    {
      "cell_type": "code",
      "metadata": {
        "id": "4RDTHKxctnr8",
        "colab_type": "code",
        "colab": {
          "base_uri": "https://localhost:8080/",
          "height": 34
        },
        "outputId": "73834e8f-4749-4c30-864f-8e207f8ebdfc"
      },
      "source": [
        "set_path('/content/gdrive/My Drive/Colab Notebooks/Bemol_Challenge')\n",
        "!pwd"
      ],
      "execution_count": 6,
      "outputs": [
        {
          "output_type": "stream",
          "text": [
            "/content/gdrive/My Drive/Colab Notebooks/Bemol_Challenge\n"
          ],
          "name": "stdout"
        }
      ]
    },
    {
      "cell_type": "markdown",
      "metadata": {
        "id": "lRGDaGymDOoj",
        "colab_type": "text"
      },
      "source": [
        "# Carrega base de dados"
      ]
    },
    {
      "cell_type": "code",
      "metadata": {
        "id": "vjQDZobQtwFE",
        "colab_type": "code",
        "colab": {}
      },
      "source": [
        "def load_data(data_path, sep=',', encoding='UTF-8'):\n",
        "  \"\"\"\n",
        "  Funcao para leitura da base de dados\n",
        "  \"\"\"\n",
        "  df = pd.read_csv(data_path, sep=sep, encoding=encoding, header=0)\n",
        "\n",
        "  return df"
      ],
      "execution_count": 7,
      "outputs": []
    },
    {
      "cell_type": "code",
      "metadata": {
        "id": "2dbTjjrYuISj",
        "colab_type": "code",
        "colab": {
          "base_uri": "https://localhost:8080/",
          "height": 206
        },
        "outputId": "bed99083-0de2-4380-c442-e53902013d1a"
      },
      "source": [
        "# Carrega a base\n",
        "online_retail = load_data(\"/content/gdrive/My Drive/Colab Notebooks/Kaggle/OnlineRetail.csv\", encoding=\"ISO-8859-1\")\n",
        "online_retail.head()"
      ],
      "execution_count": 8,
      "outputs": [
        {
          "output_type": "execute_result",
          "data": {
            "text/html": [
              "<div>\n",
              "<style scoped>\n",
              "    .dataframe tbody tr th:only-of-type {\n",
              "        vertical-align: middle;\n",
              "    }\n",
              "\n",
              "    .dataframe tbody tr th {\n",
              "        vertical-align: top;\n",
              "    }\n",
              "\n",
              "    .dataframe thead th {\n",
              "        text-align: right;\n",
              "    }\n",
              "</style>\n",
              "<table border=\"1\" class=\"dataframe\">\n",
              "  <thead>\n",
              "    <tr style=\"text-align: right;\">\n",
              "      <th></th>\n",
              "      <th>InvoiceNo</th>\n",
              "      <th>StockCode</th>\n",
              "      <th>Description</th>\n",
              "      <th>Quantity</th>\n",
              "      <th>InvoiceDate</th>\n",
              "      <th>UnitPrice</th>\n",
              "      <th>CustomerID</th>\n",
              "      <th>Country</th>\n",
              "    </tr>\n",
              "  </thead>\n",
              "  <tbody>\n",
              "    <tr>\n",
              "      <th>0</th>\n",
              "      <td>536365</td>\n",
              "      <td>85123A</td>\n",
              "      <td>WHITE HANGING HEART T-LIGHT HOLDER</td>\n",
              "      <td>6</td>\n",
              "      <td>01-12-2010 08:26</td>\n",
              "      <td>2.55</td>\n",
              "      <td>17850.0</td>\n",
              "      <td>United Kingdom</td>\n",
              "    </tr>\n",
              "    <tr>\n",
              "      <th>1</th>\n",
              "      <td>536365</td>\n",
              "      <td>71053</td>\n",
              "      <td>WHITE METAL LANTERN</td>\n",
              "      <td>6</td>\n",
              "      <td>01-12-2010 08:26</td>\n",
              "      <td>3.39</td>\n",
              "      <td>17850.0</td>\n",
              "      <td>United Kingdom</td>\n",
              "    </tr>\n",
              "    <tr>\n",
              "      <th>2</th>\n",
              "      <td>536365</td>\n",
              "      <td>84406B</td>\n",
              "      <td>CREAM CUPID HEARTS COAT HANGER</td>\n",
              "      <td>8</td>\n",
              "      <td>01-12-2010 08:26</td>\n",
              "      <td>2.75</td>\n",
              "      <td>17850.0</td>\n",
              "      <td>United Kingdom</td>\n",
              "    </tr>\n",
              "    <tr>\n",
              "      <th>3</th>\n",
              "      <td>536365</td>\n",
              "      <td>84029G</td>\n",
              "      <td>KNITTED UNION FLAG HOT WATER BOTTLE</td>\n",
              "      <td>6</td>\n",
              "      <td>01-12-2010 08:26</td>\n",
              "      <td>3.39</td>\n",
              "      <td>17850.0</td>\n",
              "      <td>United Kingdom</td>\n",
              "    </tr>\n",
              "    <tr>\n",
              "      <th>4</th>\n",
              "      <td>536365</td>\n",
              "      <td>84029E</td>\n",
              "      <td>RED WOOLLY HOTTIE WHITE HEART.</td>\n",
              "      <td>6</td>\n",
              "      <td>01-12-2010 08:26</td>\n",
              "      <td>3.39</td>\n",
              "      <td>17850.0</td>\n",
              "      <td>United Kingdom</td>\n",
              "    </tr>\n",
              "  </tbody>\n",
              "</table>\n",
              "</div>"
            ],
            "text/plain": [
              "  InvoiceNo StockCode  ... CustomerID         Country\n",
              "0    536365    85123A  ...    17850.0  United Kingdom\n",
              "1    536365     71053  ...    17850.0  United Kingdom\n",
              "2    536365    84406B  ...    17850.0  United Kingdom\n",
              "3    536365    84029G  ...    17850.0  United Kingdom\n",
              "4    536365    84029E  ...    17850.0  United Kingdom\n",
              "\n",
              "[5 rows x 8 columns]"
            ]
          },
          "metadata": {
            "tags": []
          },
          "execution_count": 8
        }
      ]
    },
    {
      "cell_type": "code",
      "metadata": {
        "id": "Lk5ZzFhguMm6",
        "colab_type": "code",
        "colab": {
          "base_uri": "https://localhost:8080/",
          "height": 34
        },
        "outputId": "20f9f219-1f46-4474-89df-03441adaacb8"
      },
      "source": [
        "online_retail['Country'].nunique()"
      ],
      "execution_count": 9,
      "outputs": [
        {
          "output_type": "execute_result",
          "data": {
            "text/plain": [
              "38"
            ]
          },
          "metadata": {
            "tags": []
          },
          "execution_count": 9
        }
      ]
    },
    {
      "cell_type": "code",
      "metadata": {
        "id": "TYuZoXF0HMiD",
        "colab_type": "code",
        "colab": {
          "base_uri": "https://localhost:8080/",
          "height": 694
        },
        "outputId": "c210969c-9fa8-4f19-93be-c841114cb1b4"
      },
      "source": [
        "# Explora o numero de transacoes por pais para uma possivel consideracao por regioes\n",
        "countries = online_retail.groupby(by='Country')['InvoiceNo'].count().to_frame().reset_index()\n",
        "countries = countries.sort_values(by='InvoiceNo', ascending=False, ignore_index=True)\n",
        "print(countries)"
      ],
      "execution_count": 10,
      "outputs": [
        {
          "output_type": "stream",
          "text": [
            "                 Country  InvoiceNo\n",
            "0         United Kingdom     495478\n",
            "1                Germany       9495\n",
            "2                 France       8557\n",
            "3                   EIRE       8196\n",
            "4                  Spain       2533\n",
            "5            Netherlands       2371\n",
            "6                Belgium       2069\n",
            "7            Switzerland       2002\n",
            "8               Portugal       1519\n",
            "9              Australia       1259\n",
            "10                Norway       1086\n",
            "11                 Italy        803\n",
            "12       Channel Islands        758\n",
            "13               Finland        695\n",
            "14                Cyprus        622\n",
            "15                Sweden        462\n",
            "16           Unspecified        446\n",
            "17               Austria        401\n",
            "18               Denmark        389\n",
            "19                 Japan        358\n",
            "20                Poland        341\n",
            "21                Israel        297\n",
            "22                   USA        291\n",
            "23             Hong Kong        288\n",
            "24             Singapore        229\n",
            "25               Iceland        182\n",
            "26                Canada        151\n",
            "27                Greece        146\n",
            "28                 Malta        127\n",
            "29  United Arab Emirates         68\n",
            "30    European Community         61\n",
            "31                   RSA         58\n",
            "32               Lebanon         45\n",
            "33             Lithuania         35\n",
            "34                Brazil         32\n",
            "35        Czech Republic         30\n",
            "36               Bahrain         19\n",
            "37          Saudi Arabia         10\n"
          ],
          "name": "stdout"
        }
      ]
    },
    {
      "cell_type": "markdown",
      "metadata": {
        "id": "GbkMxC38EIXw",
        "colab_type": "text"
      },
      "source": [
        "Esta base inicial possui 541909 transações e 8 atributos"
      ]
    },
    {
      "cell_type": "code",
      "metadata": {
        "id": "iMfAfRHIDly5",
        "colab_type": "code",
        "colab": {
          "base_uri": "https://localhost:8080/",
          "height": 34
        },
        "outputId": "c0510853-51ab-411d-dcf2-50a6f580c069"
      },
      "source": [
        "online_retail.shape"
      ],
      "execution_count": 11,
      "outputs": [
        {
          "output_type": "execute_result",
          "data": {
            "text/plain": [
              "(541909, 8)"
            ]
          },
          "metadata": {
            "tags": []
          },
          "execution_count": 11
        }
      ]
    },
    {
      "cell_type": "markdown",
      "metadata": {
        "id": "5_tpVS4GEeE2",
        "colab_type": "text"
      },
      "source": [
        "Com o comando .info() conseguimos ver que alguns atributos possuem dados faltantes, como CustomerID, que precisarão ser tratados posteriomente"
      ]
    },
    {
      "cell_type": "code",
      "metadata": {
        "id": "_rZTzHOODl3l",
        "colab_type": "code",
        "colab": {
          "base_uri": "https://localhost:8080/",
          "height": 278
        },
        "outputId": "399b1db2-1825-401b-8a43-b743c690a303"
      },
      "source": [
        "online_retail.info()"
      ],
      "execution_count": 12,
      "outputs": [
        {
          "output_type": "stream",
          "text": [
            "<class 'pandas.core.frame.DataFrame'>\n",
            "RangeIndex: 541909 entries, 0 to 541908\n",
            "Data columns (total 8 columns):\n",
            " #   Column       Non-Null Count   Dtype  \n",
            "---  ------       --------------   -----  \n",
            " 0   InvoiceNo    541909 non-null  object \n",
            " 1   StockCode    541909 non-null  object \n",
            " 2   Description  540455 non-null  object \n",
            " 3   Quantity     541909 non-null  int64  \n",
            " 4   InvoiceDate  541909 non-null  object \n",
            " 5   UnitPrice    541909 non-null  float64\n",
            " 6   CustomerID   406829 non-null  float64\n",
            " 7   Country      541909 non-null  object \n",
            "dtypes: float64(2), int64(1), object(5)\n",
            "memory usage: 33.1+ MB\n"
          ],
          "name": "stdout"
        }
      ]
    },
    {
      "cell_type": "markdown",
      "metadata": {
        "id": "anpqpsTaU9be",
        "colab_type": "text"
      },
      "source": [
        "Com o método .describe() conseguimos ver que nos atributos 'Quantity' e 'UnitPrice' temos valores menores que zero, o que configura em dado ruidoso e também precisa ser removido"
      ]
    },
    {
      "cell_type": "code",
      "metadata": {
        "id": "sKqT-guIUywV",
        "colab_type": "code",
        "colab": {
          "base_uri": "https://localhost:8080/",
          "height": 300
        },
        "outputId": "49c091af-d6e4-47bf-ec0f-c5793929cd17"
      },
      "source": [
        "online_retail.describe()"
      ],
      "execution_count": 13,
      "outputs": [
        {
          "output_type": "execute_result",
          "data": {
            "text/html": [
              "<div>\n",
              "<style scoped>\n",
              "    .dataframe tbody tr th:only-of-type {\n",
              "        vertical-align: middle;\n",
              "    }\n",
              "\n",
              "    .dataframe tbody tr th {\n",
              "        vertical-align: top;\n",
              "    }\n",
              "\n",
              "    .dataframe thead th {\n",
              "        text-align: right;\n",
              "    }\n",
              "</style>\n",
              "<table border=\"1\" class=\"dataframe\">\n",
              "  <thead>\n",
              "    <tr style=\"text-align: right;\">\n",
              "      <th></th>\n",
              "      <th>Quantity</th>\n",
              "      <th>UnitPrice</th>\n",
              "      <th>CustomerID</th>\n",
              "    </tr>\n",
              "  </thead>\n",
              "  <tbody>\n",
              "    <tr>\n",
              "      <th>count</th>\n",
              "      <td>541909.000000</td>\n",
              "      <td>541909.000000</td>\n",
              "      <td>406829.000000</td>\n",
              "    </tr>\n",
              "    <tr>\n",
              "      <th>mean</th>\n",
              "      <td>9.552250</td>\n",
              "      <td>4.611114</td>\n",
              "      <td>15287.690570</td>\n",
              "    </tr>\n",
              "    <tr>\n",
              "      <th>std</th>\n",
              "      <td>218.081158</td>\n",
              "      <td>96.759853</td>\n",
              "      <td>1713.600303</td>\n",
              "    </tr>\n",
              "    <tr>\n",
              "      <th>min</th>\n",
              "      <td>-80995.000000</td>\n",
              "      <td>-11062.060000</td>\n",
              "      <td>12346.000000</td>\n",
              "    </tr>\n",
              "    <tr>\n",
              "      <th>25%</th>\n",
              "      <td>1.000000</td>\n",
              "      <td>1.250000</td>\n",
              "      <td>13953.000000</td>\n",
              "    </tr>\n",
              "    <tr>\n",
              "      <th>50%</th>\n",
              "      <td>3.000000</td>\n",
              "      <td>2.080000</td>\n",
              "      <td>15152.000000</td>\n",
              "    </tr>\n",
              "    <tr>\n",
              "      <th>75%</th>\n",
              "      <td>10.000000</td>\n",
              "      <td>4.130000</td>\n",
              "      <td>16791.000000</td>\n",
              "    </tr>\n",
              "    <tr>\n",
              "      <th>max</th>\n",
              "      <td>80995.000000</td>\n",
              "      <td>38970.000000</td>\n",
              "      <td>18287.000000</td>\n",
              "    </tr>\n",
              "  </tbody>\n",
              "</table>\n",
              "</div>"
            ],
            "text/plain": [
              "            Quantity      UnitPrice     CustomerID\n",
              "count  541909.000000  541909.000000  406829.000000\n",
              "mean        9.552250       4.611114   15287.690570\n",
              "std       218.081158      96.759853    1713.600303\n",
              "min    -80995.000000  -11062.060000   12346.000000\n",
              "25%         1.000000       1.250000   13953.000000\n",
              "50%         3.000000       2.080000   15152.000000\n",
              "75%        10.000000       4.130000   16791.000000\n",
              "max     80995.000000   38970.000000   18287.000000"
            ]
          },
          "metadata": {
            "tags": []
          },
          "execution_count": 13
        }
      ]
    },
    {
      "cell_type": "markdown",
      "metadata": {
        "id": "oEQj326UDl73",
        "colab_type": "text"
      },
      "source": [
        "# Limpeza dos Dados"
      ]
    },
    {
      "cell_type": "markdown",
      "metadata": {
        "id": "r7_xcdEiVocC",
        "colab_type": "text"
      },
      "source": [
        "Para fazermos uma análise que possua um grande volume de dados e também possamos utilizar a visão de análise por regiões, somente os três países com maior número de transações serão utilizados"
      ]
    },
    {
      "cell_type": "code",
      "metadata": {
        "id": "M0-uJ5jkWQ5m",
        "colab_type": "code",
        "colab": {
          "base_uri": "https://localhost:8080/",
          "height": 69
        },
        "outputId": "e47a5418-34df-4cb0-8df7-4b8af6bcda29"
      },
      "source": [
        "retail_uk = online_retail[online_retail['Country'] == 'United Kingdom'].copy() # o metodo .copy() garante que voce nao altere o dataframe original\n",
        "print('United Kingdom: ', retail_uk.shape)\n",
        "\n",
        "retail_ger = online_retail[online_retail['Country'] == 'Germany'].copy()\n",
        "print('Germany: ', retail_ger.shape)\n",
        "\n",
        "retail_fra = online_retail[online_retail['Country'] == 'France'].copy()\n",
        "print('France: ', retail_fra.shape)"
      ],
      "execution_count": 14,
      "outputs": [
        {
          "output_type": "stream",
          "text": [
            "United Kingdom:  (495478, 8)\n",
            "Germany:  (9495, 8)\n",
            "France:  (8557, 8)\n"
          ],
          "name": "stdout"
        }
      ]
    },
    {
      "cell_type": "code",
      "metadata": {
        "id": "lxi73u411CY9",
        "colab_type": "code",
        "colab": {}
      },
      "source": [
        "def drop_nan_instances(df, cols):\n",
        "  \"\"\"\n",
        "  Funcao para remover instancias que possuam como valores NaN\n",
        "  PARAMETROS:\n",
        "   df = dataframe a ser modificado\n",
        "   cols = lista de colunas que serao consideradas (i.e. ['col1', 'col2'])\n",
        "\n",
        "  SAIDA:\n",
        "   Dataframe modificado (sem valores NaN)\n",
        "  \"\"\"\n",
        "  df = df.dropna(subset=cols, how='all')\n",
        "\n",
        "  return df"
      ],
      "execution_count": 15,
      "outputs": []
    },
    {
      "cell_type": "code",
      "metadata": {
        "id": "NP31WdPuG0qE",
        "colab_type": "code",
        "colab": {
          "base_uri": "https://localhost:8080/",
          "height": 69
        },
        "outputId": "9c94ad3d-40aa-4b98-ba30-a9d9371ea356"
      },
      "source": [
        "# Remocao de individuos com dados faltantes\n",
        "retail_uk = drop_nan_instances(retail_uk, ['CustomerID'])\n",
        "print('United Kingdom: ', retail_uk.shape)\n",
        "\n",
        "retail_ger = drop_nan_instances(retail_ger, ['CustomerID'])\n",
        "print('Germany: ', retail_ger.shape)\n",
        "\n",
        "retail_fra = drop_nan_instances(retail_fra, ['CustomerID'])\n",
        "print('France: ', retail_fra.shape)"
      ],
      "execution_count": 16,
      "outputs": [
        {
          "output_type": "stream",
          "text": [
            "United Kingdom:  (361878, 8)\n",
            "Germany:  (9495, 8)\n",
            "France:  (8491, 8)\n"
          ],
          "name": "stdout"
        }
      ]
    },
    {
      "cell_type": "code",
      "metadata": {
        "id": "GWRCLsnh6lw5",
        "colab_type": "code",
        "colab": {}
      },
      "source": [
        "def drop_duplicated_instances(df, subset, keep='first'):\n",
        "  \"\"\"\n",
        "  Funcao para remover instancias duplicadas\n",
        "  \"\"\"\n",
        "  df = df.drop_duplicates(subset=subset, keep=keep)\n",
        "\n",
        "  return df"
      ],
      "execution_count": 17,
      "outputs": []
    },
    {
      "cell_type": "code",
      "metadata": {
        "id": "EFrdA1cBG0tm",
        "colab_type": "code",
        "colab": {
          "base_uri": "https://localhost:8080/",
          "height": 69
        },
        "outputId": "a46fea96-71ff-493d-a410-d553c861eec1"
      },
      "source": [
        "# Remocao de dados duplicados\n",
        "retail_uk = drop_duplicated_instances(retail_uk, ['InvoiceNo', 'CustomerID'])\n",
        "print('United Kingdom: ', retail_uk.shape)\n",
        "\n",
        "retail_ger = drop_duplicated_instances(retail_ger, ['InvoiceNo', 'CustomerID'])\n",
        "print('Germany: ', retail_ger.shape)\n",
        "\n",
        "retail_fra = drop_duplicated_instances(retail_fra, ['InvoiceNo', 'CustomerID'])\n",
        "print('France: ', retail_fra.shape)"
      ],
      "execution_count": 18,
      "outputs": [
        {
          "output_type": "stream",
          "text": [
            "United Kingdom:  (19857, 8)\n",
            "Germany:  (603, 8)\n",
            "France:  (458, 8)\n"
          ],
          "name": "stdout"
        }
      ]
    },
    {
      "cell_type": "markdown",
      "metadata": {
        "id": "ItR4YekP8XaG",
        "colab_type": "text"
      },
      "source": [
        "Como observado anteriormente, as colunas 'Quantity' e 'UnitPrice' possuem dados menores ou iguais a zero, o que é um erro, já que é um dado inválido - não existem items que valem $-100. Isso é considerado um dado ruidoso e precisa ser removido para não comprometer análises e modelagens futuras."
      ]
    },
    {
      "cell_type": "code",
      "metadata": {
        "id": "teC-1S7T9Nzb",
        "colab_type": "code",
        "colab": {}
      },
      "source": [
        "def drop_noisy_quantity_data(df, col):\n",
        "  \"\"\"\n",
        "  Funcao que remove dados quantitativos ruidosos\n",
        "  \"\"\"\n",
        "  df = df[df[col] > 0]\n",
        "\n",
        "  return df"
      ],
      "execution_count": 19,
      "outputs": []
    },
    {
      "cell_type": "code",
      "metadata": {
        "id": "oeIovTm9G03B",
        "colab_type": "code",
        "colab": {
          "base_uri": "https://localhost:8080/",
          "height": 69
        },
        "outputId": "7acc4a9e-884a-4f6a-f467-5b3ca106ecd8"
      },
      "source": [
        "# Remoção de dados ruidosos em 'Quantity'\n",
        "retail_uk = drop_noisy_quantity_data(retail_uk, 'Quantity')\n",
        "print('United Kingdom: ', retail_uk.shape)\n",
        "\n",
        "retail_ger = drop_noisy_quantity_data(retail_ger, 'Quantity')\n",
        "print('Germany: ', retail_ger.shape)\n",
        "\n",
        "retail_fra = drop_noisy_quantity_data(retail_fra, 'Quantity')\n",
        "print('France: ', retail_fra.shape)"
      ],
      "execution_count": 20,
      "outputs": [
        {
          "output_type": "stream",
          "text": [
            "United Kingdom:  (16649, 8)\n",
            "Germany:  (457, 8)\n",
            "France:  (389, 8)\n"
          ],
          "name": "stdout"
        }
      ]
    },
    {
      "cell_type": "code",
      "metadata": {
        "id": "-wOsXJ8ZG052",
        "colab_type": "code",
        "colab": {
          "base_uri": "https://localhost:8080/",
          "height": 69
        },
        "outputId": "65a4deee-dc6a-43a5-e459-6cd8ebf7758d"
      },
      "source": [
        "# Remoção de dados ruidosos em 'UnitPrice'\n",
        "retail_uk = drop_noisy_quantity_data(retail_uk, 'UnitPrice')\n",
        "print('United Kingdom: ', retail_uk.shape)\n",
        "\n",
        "retail_ger = drop_noisy_quantity_data(retail_ger, 'UnitPrice')\n",
        "print('Germany: ', retail_ger.shape)\n",
        "\n",
        "retail_fra = drop_noisy_quantity_data(retail_fra, 'UnitPrice')\n",
        "print('France: ', retail_fra.shape)"
      ],
      "execution_count": 21,
      "outputs": [
        {
          "output_type": "stream",
          "text": [
            "United Kingdom:  (16643, 8)\n",
            "Germany:  (457, 8)\n",
            "France:  (389, 8)\n"
          ],
          "name": "stdout"
        }
      ]
    },
    {
      "cell_type": "markdown",
      "metadata": {
        "id": "6GzkJXpGdAbq",
        "colab_type": "text"
      },
      "source": [
        "Avaliando os descritores de informação vemos que os dados estão adequados agora"
      ]
    },
    {
      "cell_type": "code",
      "metadata": {
        "id": "yTKBB9rfcagW",
        "colab_type": "code",
        "colab": {
          "base_uri": "https://localhost:8080/",
          "height": 300
        },
        "outputId": "e671c2e5-2454-4765-f34c-a22e05d09dc8"
      },
      "source": [
        "retail_uk.describe()"
      ],
      "execution_count": 22,
      "outputs": [
        {
          "output_type": "execute_result",
          "data": {
            "text/html": [
              "<div>\n",
              "<style scoped>\n",
              "    .dataframe tbody tr th:only-of-type {\n",
              "        vertical-align: middle;\n",
              "    }\n",
              "\n",
              "    .dataframe tbody tr th {\n",
              "        vertical-align: top;\n",
              "    }\n",
              "\n",
              "    .dataframe thead th {\n",
              "        text-align: right;\n",
              "    }\n",
              "</style>\n",
              "<table border=\"1\" class=\"dataframe\">\n",
              "  <thead>\n",
              "    <tr style=\"text-align: right;\">\n",
              "      <th></th>\n",
              "      <th>Quantity</th>\n",
              "      <th>UnitPrice</th>\n",
              "      <th>CustomerID</th>\n",
              "    </tr>\n",
              "  </thead>\n",
              "  <tbody>\n",
              "    <tr>\n",
              "      <th>count</th>\n",
              "      <td>16643.000000</td>\n",
              "      <td>16643.000000</td>\n",
              "      <td>16643.000000</td>\n",
              "    </tr>\n",
              "    <tr>\n",
              "      <th>mean</th>\n",
              "      <td>38.681368</td>\n",
              "      <td>5.319490</td>\n",
              "      <td>15507.853632</td>\n",
              "    </tr>\n",
              "    <tr>\n",
              "      <th>std</th>\n",
              "      <td>858.727526</td>\n",
              "      <td>75.567185</td>\n",
              "      <td>1626.228711</td>\n",
              "    </tr>\n",
              "    <tr>\n",
              "      <th>min</th>\n",
              "      <td>1.000000</td>\n",
              "      <td>0.040000</td>\n",
              "      <td>12346.000000</td>\n",
              "    </tr>\n",
              "    <tr>\n",
              "      <th>25%</th>\n",
              "      <td>3.000000</td>\n",
              "      <td>1.250000</td>\n",
              "      <td>14098.500000</td>\n",
              "    </tr>\n",
              "    <tr>\n",
              "      <th>50%</th>\n",
              "      <td>10.000000</td>\n",
              "      <td>2.080000</td>\n",
              "      <td>15498.000000</td>\n",
              "    </tr>\n",
              "    <tr>\n",
              "      <th>75%</th>\n",
              "      <td>24.000000</td>\n",
              "      <td>4.650000</td>\n",
              "      <td>16923.000000</td>\n",
              "    </tr>\n",
              "    <tr>\n",
              "      <th>max</th>\n",
              "      <td>80995.000000</td>\n",
              "      <td>8142.750000</td>\n",
              "      <td>18287.000000</td>\n",
              "    </tr>\n",
              "  </tbody>\n",
              "</table>\n",
              "</div>"
            ],
            "text/plain": [
              "           Quantity     UnitPrice    CustomerID\n",
              "count  16643.000000  16643.000000  16643.000000\n",
              "mean      38.681368      5.319490  15507.853632\n",
              "std      858.727526     75.567185   1626.228711\n",
              "min        1.000000      0.040000  12346.000000\n",
              "25%        3.000000      1.250000  14098.500000\n",
              "50%       10.000000      2.080000  15498.000000\n",
              "75%       24.000000      4.650000  16923.000000\n",
              "max    80995.000000   8142.750000  18287.000000"
            ]
          },
          "metadata": {
            "tags": []
          },
          "execution_count": 22
        }
      ]
    },
    {
      "cell_type": "code",
      "metadata": {
        "id": "xLFnc2MVc3b0",
        "colab_type": "code",
        "colab": {
          "base_uri": "https://localhost:8080/",
          "height": 278
        },
        "outputId": "7b932ea5-21d5-49d8-f375-c9548d2e813b"
      },
      "source": [
        "retail_uk.info()"
      ],
      "execution_count": 23,
      "outputs": [
        {
          "output_type": "stream",
          "text": [
            "<class 'pandas.core.frame.DataFrame'>\n",
            "Int64Index: 16643 entries, 0 to 541890\n",
            "Data columns (total 8 columns):\n",
            " #   Column       Non-Null Count  Dtype  \n",
            "---  ------       --------------  -----  \n",
            " 0   InvoiceNo    16643 non-null  object \n",
            " 1   StockCode    16643 non-null  object \n",
            " 2   Description  16643 non-null  object \n",
            " 3   Quantity     16643 non-null  int64  \n",
            " 4   InvoiceDate  16643 non-null  object \n",
            " 5   UnitPrice    16643 non-null  float64\n",
            " 6   CustomerID   16643 non-null  float64\n",
            " 7   Country      16643 non-null  object \n",
            "dtypes: float64(2), int64(1), object(5)\n",
            "memory usage: 1.1+ MB\n"
          ],
          "name": "stdout"
        }
      ]
    },
    {
      "cell_type": "markdown",
      "metadata": {
        "id": "UoaGcQ1hdPnp",
        "colab_type": "text"
      },
      "source": [
        "Após os diversos tratamentos feitos nas bases dos 3 países selecionados para serem avaliados, observamos que os dados da França e da Alemanha ficaram insuficientes para serem bem analisados, assim, a partir deste ponto seguimos somente com os dados do Reino Unido."
      ]
    },
    {
      "cell_type": "code",
      "metadata": {
        "id": "tzeQB4jcgy5a",
        "colab_type": "code",
        "colab": {
          "base_uri": "https://localhost:8080/",
          "height": 206
        },
        "outputId": "0c46acd6-f70a-4f7e-9eaf-75805f865087"
      },
      "source": [
        "retail_uk['Date'] = pd.DatetimeIndex(retail_uk['InvoiceDate']).date # cria coluna somente com a data formata (ignorando horario)\n",
        "retail_uk.head()"
      ],
      "execution_count": 24,
      "outputs": [
        {
          "output_type": "execute_result",
          "data": {
            "text/html": [
              "<div>\n",
              "<style scoped>\n",
              "    .dataframe tbody tr th:only-of-type {\n",
              "        vertical-align: middle;\n",
              "    }\n",
              "\n",
              "    .dataframe tbody tr th {\n",
              "        vertical-align: top;\n",
              "    }\n",
              "\n",
              "    .dataframe thead th {\n",
              "        text-align: right;\n",
              "    }\n",
              "</style>\n",
              "<table border=\"1\" class=\"dataframe\">\n",
              "  <thead>\n",
              "    <tr style=\"text-align: right;\">\n",
              "      <th></th>\n",
              "      <th>InvoiceNo</th>\n",
              "      <th>StockCode</th>\n",
              "      <th>Description</th>\n",
              "      <th>Quantity</th>\n",
              "      <th>InvoiceDate</th>\n",
              "      <th>UnitPrice</th>\n",
              "      <th>CustomerID</th>\n",
              "      <th>Country</th>\n",
              "      <th>Date</th>\n",
              "    </tr>\n",
              "  </thead>\n",
              "  <tbody>\n",
              "    <tr>\n",
              "      <th>0</th>\n",
              "      <td>536365</td>\n",
              "      <td>85123A</td>\n",
              "      <td>WHITE HANGING HEART T-LIGHT HOLDER</td>\n",
              "      <td>6</td>\n",
              "      <td>01-12-2010 08:26</td>\n",
              "      <td>2.55</td>\n",
              "      <td>17850.0</td>\n",
              "      <td>United Kingdom</td>\n",
              "      <td>2010-01-12</td>\n",
              "    </tr>\n",
              "    <tr>\n",
              "      <th>7</th>\n",
              "      <td>536366</td>\n",
              "      <td>22633</td>\n",
              "      <td>HAND WARMER UNION JACK</td>\n",
              "      <td>6</td>\n",
              "      <td>01-12-2010 08:28</td>\n",
              "      <td>1.85</td>\n",
              "      <td>17850.0</td>\n",
              "      <td>United Kingdom</td>\n",
              "      <td>2010-01-12</td>\n",
              "    </tr>\n",
              "    <tr>\n",
              "      <th>9</th>\n",
              "      <td>536367</td>\n",
              "      <td>84879</td>\n",
              "      <td>ASSORTED COLOUR BIRD ORNAMENT</td>\n",
              "      <td>32</td>\n",
              "      <td>01-12-2010 08:34</td>\n",
              "      <td>1.69</td>\n",
              "      <td>13047.0</td>\n",
              "      <td>United Kingdom</td>\n",
              "      <td>2010-01-12</td>\n",
              "    </tr>\n",
              "    <tr>\n",
              "      <th>21</th>\n",
              "      <td>536368</td>\n",
              "      <td>22960</td>\n",
              "      <td>JAM MAKING SET WITH JARS</td>\n",
              "      <td>6</td>\n",
              "      <td>01-12-2010 08:34</td>\n",
              "      <td>4.25</td>\n",
              "      <td>13047.0</td>\n",
              "      <td>United Kingdom</td>\n",
              "      <td>2010-01-12</td>\n",
              "    </tr>\n",
              "    <tr>\n",
              "      <th>25</th>\n",
              "      <td>536369</td>\n",
              "      <td>21756</td>\n",
              "      <td>BATH BUILDING BLOCK WORD</td>\n",
              "      <td>3</td>\n",
              "      <td>01-12-2010 08:35</td>\n",
              "      <td>5.95</td>\n",
              "      <td>13047.0</td>\n",
              "      <td>United Kingdom</td>\n",
              "      <td>2010-01-12</td>\n",
              "    </tr>\n",
              "  </tbody>\n",
              "</table>\n",
              "</div>"
            ],
            "text/plain": [
              "   InvoiceNo StockCode  ...         Country        Date\n",
              "0     536365    85123A  ...  United Kingdom  2010-01-12\n",
              "7     536366     22633  ...  United Kingdom  2010-01-12\n",
              "9     536367     84879  ...  United Kingdom  2010-01-12\n",
              "21    536368     22960  ...  United Kingdom  2010-01-12\n",
              "25    536369     21756  ...  United Kingdom  2010-01-12\n",
              "\n",
              "[5 rows x 9 columns]"
            ]
          },
          "metadata": {
            "tags": []
          },
          "execution_count": 24
        }
      ]
    },
    {
      "cell_type": "code",
      "metadata": {
        "id": "vmpLsMlIhxiy",
        "colab_type": "code",
        "colab": {
          "base_uri": "https://localhost:8080/",
          "height": 52
        },
        "outputId": "ac00ff14-2437-4acd-b165-f9bc6d99bca9"
      },
      "source": [
        "# Verifica min e max de data para estruturar a janela adequada de tempo dos dados\n",
        "print('Minimum data: ', retail_uk['Date'].min())\n",
        "print('Maximum data: ', retail_uk['Date'].max())"
      ],
      "execution_count": 25,
      "outputs": [
        {
          "output_type": "stream",
          "text": [
            "Minimum data:  2010-01-12\n",
            "Maximum data:  2011-12-10\n"
          ],
          "name": "stdout"
        }
      ]
    },
    {
      "cell_type": "markdown",
      "metadata": {
        "id": "gzIpPBovdP8v",
        "colab_type": "text"
      },
      "source": [
        "Como normalmente utilizamos métricas de avaliações de vendas baseadas em anos ou meses, a base será restringida para contemplar exatamente 365 dias, dado que temos dados com menos de dois anos."
      ]
    },
    {
      "cell_type": "code",
      "metadata": {
        "id": "0TdQptBYeg9m",
        "colab_type": "code",
        "colab": {
          "base_uri": "https://localhost:8080/",
          "height": 34
        },
        "outputId": "8bc560f0-03a1-4c65-d418-12062bd89750"
      },
      "source": [
        "uk_df = retail_uk[retail_uk['Date'] > datetime.date(year=2010,month=12,day=9)]\n",
        "print('United Kingdom: ', uk_df.shape)"
      ],
      "execution_count": 26,
      "outputs": [
        {
          "output_type": "stream",
          "text": [
            "United Kingdom:  (15859, 9)\n"
          ],
          "name": "stdout"
        }
      ]
    },
    {
      "cell_type": "code",
      "metadata": {
        "id": "lz2IS4chfOnY",
        "colab_type": "code",
        "colab": {
          "base_uri": "https://localhost:8080/",
          "height": 52
        },
        "outputId": "5dc9bfde-1635-4a0f-8ceb-fd2dbe17b76a"
      },
      "source": [
        "# Verifica min e max de data para a nova janela de tempo dos dados\n",
        "print('Minimum data: ', uk_df['Date'].min())\n",
        "print('Maximum data: ', uk_df['Date'].max())"
      ],
      "execution_count": 27,
      "outputs": [
        {
          "output_type": "stream",
          "text": [
            "Minimum data:  2010-12-12\n",
            "Maximum data:  2011-12-10\n"
          ],
          "name": "stdout"
        }
      ]
    },
    {
      "cell_type": "code",
      "metadata": {
        "id": "wS3F7NzbuKpe",
        "colab_type": "code",
        "colab": {
          "base_uri": "https://localhost:8080/",
          "height": 86
        },
        "outputId": "d8a62374-cba6-4ddb-bfee-eba84ed2bed5"
      },
      "source": [
        "# Dados da base depois de pre-processdados\n",
        "print(\"SUMMARY:\")\n",
        "print(\"# transactions:\\t\\t\", uk_df['InvoiceNo'].nunique())\n",
        "print(\"# products bought:\\t\", uk_df['StockCode'].nunique())\n",
        "print(\"# customers:\\t\\t\", uk_df['CustomerID'].nunique())"
      ],
      "execution_count": 28,
      "outputs": [
        {
          "output_type": "stream",
          "text": [
            "SUMMARY:\n",
            "# transactions:\t\t 15859\n",
            "# products bought:\t 2443\n",
            "# customers:\t\t 3849\n"
          ],
          "name": "stdout"
        }
      ]
    },
    {
      "cell_type": "markdown",
      "metadata": {
        "id": "iLoeUBqqgI5k",
        "colab_type": "text"
      },
      "source": [
        "# Preparação dos Dados para Segmentação <br>\n",
        "\n",
        "Como citado anteriormente, o método utilizado para realizar a segmentação dos clientes será o RFM, que consiste nas métricas 1) Recency (R), 2) Frequency (F) e 3) Monetary value (M), que serão calculadas e agrupadas a partir deste ponto."
      ]
    },
    {
      "cell_type": "markdown",
      "metadata": {
        "id": "pcEFtHIVqd3W",
        "colab_type": "text"
      },
      "source": [
        "## Recency (R) <br>\n",
        "  Para calcular o recency precisamos pegar a data mais recente na base (data referência) e calcular o tempo decorrido (em dias) entre a última compra de cada consumidor e a nossa data referência."
      ]
    },
    {
      "cell_type": "code",
      "metadata": {
        "id": "VfotBfO5qd7h",
        "colab_type": "code",
        "colab": {
          "base_uri": "https://localhost:8080/",
          "height": 34
        },
        "outputId": "d26927d8-2857-4d68-a4cd-1fb4a2e3dbdf"
      },
      "source": [
        "# Data mais recente da base\n",
        "ref_date = uk_df['Date'].max()\n",
        "print(\"Data referência: \", ref_date)"
      ],
      "execution_count": 29,
      "outputs": [
        {
          "output_type": "stream",
          "text": [
            "Data referência:  2011-12-10\n"
          ],
          "name": "stdout"
        }
      ]
    },
    {
      "cell_type": "code",
      "metadata": {
        "id": "VMjNqLPtqd-4",
        "colab_type": "code",
        "colab": {
          "base_uri": "https://localhost:8080/",
          "height": 206
        },
        "outputId": "a215a593-da01-4277-81bb-6d69a4dc3ab3"
      },
      "source": [
        "# Agrupa os consumidores e extrai a data mais recente de compra de cada um\n",
        "recency_df = uk_df.groupby(by='CustomerID', as_index=False)['Date'].max()\n",
        "recency_df.columns = ['CustomerID', 'LastPurchaseDate']\n",
        "recency_df.head()"
      ],
      "execution_count": 30,
      "outputs": [
        {
          "output_type": "execute_result",
          "data": {
            "text/html": [
              "<div>\n",
              "<style scoped>\n",
              "    .dataframe tbody tr th:only-of-type {\n",
              "        vertical-align: middle;\n",
              "    }\n",
              "\n",
              "    .dataframe tbody tr th {\n",
              "        vertical-align: top;\n",
              "    }\n",
              "\n",
              "    .dataframe thead th {\n",
              "        text-align: right;\n",
              "    }\n",
              "</style>\n",
              "<table border=\"1\" class=\"dataframe\">\n",
              "  <thead>\n",
              "    <tr style=\"text-align: right;\">\n",
              "      <th></th>\n",
              "      <th>CustomerID</th>\n",
              "      <th>LastPurchaseDate</th>\n",
              "    </tr>\n",
              "  </thead>\n",
              "  <tbody>\n",
              "    <tr>\n",
              "      <th>0</th>\n",
              "      <td>12346.0</td>\n",
              "      <td>2011-01-18</td>\n",
              "    </tr>\n",
              "    <tr>\n",
              "      <th>1</th>\n",
              "      <td>12747.0</td>\n",
              "      <td>2011-11-17</td>\n",
              "    </tr>\n",
              "    <tr>\n",
              "      <th>2</th>\n",
              "      <td>12748.0</td>\n",
              "      <td>2011-12-05</td>\n",
              "    </tr>\n",
              "    <tr>\n",
              "      <th>3</th>\n",
              "      <td>12749.0</td>\n",
              "      <td>2011-11-17</td>\n",
              "    </tr>\n",
              "    <tr>\n",
              "      <th>4</th>\n",
              "      <td>12820.0</td>\n",
              "      <td>2011-10-26</td>\n",
              "    </tr>\n",
              "  </tbody>\n",
              "</table>\n",
              "</div>"
            ],
            "text/plain": [
              "   CustomerID LastPurchaseDate\n",
              "0     12346.0       2011-01-18\n",
              "1     12747.0       2011-11-17\n",
              "2     12748.0       2011-12-05\n",
              "3     12749.0       2011-11-17\n",
              "4     12820.0       2011-10-26"
            ]
          },
          "metadata": {
            "tags": []
          },
          "execution_count": 30
        }
      ]
    },
    {
      "cell_type": "code",
      "metadata": {
        "id": "LsQ57E840xT6",
        "colab_type": "code",
        "colab": {}
      },
      "source": [
        "# Modifica o tipo de dado para uma melhor visualização\n",
        "recency_df['CustomerID'] = recency_df['CustomerID'].astype(int)"
      ],
      "execution_count": 31,
      "outputs": []
    },
    {
      "cell_type": "code",
      "metadata": {
        "id": "ZMwhZZAD1hT3",
        "colab_type": "code",
        "colab": {
          "base_uri": "https://localhost:8080/",
          "height": 206
        },
        "outputId": "2defae47-8cd3-44a6-c4a0-61690cf4088c"
      },
      "source": [
        "# Calcula a recency\n",
        "recency_df['Recency'] = recency_df['LastPurchaseDate'].apply(lambda x: (ref_date - x).days)\n",
        "recency_df.head()"
      ],
      "execution_count": 32,
      "outputs": [
        {
          "output_type": "execute_result",
          "data": {
            "text/html": [
              "<div>\n",
              "<style scoped>\n",
              "    .dataframe tbody tr th:only-of-type {\n",
              "        vertical-align: middle;\n",
              "    }\n",
              "\n",
              "    .dataframe tbody tr th {\n",
              "        vertical-align: top;\n",
              "    }\n",
              "\n",
              "    .dataframe thead th {\n",
              "        text-align: right;\n",
              "    }\n",
              "</style>\n",
              "<table border=\"1\" class=\"dataframe\">\n",
              "  <thead>\n",
              "    <tr style=\"text-align: right;\">\n",
              "      <th></th>\n",
              "      <th>CustomerID</th>\n",
              "      <th>LastPurchaseDate</th>\n",
              "      <th>Recency</th>\n",
              "    </tr>\n",
              "  </thead>\n",
              "  <tbody>\n",
              "    <tr>\n",
              "      <th>0</th>\n",
              "      <td>12346</td>\n",
              "      <td>2011-01-18</td>\n",
              "      <td>326</td>\n",
              "    </tr>\n",
              "    <tr>\n",
              "      <th>1</th>\n",
              "      <td>12747</td>\n",
              "      <td>2011-11-17</td>\n",
              "      <td>23</td>\n",
              "    </tr>\n",
              "    <tr>\n",
              "      <th>2</th>\n",
              "      <td>12748</td>\n",
              "      <td>2011-12-05</td>\n",
              "      <td>5</td>\n",
              "    </tr>\n",
              "    <tr>\n",
              "      <th>3</th>\n",
              "      <td>12749</td>\n",
              "      <td>2011-11-17</td>\n",
              "      <td>23</td>\n",
              "    </tr>\n",
              "    <tr>\n",
              "      <th>4</th>\n",
              "      <td>12820</td>\n",
              "      <td>2011-10-26</td>\n",
              "      <td>45</td>\n",
              "    </tr>\n",
              "  </tbody>\n",
              "</table>\n",
              "</div>"
            ],
            "text/plain": [
              "   CustomerID LastPurchaseDate  Recency\n",
              "0       12346       2011-01-18      326\n",
              "1       12747       2011-11-17       23\n",
              "2       12748       2011-12-05        5\n",
              "3       12749       2011-11-17       23\n",
              "4       12820       2011-10-26       45"
            ]
          },
          "metadata": {
            "tags": []
          },
          "execution_count": 32
        }
      ]
    },
    {
      "cell_type": "code",
      "metadata": {
        "id": "bpkBa1Oz23Z6",
        "colab_type": "code",
        "colab": {
          "base_uri": "https://localhost:8080/",
          "height": 206
        },
        "outputId": "b8832744-a8b3-4526-ae96-f0de5d10aa1d"
      },
      "source": [
        "# Apaga a coluna 'LastPurchaseDate' jáá que não será mais usada\n",
        "recency_df = recency_df.drop('LastPurchaseDate', axis=1)\n",
        "recency_df.head()"
      ],
      "execution_count": 33,
      "outputs": [
        {
          "output_type": "execute_result",
          "data": {
            "text/html": [
              "<div>\n",
              "<style scoped>\n",
              "    .dataframe tbody tr th:only-of-type {\n",
              "        vertical-align: middle;\n",
              "    }\n",
              "\n",
              "    .dataframe tbody tr th {\n",
              "        vertical-align: top;\n",
              "    }\n",
              "\n",
              "    .dataframe thead th {\n",
              "        text-align: right;\n",
              "    }\n",
              "</style>\n",
              "<table border=\"1\" class=\"dataframe\">\n",
              "  <thead>\n",
              "    <tr style=\"text-align: right;\">\n",
              "      <th></th>\n",
              "      <th>CustomerID</th>\n",
              "      <th>Recency</th>\n",
              "    </tr>\n",
              "  </thead>\n",
              "  <tbody>\n",
              "    <tr>\n",
              "      <th>0</th>\n",
              "      <td>12346</td>\n",
              "      <td>326</td>\n",
              "    </tr>\n",
              "    <tr>\n",
              "      <th>1</th>\n",
              "      <td>12747</td>\n",
              "      <td>23</td>\n",
              "    </tr>\n",
              "    <tr>\n",
              "      <th>2</th>\n",
              "      <td>12748</td>\n",
              "      <td>5</td>\n",
              "    </tr>\n",
              "    <tr>\n",
              "      <th>3</th>\n",
              "      <td>12749</td>\n",
              "      <td>23</td>\n",
              "    </tr>\n",
              "    <tr>\n",
              "      <th>4</th>\n",
              "      <td>12820</td>\n",
              "      <td>45</td>\n",
              "    </tr>\n",
              "  </tbody>\n",
              "</table>\n",
              "</div>"
            ],
            "text/plain": [
              "   CustomerID  Recency\n",
              "0       12346      326\n",
              "1       12747       23\n",
              "2       12748        5\n",
              "3       12749       23\n",
              "4       12820       45"
            ]
          },
          "metadata": {
            "tags": []
          },
          "execution_count": 33
        }
      ]
    },
    {
      "cell_type": "markdown",
      "metadata": {
        "id": "xtWXhhBn23db",
        "colab_type": "text"
      },
      "source": [
        "## Frequency (F) <br>\n",
        "  A métrica frequency identifica o número de compras feitas por cada cliente. Esse valor pode ser obtido aqui através da quantidade de 'InvoiceNo' por cliente."
      ]
    },
    {
      "cell_type": "code",
      "metadata": {
        "id": "gbeRaU4e23rR",
        "colab_type": "code",
        "colab": {
          "base_uri": "https://localhost:8080/",
          "height": 206
        },
        "outputId": "6aff866e-dcda-4f78-d51c-40651c6fa858"
      },
      "source": [
        "frequency_df = uk_df.groupby(by=['CustomerID'], as_index=False)['InvoiceNo'].count()\n",
        "frequency_df.columns = ['CustomerID', 'Frequency']\n",
        "frequency_df.head()"
      ],
      "execution_count": 34,
      "outputs": [
        {
          "output_type": "execute_result",
          "data": {
            "text/html": [
              "<div>\n",
              "<style scoped>\n",
              "    .dataframe tbody tr th:only-of-type {\n",
              "        vertical-align: middle;\n",
              "    }\n",
              "\n",
              "    .dataframe tbody tr th {\n",
              "        vertical-align: top;\n",
              "    }\n",
              "\n",
              "    .dataframe thead th {\n",
              "        text-align: right;\n",
              "    }\n",
              "</style>\n",
              "<table border=\"1\" class=\"dataframe\">\n",
              "  <thead>\n",
              "    <tr style=\"text-align: right;\">\n",
              "      <th></th>\n",
              "      <th>CustomerID</th>\n",
              "      <th>Frequency</th>\n",
              "    </tr>\n",
              "  </thead>\n",
              "  <tbody>\n",
              "    <tr>\n",
              "      <th>0</th>\n",
              "      <td>12346.0</td>\n",
              "      <td>1</td>\n",
              "    </tr>\n",
              "    <tr>\n",
              "      <th>1</th>\n",
              "      <td>12747.0</td>\n",
              "      <td>10</td>\n",
              "    </tr>\n",
              "    <tr>\n",
              "      <th>2</th>\n",
              "      <td>12748.0</td>\n",
              "      <td>186</td>\n",
              "    </tr>\n",
              "    <tr>\n",
              "      <th>3</th>\n",
              "      <td>12749.0</td>\n",
              "      <td>5</td>\n",
              "    </tr>\n",
              "    <tr>\n",
              "      <th>4</th>\n",
              "      <td>12820.0</td>\n",
              "      <td>4</td>\n",
              "    </tr>\n",
              "  </tbody>\n",
              "</table>\n",
              "</div>"
            ],
            "text/plain": [
              "   CustomerID  Frequency\n",
              "0     12346.0          1\n",
              "1     12747.0         10\n",
              "2     12748.0        186\n",
              "3     12749.0          5\n",
              "4     12820.0          4"
            ]
          },
          "metadata": {
            "tags": []
          },
          "execution_count": 34
        }
      ]
    },
    {
      "cell_type": "code",
      "metadata": {
        "id": "PHEiETsg5Gyy",
        "colab_type": "code",
        "colab": {}
      },
      "source": [
        "# Modifica o tipo de dado para uma melhor visualização\n",
        "frequency_df['CustomerID'] = frequency_df['CustomerID'].astype(int)"
      ],
      "execution_count": 35,
      "outputs": []
    },
    {
      "cell_type": "markdown",
      "metadata": {
        "id": "oGBb5Lp95G2e",
        "colab_type": "text"
      },
      "source": [
        "## Monetary value (M) <br>\n",
        "  Consiste no montante total gasto pelo cliente. Ela será obtida através da soma do montante gerado por cada compra."
      ]
    },
    {
      "cell_type": "code",
      "metadata": {
        "id": "cXIvD2OZ87xs",
        "colab_type": "code",
        "colab": {
          "base_uri": "https://localhost:8080/",
          "height": 310
        },
        "outputId": "7522c434-9a02-42fc-c09b-2e3a433f1f99"
      },
      "source": [
        "# Cria coluna com o montante por compra\n",
        "uk_df['Amount'] = uk_df['Quantity'] * uk_df['UnitPrice'].values\n",
        "uk_df.tail()"
      ],
      "execution_count": 36,
      "outputs": [
        {
          "output_type": "stream",
          "text": [
            "/usr/local/lib/python3.6/dist-packages/ipykernel_launcher.py:2: SettingWithCopyWarning: \n",
            "A value is trying to be set on a copy of a slice from a DataFrame.\n",
            "Try using .loc[row_indexer,col_indexer] = value instead\n",
            "\n",
            "See the caveats in the documentation: https://pandas.pydata.org/pandas-docs/stable/user_guide/indexing.html#returning-a-view-versus-a-copy\n",
            "  \n"
          ],
          "name": "stderr"
        },
        {
          "output_type": "execute_result",
          "data": {
            "text/html": [
              "<div>\n",
              "<style scoped>\n",
              "    .dataframe tbody tr th:only-of-type {\n",
              "        vertical-align: middle;\n",
              "    }\n",
              "\n",
              "    .dataframe tbody tr th {\n",
              "        vertical-align: top;\n",
              "    }\n",
              "\n",
              "    .dataframe thead th {\n",
              "        text-align: right;\n",
              "    }\n",
              "</style>\n",
              "<table border=\"1\" class=\"dataframe\">\n",
              "  <thead>\n",
              "    <tr style=\"text-align: right;\">\n",
              "      <th></th>\n",
              "      <th>InvoiceNo</th>\n",
              "      <th>StockCode</th>\n",
              "      <th>Description</th>\n",
              "      <th>Quantity</th>\n",
              "      <th>InvoiceDate</th>\n",
              "      <th>UnitPrice</th>\n",
              "      <th>CustomerID</th>\n",
              "      <th>Country</th>\n",
              "      <th>Date</th>\n",
              "      <th>Amount</th>\n",
              "    </tr>\n",
              "  </thead>\n",
              "  <tbody>\n",
              "    <tr>\n",
              "      <th>541863</th>\n",
              "      <td>581582</td>\n",
              "      <td>23552</td>\n",
              "      <td>BICYCLE PUNCTURE REPAIR KIT</td>\n",
              "      <td>6</td>\n",
              "      <td>09-12-2011 12:21</td>\n",
              "      <td>2.08</td>\n",
              "      <td>17581.0</td>\n",
              "      <td>United Kingdom</td>\n",
              "      <td>2011-09-12</td>\n",
              "      <td>12.48</td>\n",
              "    </tr>\n",
              "    <tr>\n",
              "      <th>541865</th>\n",
              "      <td>581583</td>\n",
              "      <td>20725</td>\n",
              "      <td>LUNCH BAG RED RETROSPOT</td>\n",
              "      <td>40</td>\n",
              "      <td>09-12-2011 12:23</td>\n",
              "      <td>1.45</td>\n",
              "      <td>13777.0</td>\n",
              "      <td>United Kingdom</td>\n",
              "      <td>2011-09-12</td>\n",
              "      <td>58.00</td>\n",
              "    </tr>\n",
              "    <tr>\n",
              "      <th>541867</th>\n",
              "      <td>581584</td>\n",
              "      <td>20832</td>\n",
              "      <td>RED FLOCK LOVE HEART PHOTO FRAME</td>\n",
              "      <td>72</td>\n",
              "      <td>09-12-2011 12:25</td>\n",
              "      <td>0.72</td>\n",
              "      <td>13777.0</td>\n",
              "      <td>United Kingdom</td>\n",
              "      <td>2011-09-12</td>\n",
              "      <td>51.84</td>\n",
              "    </tr>\n",
              "    <tr>\n",
              "      <th>541869</th>\n",
              "      <td>581585</td>\n",
              "      <td>22481</td>\n",
              "      <td>BLACK TEA TOWEL CLASSIC DESIGN</td>\n",
              "      <td>12</td>\n",
              "      <td>09-12-2011 12:31</td>\n",
              "      <td>0.39</td>\n",
              "      <td>15804.0</td>\n",
              "      <td>United Kingdom</td>\n",
              "      <td>2011-09-12</td>\n",
              "      <td>4.68</td>\n",
              "    </tr>\n",
              "    <tr>\n",
              "      <th>541890</th>\n",
              "      <td>581586</td>\n",
              "      <td>22061</td>\n",
              "      <td>LARGE CAKE STAND  HANGING STRAWBERY</td>\n",
              "      <td>8</td>\n",
              "      <td>09-12-2011 12:49</td>\n",
              "      <td>2.95</td>\n",
              "      <td>13113.0</td>\n",
              "      <td>United Kingdom</td>\n",
              "      <td>2011-09-12</td>\n",
              "      <td>23.60</td>\n",
              "    </tr>\n",
              "  </tbody>\n",
              "</table>\n",
              "</div>"
            ],
            "text/plain": [
              "       InvoiceNo StockCode  ...        Date  Amount\n",
              "541863    581582     23552  ...  2011-09-12   12.48\n",
              "541865    581583     20725  ...  2011-09-12   58.00\n",
              "541867    581584     20832  ...  2011-09-12   51.84\n",
              "541869    581585     22481  ...  2011-09-12    4.68\n",
              "541890    581586     22061  ...  2011-09-12   23.60\n",
              "\n",
              "[5 rows x 10 columns]"
            ]
          },
          "metadata": {
            "tags": []
          },
          "execution_count": 36
        }
      ]
    },
    {
      "cell_type": "code",
      "metadata": {
        "id": "Pt0vkQ505G5K",
        "colab_type": "code",
        "colab": {
          "base_uri": "https://localhost:8080/",
          "height": 206
        },
        "outputId": "592f89a3-eccb-4357-a970-f0226104230c"
      },
      "source": [
        "monetary_df = uk_df.groupby(by=['CustomerID'], as_index=False)['Amount'].sum()\n",
        "monetary_df.columns = ['CustomerID', 'Monetary']\n",
        "monetary_df.head()"
      ],
      "execution_count": 37,
      "outputs": [
        {
          "output_type": "execute_result",
          "data": {
            "text/html": [
              "<div>\n",
              "<style scoped>\n",
              "    .dataframe tbody tr th:only-of-type {\n",
              "        vertical-align: middle;\n",
              "    }\n",
              "\n",
              "    .dataframe tbody tr th {\n",
              "        vertical-align: top;\n",
              "    }\n",
              "\n",
              "    .dataframe thead th {\n",
              "        text-align: right;\n",
              "    }\n",
              "</style>\n",
              "<table border=\"1\" class=\"dataframe\">\n",
              "  <thead>\n",
              "    <tr style=\"text-align: right;\">\n",
              "      <th></th>\n",
              "      <th>CustomerID</th>\n",
              "      <th>Monetary</th>\n",
              "    </tr>\n",
              "  </thead>\n",
              "  <tbody>\n",
              "    <tr>\n",
              "      <th>0</th>\n",
              "      <td>12346.0</td>\n",
              "      <td>77183.60</td>\n",
              "    </tr>\n",
              "    <tr>\n",
              "      <th>1</th>\n",
              "      <td>12747.0</td>\n",
              "      <td>658.89</td>\n",
              "    </tr>\n",
              "    <tr>\n",
              "      <th>2</th>\n",
              "      <td>12748.0</td>\n",
              "      <td>3499.03</td>\n",
              "    </tr>\n",
              "    <tr>\n",
              "      <th>3</th>\n",
              "      <td>12749.0</td>\n",
              "      <td>98.35</td>\n",
              "    </tr>\n",
              "    <tr>\n",
              "      <th>4</th>\n",
              "      <td>12820.0</td>\n",
              "      <td>58.20</td>\n",
              "    </tr>\n",
              "  </tbody>\n",
              "</table>\n",
              "</div>"
            ],
            "text/plain": [
              "   CustomerID  Monetary\n",
              "0     12346.0  77183.60\n",
              "1     12747.0    658.89\n",
              "2     12748.0   3499.03\n",
              "3     12749.0     98.35\n",
              "4     12820.0     58.20"
            ]
          },
          "metadata": {
            "tags": []
          },
          "execution_count": 37
        }
      ]
    },
    {
      "cell_type": "code",
      "metadata": {
        "id": "M20ee-kC-iXj",
        "colab_type": "code",
        "colab": {
          "base_uri": "https://localhost:8080/",
          "height": 81
        },
        "outputId": "3e8c1b45-b1e4-4da5-e2ce-06ba96880b25"
      },
      "source": [
        "# Verificacao de informacoes\n",
        "uk_df[uk_df['CustomerID'] == 12346.0]"
      ],
      "execution_count": 38,
      "outputs": [
        {
          "output_type": "execute_result",
          "data": {
            "text/html": [
              "<div>\n",
              "<style scoped>\n",
              "    .dataframe tbody tr th:only-of-type {\n",
              "        vertical-align: middle;\n",
              "    }\n",
              "\n",
              "    .dataframe tbody tr th {\n",
              "        vertical-align: top;\n",
              "    }\n",
              "\n",
              "    .dataframe thead th {\n",
              "        text-align: right;\n",
              "    }\n",
              "</style>\n",
              "<table border=\"1\" class=\"dataframe\">\n",
              "  <thead>\n",
              "    <tr style=\"text-align: right;\">\n",
              "      <th></th>\n",
              "      <th>InvoiceNo</th>\n",
              "      <th>StockCode</th>\n",
              "      <th>Description</th>\n",
              "      <th>Quantity</th>\n",
              "      <th>InvoiceDate</th>\n",
              "      <th>UnitPrice</th>\n",
              "      <th>CustomerID</th>\n",
              "      <th>Country</th>\n",
              "      <th>Date</th>\n",
              "      <th>Amount</th>\n",
              "    </tr>\n",
              "  </thead>\n",
              "  <tbody>\n",
              "    <tr>\n",
              "      <th>61619</th>\n",
              "      <td>541431</td>\n",
              "      <td>23166</td>\n",
              "      <td>MEDIUM CERAMIC TOP STORAGE JAR</td>\n",
              "      <td>74215</td>\n",
              "      <td>18-01-2011 10:01</td>\n",
              "      <td>1.04</td>\n",
              "      <td>12346.0</td>\n",
              "      <td>United Kingdom</td>\n",
              "      <td>2011-01-18</td>\n",
              "      <td>77183.6</td>\n",
              "    </tr>\n",
              "  </tbody>\n",
              "</table>\n",
              "</div>"
            ],
            "text/plain": [
              "      InvoiceNo StockCode  ...        Date   Amount\n",
              "61619    541431     23166  ...  2011-01-18  77183.6\n",
              "\n",
              "[1 rows x 10 columns]"
            ]
          },
          "metadata": {
            "tags": []
          },
          "execution_count": 38
        }
      ]
    },
    {
      "cell_type": "code",
      "metadata": {
        "id": "X8X4g7VO_J4x",
        "colab_type": "code",
        "colab": {
          "base_uri": "https://localhost:8080/",
          "height": 175
        },
        "outputId": "eb647d18-83b4-4c04-a43c-4cab1881c9dd"
      },
      "source": [
        "# Verificacao de informacoes\n",
        "uk_df[uk_df['CustomerID'] == 12820.0]"
      ],
      "execution_count": 39,
      "outputs": [
        {
          "output_type": "execute_result",
          "data": {
            "text/html": [
              "<div>\n",
              "<style scoped>\n",
              "    .dataframe tbody tr th:only-of-type {\n",
              "        vertical-align: middle;\n",
              "    }\n",
              "\n",
              "    .dataframe tbody tr th {\n",
              "        vertical-align: top;\n",
              "    }\n",
              "\n",
              "    .dataframe thead th {\n",
              "        text-align: right;\n",
              "    }\n",
              "</style>\n",
              "<table border=\"1\" class=\"dataframe\">\n",
              "  <thead>\n",
              "    <tr style=\"text-align: right;\">\n",
              "      <th></th>\n",
              "      <th>InvoiceNo</th>\n",
              "      <th>StockCode</th>\n",
              "      <th>Description</th>\n",
              "      <th>Quantity</th>\n",
              "      <th>InvoiceDate</th>\n",
              "      <th>UnitPrice</th>\n",
              "      <th>CustomerID</th>\n",
              "      <th>Country</th>\n",
              "      <th>Date</th>\n",
              "      <th>Amount</th>\n",
              "    </tr>\n",
              "  </thead>\n",
              "  <tbody>\n",
              "    <tr>\n",
              "      <th>59368</th>\n",
              "      <td>541283</td>\n",
              "      <td>21977</td>\n",
              "      <td>PACK OF 60 PINK PAISLEY CAKE CASES</td>\n",
              "      <td>24</td>\n",
              "      <td>17-01-2011 12:34</td>\n",
              "      <td>0.55</td>\n",
              "      <td>12820.0</td>\n",
              "      <td>United Kingdom</td>\n",
              "      <td>2011-01-17</td>\n",
              "      <td>13.2</td>\n",
              "    </tr>\n",
              "    <tr>\n",
              "      <th>360567</th>\n",
              "      <td>568236</td>\n",
              "      <td>23328</td>\n",
              "      <td>SET 6 SCHOOL MILK BOTTLES IN CRATE</td>\n",
              "      <td>4</td>\n",
              "      <td>26-09-2011 11:49</td>\n",
              "      <td>3.75</td>\n",
              "      <td>12820.0</td>\n",
              "      <td>United Kingdom</td>\n",
              "      <td>2011-09-26</td>\n",
              "      <td>15.0</td>\n",
              "    </tr>\n",
              "    <tr>\n",
              "      <th>420111</th>\n",
              "      <td>572873</td>\n",
              "      <td>23436</td>\n",
              "      <td>VINTAGE CHRISTMAS GIFT BAG LARGE</td>\n",
              "      <td>12</td>\n",
              "      <td>26-10-2011 13:27</td>\n",
              "      <td>1.25</td>\n",
              "      <td>12820.0</td>\n",
              "      <td>United Kingdom</td>\n",
              "      <td>2011-10-26</td>\n",
              "      <td>15.0</td>\n",
              "    </tr>\n",
              "    <tr>\n",
              "      <th>531846</th>\n",
              "      <td>580973</td>\n",
              "      <td>21098</td>\n",
              "      <td>CHRISTMAS TOILET ROLL</td>\n",
              "      <td>12</td>\n",
              "      <td>06-12-2011 15:12</td>\n",
              "      <td>1.25</td>\n",
              "      <td>12820.0</td>\n",
              "      <td>United Kingdom</td>\n",
              "      <td>2011-06-12</td>\n",
              "      <td>15.0</td>\n",
              "    </tr>\n",
              "  </tbody>\n",
              "</table>\n",
              "</div>"
            ],
            "text/plain": [
              "       InvoiceNo StockCode  ...        Date  Amount\n",
              "59368     541283     21977  ...  2011-01-17    13.2\n",
              "360567    568236     23328  ...  2011-09-26    15.0\n",
              "420111    572873     23436  ...  2011-10-26    15.0\n",
              "531846    580973     21098  ...  2011-06-12    15.0\n",
              "\n",
              "[4 rows x 10 columns]"
            ]
          },
          "metadata": {
            "tags": []
          },
          "execution_count": 39
        }
      ]
    },
    {
      "cell_type": "code",
      "metadata": {
        "id": "FpoLZgPF_YeM",
        "colab_type": "code",
        "colab": {}
      },
      "source": [
        "# Modifica o tipo de dado para uma melhor visualização\n",
        "frequency_df['CustomerID'] = frequency_df['CustomerID'].astype(int)"
      ],
      "execution_count": 40,
      "outputs": []
    },
    {
      "cell_type": "markdown",
      "metadata": {
        "id": "yioRtZVVAvim",
        "colab_type": "text"
      },
      "source": [
        "### Concatenação de tabelas das métricas individuais"
      ]
    },
    {
      "cell_type": "code",
      "metadata": {
        "id": "j4ykVA5FAvmR",
        "colab_type": "code",
        "colab": {
          "base_uri": "https://localhost:8080/",
          "height": 206
        },
        "outputId": "a9a23cf5-36a7-4c9b-a560-0d3055ed694a"
      },
      "source": [
        "# Concatena recency e frequency em uma tabela temporaria\n",
        "temp_df = recency_df.merge(frequency_df, on='CustomerID')\n",
        "temp_df.head()"
      ],
      "execution_count": 41,
      "outputs": [
        {
          "output_type": "execute_result",
          "data": {
            "text/html": [
              "<div>\n",
              "<style scoped>\n",
              "    .dataframe tbody tr th:only-of-type {\n",
              "        vertical-align: middle;\n",
              "    }\n",
              "\n",
              "    .dataframe tbody tr th {\n",
              "        vertical-align: top;\n",
              "    }\n",
              "\n",
              "    .dataframe thead th {\n",
              "        text-align: right;\n",
              "    }\n",
              "</style>\n",
              "<table border=\"1\" class=\"dataframe\">\n",
              "  <thead>\n",
              "    <tr style=\"text-align: right;\">\n",
              "      <th></th>\n",
              "      <th>CustomerID</th>\n",
              "      <th>Recency</th>\n",
              "      <th>Frequency</th>\n",
              "    </tr>\n",
              "  </thead>\n",
              "  <tbody>\n",
              "    <tr>\n",
              "      <th>0</th>\n",
              "      <td>12346</td>\n",
              "      <td>326</td>\n",
              "      <td>1</td>\n",
              "    </tr>\n",
              "    <tr>\n",
              "      <th>1</th>\n",
              "      <td>12747</td>\n",
              "      <td>23</td>\n",
              "      <td>10</td>\n",
              "    </tr>\n",
              "    <tr>\n",
              "      <th>2</th>\n",
              "      <td>12748</td>\n",
              "      <td>5</td>\n",
              "      <td>186</td>\n",
              "    </tr>\n",
              "    <tr>\n",
              "      <th>3</th>\n",
              "      <td>12749</td>\n",
              "      <td>23</td>\n",
              "      <td>5</td>\n",
              "    </tr>\n",
              "    <tr>\n",
              "      <th>4</th>\n",
              "      <td>12820</td>\n",
              "      <td>45</td>\n",
              "      <td>4</td>\n",
              "    </tr>\n",
              "  </tbody>\n",
              "</table>\n",
              "</div>"
            ],
            "text/plain": [
              "   CustomerID  Recency  Frequency\n",
              "0       12346      326          1\n",
              "1       12747       23         10\n",
              "2       12748        5        186\n",
              "3       12749       23          5\n",
              "4       12820       45          4"
            ]
          },
          "metadata": {
            "tags": []
          },
          "execution_count": 41
        }
      ]
    },
    {
      "cell_type": "code",
      "metadata": {
        "id": "MMteABWMBSdM",
        "colab_type": "code",
        "colab": {
          "base_uri": "https://localhost:8080/",
          "height": 206
        },
        "outputId": "48de13e4-65e7-4af3-8fa0-b04934bc4260"
      },
      "source": [
        "# Concatena a tabela temporaria anterior com a monetary\n",
        "rfm_df = temp_df.merge(monetary_df, on='CustomerID')\n",
        "rfm_df.head()"
      ],
      "execution_count": 42,
      "outputs": [
        {
          "output_type": "execute_result",
          "data": {
            "text/html": [
              "<div>\n",
              "<style scoped>\n",
              "    .dataframe tbody tr th:only-of-type {\n",
              "        vertical-align: middle;\n",
              "    }\n",
              "\n",
              "    .dataframe tbody tr th {\n",
              "        vertical-align: top;\n",
              "    }\n",
              "\n",
              "    .dataframe thead th {\n",
              "        text-align: right;\n",
              "    }\n",
              "</style>\n",
              "<table border=\"1\" class=\"dataframe\">\n",
              "  <thead>\n",
              "    <tr style=\"text-align: right;\">\n",
              "      <th></th>\n",
              "      <th>CustomerID</th>\n",
              "      <th>Recency</th>\n",
              "      <th>Frequency</th>\n",
              "      <th>Monetary</th>\n",
              "    </tr>\n",
              "  </thead>\n",
              "  <tbody>\n",
              "    <tr>\n",
              "      <th>0</th>\n",
              "      <td>12346</td>\n",
              "      <td>326</td>\n",
              "      <td>1</td>\n",
              "      <td>77183.60</td>\n",
              "    </tr>\n",
              "    <tr>\n",
              "      <th>1</th>\n",
              "      <td>12747</td>\n",
              "      <td>23</td>\n",
              "      <td>10</td>\n",
              "      <td>658.89</td>\n",
              "    </tr>\n",
              "    <tr>\n",
              "      <th>2</th>\n",
              "      <td>12748</td>\n",
              "      <td>5</td>\n",
              "      <td>186</td>\n",
              "      <td>3499.03</td>\n",
              "    </tr>\n",
              "    <tr>\n",
              "      <th>3</th>\n",
              "      <td>12749</td>\n",
              "      <td>23</td>\n",
              "      <td>5</td>\n",
              "      <td>98.35</td>\n",
              "    </tr>\n",
              "    <tr>\n",
              "      <th>4</th>\n",
              "      <td>12820</td>\n",
              "      <td>45</td>\n",
              "      <td>4</td>\n",
              "      <td>58.20</td>\n",
              "    </tr>\n",
              "  </tbody>\n",
              "</table>\n",
              "</div>"
            ],
            "text/plain": [
              "   CustomerID  Recency  Frequency  Monetary\n",
              "0       12346      326          1  77183.60\n",
              "1       12747       23         10    658.89\n",
              "2       12748        5        186   3499.03\n",
              "3       12749       23          5     98.35\n",
              "4       12820       45          4     58.20"
            ]
          },
          "metadata": {
            "tags": []
          },
          "execution_count": 42
        }
      ]
    },
    {
      "cell_type": "code",
      "metadata": {
        "id": "ZMpY30efBSiW",
        "colab_type": "code",
        "colab": {
          "base_uri": "https://localhost:8080/",
          "height": 206
        },
        "outputId": "3e01b8ab-41f1-4c99-9ddd-03f4632de1c1"
      },
      "source": [
        "# Verificacao da corretude das informacoes\n",
        "uk_df[uk_df['CustomerID'] == 12749.0]"
      ],
      "execution_count": 43,
      "outputs": [
        {
          "output_type": "execute_result",
          "data": {
            "text/html": [
              "<div>\n",
              "<style scoped>\n",
              "    .dataframe tbody tr th:only-of-type {\n",
              "        vertical-align: middle;\n",
              "    }\n",
              "\n",
              "    .dataframe tbody tr th {\n",
              "        vertical-align: top;\n",
              "    }\n",
              "\n",
              "    .dataframe thead th {\n",
              "        text-align: right;\n",
              "    }\n",
              "</style>\n",
              "<table border=\"1\" class=\"dataframe\">\n",
              "  <thead>\n",
              "    <tr style=\"text-align: right;\">\n",
              "      <th></th>\n",
              "      <th>InvoiceNo</th>\n",
              "      <th>StockCode</th>\n",
              "      <th>Description</th>\n",
              "      <th>Quantity</th>\n",
              "      <th>InvoiceDate</th>\n",
              "      <th>UnitPrice</th>\n",
              "      <th>CustomerID</th>\n",
              "      <th>Country</th>\n",
              "      <th>Date</th>\n",
              "      <th>Amount</th>\n",
              "    </tr>\n",
              "  </thead>\n",
              "  <tbody>\n",
              "    <tr>\n",
              "      <th>184487</th>\n",
              "      <td>552694</td>\n",
              "      <td>22768</td>\n",
              "      <td>FAMILY PHOTO FRAME CORNICE</td>\n",
              "      <td>2</td>\n",
              "      <td>10-05-2011 15:25</td>\n",
              "      <td>9.95</td>\n",
              "      <td>12749.0</td>\n",
              "      <td>United Kingdom</td>\n",
              "      <td>2011-10-05</td>\n",
              "      <td>19.90</td>\n",
              "    </tr>\n",
              "    <tr>\n",
              "      <th>285802</th>\n",
              "      <td>561926</td>\n",
              "      <td>22969</td>\n",
              "      <td>HOMEMADE JAM SCENTED CANDLES</td>\n",
              "      <td>12</td>\n",
              "      <td>01-08-2011 12:48</td>\n",
              "      <td>1.45</td>\n",
              "      <td>12749.0</td>\n",
              "      <td>United Kingdom</td>\n",
              "      <td>2011-01-08</td>\n",
              "      <td>17.40</td>\n",
              "    </tr>\n",
              "    <tr>\n",
              "      <th>285887</th>\n",
              "      <td>561928</td>\n",
              "      <td>23245</td>\n",
              "      <td>SET OF 3 REGENCY CAKE TINS</td>\n",
              "      <td>6</td>\n",
              "      <td>01-08-2011 12:50</td>\n",
              "      <td>4.95</td>\n",
              "      <td>12749.0</td>\n",
              "      <td>United Kingdom</td>\n",
              "      <td>2011-01-08</td>\n",
              "      <td>29.70</td>\n",
              "    </tr>\n",
              "    <tr>\n",
              "      <th>476296</th>\n",
              "      <td>577009</td>\n",
              "      <td>22720</td>\n",
              "      <td>SET OF 3 CAKE TINS PANTRY DESIGN</td>\n",
              "      <td>3</td>\n",
              "      <td>17-11-2011 12:05</td>\n",
              "      <td>4.95</td>\n",
              "      <td>12749.0</td>\n",
              "      <td>United Kingdom</td>\n",
              "      <td>2011-11-17</td>\n",
              "      <td>14.85</td>\n",
              "    </tr>\n",
              "    <tr>\n",
              "      <th>529701</th>\n",
              "      <td>580750</td>\n",
              "      <td>23583</td>\n",
              "      <td>LUNCH BAG PAISLEY PARK</td>\n",
              "      <td>10</td>\n",
              "      <td>06-12-2011 09:56</td>\n",
              "      <td>1.65</td>\n",
              "      <td>12749.0</td>\n",
              "      <td>United Kingdom</td>\n",
              "      <td>2011-06-12</td>\n",
              "      <td>16.50</td>\n",
              "    </tr>\n",
              "  </tbody>\n",
              "</table>\n",
              "</div>"
            ],
            "text/plain": [
              "       InvoiceNo StockCode  ...        Date  Amount\n",
              "184487    552694     22768  ...  2011-10-05   19.90\n",
              "285802    561926     22969  ...  2011-01-08   17.40\n",
              "285887    561928     23245  ...  2011-01-08   29.70\n",
              "476296    577009     22720  ...  2011-11-17   14.85\n",
              "529701    580750     23583  ...  2011-06-12   16.50\n",
              "\n",
              "[5 rows x 10 columns]"
            ]
          },
          "metadata": {
            "tags": []
          },
          "execution_count": 43
        }
      ]
    },
    {
      "cell_type": "code",
      "metadata": {
        "id": "-Q4u_gupBSgs",
        "colab_type": "code",
        "colab": {
          "base_uri": "https://localhost:8080/",
          "height": 52
        },
        "outputId": "6ed27af1-5ba3-433d-f32b-493da45d4a65"
      },
      "source": [
        "print(\"Amount sum: \", uk_df[uk_df['CustomerID'] == 12749.0]['Amount'].sum())\n",
        "print(\"Diff days: \", (ref_date - datetime.date(2011,11,17)).days)"
      ],
      "execution_count": 44,
      "outputs": [
        {
          "output_type": "stream",
          "text": [
            "Amount sum:  98.35\n",
            "Diff days:  23\n"
          ],
          "name": "stdout"
        }
      ]
    },
    {
      "cell_type": "markdown",
      "metadata": {
        "id": "g1cB_QgLm0Xe",
        "colab_type": "text"
      },
      "source": [
        "## Avaliação e Remoção de *Outliers* <br>\n",
        "\n",
        "Antes de realizar a segmentação (próxima etapa), precisa ser feita uma análise acerca de *outliers*, pois são dados que comprometem a acurácia das estimativas de segmentos, principalmente se houver uso de modelos de aprendizagem de máquina. A técnica de remoção de outliers utilizada será a conhecida regra estatística: <br>\n",
        "  - $low\\_outliers < Q1 - 1.5 * IQR$\n",
        "  - $high\\_outliers > Q3 + 1.5 * IQR$, onde $Q1$ e $Q3$ correspondem, respectivamente ao primeiro e terceiro quartile e o $IQR$ à métrica de dispersão *Interquartile Range*."
      ]
    },
    {
      "cell_type": "code",
      "metadata": {
        "id": "CUdGV6JkE9JI",
        "colab_type": "code",
        "colab": {
          "base_uri": "https://localhost:8080/",
          "height": 531
        },
        "outputId": "4eb536cb-99cc-4180-af84-9c51804620f1"
      },
      "source": [
        "# Analise de outliers para Recency, Frequency e Monetary\n",
        "\n",
        "attributes = ['Frequency','Recency', 'Monetary']\n",
        "plt.rcParams['figure.figsize'] = [10,8]\n",
        "sns.boxplot(data=rfm_df[attributes], orient=\"h\",palette=\"Set3\" , whis=1.0, saturation=1, width=0.7)\n",
        "plt.title(\"Outliers  Distribution\", fontsize = 14, fontweight='bold')\n",
        "plt.ylabel(\"Range\", fontweight='bold')\n",
        "plt.xlabel(\"Attributes\", fontweight='bold')"
      ],
      "execution_count": 45,
      "outputs": [
        {
          "output_type": "execute_result",
          "data": {
            "text/plain": [
              "Text(0.5, 0, 'Attributes')"
            ]
          },
          "metadata": {
            "tags": []
          },
          "execution_count": 45
        },
        {
          "output_type": "display_data",
          "data": {
            "image/png": "[encoded data removed]",
            "text/plain": [
              "<Figure size 720x576 with 1 Axes>"
            ]
          },
          "metadata": {
            "tags": [],
            "needs_background": "light"
          }
        }
      ]
    },
    {
      "cell_type": "markdown",
      "metadata": {
        "id": "G2iRgM2IGHpi",
        "colab_type": "text"
      },
      "source": [
        "Como podemos observar no gráfico acima (um box-and-plot, ideal para visualização de *outliers*), há presença de *outliers* na nossa base."
      ]
    },
    {
      "cell_type": "code",
      "metadata": {
        "id": "HmRX3nWUlw6T",
        "colab_type": "code",
        "colab": {}
      },
      "source": [
        "# Cria tabela com remocao de outliers para analises posteriores com com e sem remocao\n",
        "rfm_df_no_outlier = rfm_df.copy()\n",
        "rfm_df_w_outlier = rfm_df.copy()"
      ],
      "execution_count": 46,
      "outputs": []
    },
    {
      "cell_type": "code",
      "metadata": {
        "id": "MtzM08lmCda4",
        "colab_type": "code",
        "colab": {}
      },
      "source": [
        "def remove_outliers(df, col):\n",
        "  \"\"\"\n",
        "  Funcao para remocao de outliers\n",
        "  \"\"\"\n",
        "  Q1 = df[col].quantile(0.25) # primeiro quartile (25%)\n",
        "  Q3 = df[col].quantile(0.75) # terceiro quartile (75%)\n",
        "\n",
        "  IQR = Q3 - Q1 # calcula interquartile range\n",
        "\n",
        "  # Remove\n",
        "  df = df[(df[col] >= Q1 - 1.5 * IQR) & (df[col] <= Q3 + 1.5 * IQR)]\n",
        "  \n",
        "  return df"
      ],
      "execution_count": 47,
      "outputs": []
    },
    {
      "cell_type": "code",
      "metadata": {
        "id": "lLILjV0lGHvS",
        "colab_type": "code",
        "colab": {
          "base_uri": "https://localhost:8080/",
          "height": 52
        },
        "outputId": "ae80eef1-635a-4cf1-bdb8-5ba03eaa5555"
      },
      "source": [
        "# Remove outliers em Recency\n",
        "print(\"Before outlier removing: \", rfm_df_no_outlier.shape)\n",
        "rfm_df_no_outlier = remove_outliers(rfm_df_no_outlier, 'Recency')\n",
        "print(\"After outlier removing: \", rfm_df_no_outlier.shape)"
      ],
      "execution_count": 48,
      "outputs": [
        {
          "output_type": "stream",
          "text": [
            "Before outlier removing:  (3849, 4)\n",
            "After outlier removing:  (3816, 4)\n"
          ],
          "name": "stdout"
        }
      ]
    },
    {
      "cell_type": "code",
      "metadata": {
        "id": "qWd5ButnGHtd",
        "colab_type": "code",
        "colab": {
          "base_uri": "https://localhost:8080/",
          "height": 52
        },
        "outputId": "02286b7f-705a-4d47-dc2c-1f0a6a5dfc86"
      },
      "source": [
        "# Remove outliers em Frequency\n",
        "print(\"Before outlier removing: \", rfm_df_no_outlier.shape)\n",
        "rfm_df_no_outlier = remove_outliers(rfm_df_no_outlier, 'Frequency')\n",
        "print(\"After outlier removing: \", rfm_df_no_outlier.shape)"
      ],
      "execution_count": 49,
      "outputs": [
        {
          "output_type": "stream",
          "text": [
            "Before outlier removing:  (3816, 4)\n",
            "After outlier removing:  (3585, 4)\n"
          ],
          "name": "stdout"
        }
      ]
    },
    {
      "cell_type": "code",
      "metadata": {
        "id": "8XEq4TIyKkX5",
        "colab_type": "code",
        "colab": {
          "base_uri": "https://localhost:8080/",
          "height": 52
        },
        "outputId": "b73a1b5c-77be-424a-8cd7-86f2b4005c53"
      },
      "source": [
        "# Remove outliers em Monetary\n",
        "print(\"Before outlier removing: \", rfm_df_no_outlier.shape)\n",
        "rfm_df_no_outlier = remove_outliers(rfm_df_no_outlier, 'Monetary')\n",
        "print(\"After outlier removing: \", rfm_df_no_outlier.shape)"
      ],
      "execution_count": 50,
      "outputs": [
        {
          "output_type": "stream",
          "text": [
            "Before outlier removing:  (3585, 4)\n",
            "After outlier removing:  (3234, 4)\n"
          ],
          "name": "stdout"
        }
      ]
    },
    {
      "cell_type": "code",
      "metadata": {
        "id": "4jxFnwSzLnrA",
        "colab_type": "code",
        "colab": {
          "base_uri": "https://localhost:8080/",
          "height": 531
        },
        "outputId": "0156e382-03d3-4cce-b374-6558995f8d8b"
      },
      "source": [
        "# Analise de outliers para Recency, Frequency e Monetary depois da remocao\n",
        "\n",
        "attributes = ['Frequency','Recency', 'Monetary']\n",
        "plt.rcParams['figure.figsize'] = [10,8]\n",
        "sns.boxplot(data=rfm_df_no_outlier[attributes], orient=\"h\",palette=\"Set3\" , whis=1.0, saturation=1, width=0.7)\n",
        "plt.title(\"Outliers  Distribution after Removal\", fontsize = 14, fontweight='bold')\n",
        "plt.ylabel(\"Range\", fontweight='bold')\n",
        "plt.xlabel(\"Attributes\", fontweight='bold')"
      ],
      "execution_count": 51,
      "outputs": [
        {
          "output_type": "execute_result",
          "data": {
            "text/plain": [
              "Text(0.5, 0, 'Attributes')"
            ]
          },
          "metadata": {
            "tags": []
          },
          "execution_count": 51
        },
        {
          "output_type": "display_data",
          "data": {
            "image/png": "[encoded data removed]",
            "text/plain": [
              "<Figure size 720x576 with 1 Axes>"
            ]
          },
          "metadata": {
            "tags": [],
            "needs_background": "light"
          }
        }
      ]
    },
    {
      "cell_type": "markdown",
      "metadata": {
        "id": "Eh61LFWSFReW",
        "colab_type": "text"
      },
      "source": [
        "# Salva Dados Gerados"
      ]
    },
    {
      "cell_type": "code",
      "metadata": {
        "id": "M0Os9XXEFbiI",
        "colab_type": "code",
        "colab": {}
      },
      "source": [
        "# Salva base de dados uk pre-processada\n",
        "uk_df.to_csv('uk_preprocessed_data.csv')\n",
        "\n",
        "#Salva tabela rfm sem outliers\n",
        "rfm_df_no_outlier = rfm_df_no_outlier.set_index(['CustomerID'], drop=True)\n",
        "rfm_df_no_outlier.to_csv('rfm_table_no_outlier.csv')\n",
        "\n",
        "# Salva tabela rfm com outliers\n",
        "rfm_df_w_outlier = rfm_df_w_outlier.set_index(['CustomerID'], drop=True)\n",
        "rfm_df_w_outlier.to_csv('rfm_table_w_outlier.csv')"
      ],
      "execution_count": 52,
      "outputs": []
    }
  ]
}