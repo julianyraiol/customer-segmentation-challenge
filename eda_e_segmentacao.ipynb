{
  "nbformat": 4,
  "nbformat_minor": 0,
  "metadata": {
    "colab": {
      "name": "eda_e_segmentacao.ipynb",
      "provenance": [],
      "collapsed_sections": [],
      "authorship_tag": "ABX9TyMtFiquyr8k3n3Tzcs8ykui",
      "include_colab_link": true
    },
    "kernelspec": {
      "name": "python3",
      "display_name": "Python 3"
    }
  },
  "cells": [
    {
      "cell_type": "markdown",
      "metadata": {
        "id": "view-in-github",
        "colab_type": "text"
      },
      "source": [
        "<a href=\"https://colab.research.google.com/github/ludigoncalves/bemol-challenge/blob/master/eda_e_segmentacao.ipynb\" target=\"_parent\"><img src=\"https://colab.research.google.com/assets/colab-badge.svg\" alt=\"Open In Colab\"/></a>"
      ]
    },
    {
      "cell_type": "markdown",
      "metadata": {
        "id": "k2PZUi5wufIV",
        "colab_type": "text"
      },
      "source": [
        "# Visão Geral\n",
        "\n",
        "Para este desafio, estou considerando a base de dados [Online Retail](https://www.kaggle.com/hellbuoy/online-retail-customer-clustering) devido a natureza dos atributos que podem ser explorados no contexto da Bemol. Por exemplo, usando atributo de localidade (na base nós temos o atributo 'Country') podemos explorar estratégias de Marketing em uma granularidade menor, i.e. por regiões/bairros, ou em uma granularidade maior, como estados (devido a presença da rede Bemol em diversos estados). Outra caracteríística interessante dessa base é que ela possui informação sobre os items comprados pelos consumidores, o que pode ser usado, em termos de estratégia de Marketing novamente, para fazer recomendações de produtos comprados por consumidores pertencentes ao mesmo segmento (cluster) para um consumidor que não os comprou ainda.\n",
        "\n",
        "A base de dados Online Retail contém transações que ocorrem dentro do período de 01/12/2010 à 09/12/2011 em 38 países diferentes. A companhia vende principalmente presentes exclusivos para todas as ocasições e muitos dos seus clientes são atacadistas. "
      ]
    },
    {
      "cell_type": "markdown",
      "metadata": {
        "id": "1qJNyeaz06PT",
        "colab_type": "text"
      },
      "source": [
        "# Objetivo\n",
        "\n",
        "O objetivo deste trabalho consiste em segmentar uma lista de clientes com base em suas transações. Para isto, será utilizada a técnica de análise conhecida como RFM (do inglês Recency, Frequency, and Monetary value). RFM é uma técnica comumente utilizada em Marketing que usa histórico de comportamento de compras para dividir os consumidores em grupos de acordo com as seguintes métricas:\n",
        "  - Recency (R): tempo decorrido desde a última compra de um dado consumidor. São clientes mais suscetíveis a responder a novas ofertas.\n",
        "  - Frequency (F): núúmero total de compras do consumidor. Clientes que compraram muito são mais suscetíveis a responder a ofertas que clientes que compraram pouco.\n",
        "  - Monetary value (M): valor total gasto em compras. Clientes que gastaram valor considerável em compras no passado são mais passíveis de realizarem compras volumosas novamente.\n",
        "\n",
        "Fontes:\n",
        "1. [IBM](https://www.ibm.com/support/knowledgecenter/da/SSLVMB_23.0.0/spss/rfm/rfm_intro.xml.html)\n",
        "2. [Blast Analytics](https://www.blastanalytics.com/blog/rfm-analysis-boosts-sales)"
      ]
    },
    {
      "cell_type": "markdown",
      "metadata": {
        "id": "IMLXEa4A6fsh",
        "colab_type": "text"
      },
      "source": [
        "# Metodologia\n",
        "\n",
        "1. Leitura e Exploração dos Dados\n",
        "2. Limpeza dos Dados\n",
        "3. Preparação dos Dados\n",
        "4. Segmentação\n",
        "5. Análises"
      ]
    },
    {
      "cell_type": "markdown",
      "metadata": {
        "id": "3Eeh4eTRDEfW",
        "colab_type": "text"
      },
      "source": [
        "# Configurações"
      ]
    },
    {
      "cell_type": "code",
      "metadata": {
        "id": "rmfESrrftPED",
        "colab_type": "code",
        "colab": {}
      },
      "source": [
        "# Este código foi construído no ambiente de desenvolvimento https://colab.research.google.com/\n",
        "# Utilizando ambiente Python 3.6.9\n",
        "# Imports necessários para este desafio\n",
        "\n",
        "from google.colab import drive # monta ambiente para salvar dados gerados no notebook\n",
        "import os # seta o caminho no ambiente como padrão \n",
        "\n",
        "import pandas as pd # biblioteca para processamento dos dados\n",
        "import numpy as np # biblioteca de algebra linear\n",
        "\n",
        "# Bibliotecas para visualização\n",
        "import matplotlib.pyplot as plt\n",
        "import seaborn as sns\n",
        "import matplotlib as mpl\n",
        "# funcao mágica para manter os graficos no notebook e próximos ao código gerador\n",
        "%matplotlib inline \n",
        "\n",
        "# Biblioteca para datas\n",
        "import datetime"
      ],
      "execution_count": 251,
      "outputs": []
    },
    {
      "cell_type": "code",
      "metadata": {
        "id": "jp8Sj3xq77-3",
        "colab_type": "code",
        "colab": {
          "base_uri": "https://localhost:8080/",
          "height": 34
        },
        "outputId": "15eeb390-c8e7-4ba9-fb58-5a72a9135444"
      },
      "source": [
        "# E importante saber as versoes das bibliotecas para congelamento do ambiente (como em containers)\n",
        "!python --version"
      ],
      "execution_count": 252,
      "outputs": [
        {
          "output_type": "stream",
          "text": [
            "Python 3.6.9\n"
          ],
          "name": "stdout"
        }
      ]
    },
    {
      "cell_type": "code",
      "metadata": {
        "id": "vh6fJ2cE_qd6",
        "colab_type": "code",
        "colab": {
          "base_uri": "https://localhost:8080/",
          "height": 86
        },
        "outputId": "c1dcb116-3602-4b3f-db7f-a195d05728d0"
      },
      "source": [
        "print(\"Pandas:\", pd.__version__)\n",
        "print(\"Numpy:\", np.__version__)\n",
        "print(\"Matplotlib: \", mpl.__version__)\n",
        "print(\"Seaborn:\", sns.__version__)"
      ],
      "execution_count": 253,
      "outputs": [
        {
          "output_type": "stream",
          "text": [
            "Pandas: 1.0.5\n",
            "Numpy: 1.18.5\n",
            "Matplotlib:  3.2.2\n",
            "Seaborn: 0.10.1\n"
          ],
          "name": "stdout"
        }
      ]
    },
    {
      "cell_type": "code",
      "metadata": {
        "id": "_N6M7hijtnnD",
        "colab_type": "code",
        "colab": {
          "base_uri": "https://localhost:8080/",
          "height": 34
        },
        "outputId": "f5ab106e-0cf5-4632-f766-cbded216a3d9"
      },
      "source": [
        "# Monta o ambiente onde os dados gerados neste notebook serao salvos\n",
        "drive.mount('/content/gdrive', force_remount=True)"
      ],
      "execution_count": 254,
      "outputs": [
        {
          "output_type": "stream",
          "text": [
            "Mounted at /content/gdrive\n"
          ],
          "name": "stdout"
        }
      ]
    },
    {
      "cell_type": "code",
      "metadata": {
        "id": "7haoxokDtnpt",
        "colab_type": "code",
        "colab": {}
      },
      "source": [
        "# Seta o caminho onde os dados serao salvos\n",
        "os.chdir('/content/gdrive/My Drive/Colab Notebooks/Bemol_Challenge')"
      ],
      "execution_count": 255,
      "outputs": []
    },
    {
      "cell_type": "code",
      "metadata": {
        "id": "4RDTHKxctnr8",
        "colab_type": "code",
        "colab": {
          "base_uri": "https://localhost:8080/",
          "height": 34
        },
        "outputId": "52bee55b-a149-4dee-8963-724ef3454254"
      },
      "source": [
        "!pwd"
      ],
      "execution_count": 256,
      "outputs": [
        {
          "output_type": "stream",
          "text": [
            "/content/gdrive/My Drive/Colab Notebooks/Bemol_Challenge\n"
          ],
          "name": "stdout"
        }
      ]
    },
    {
      "cell_type": "markdown",
      "metadata": {
        "id": "lRGDaGymDOoj",
        "colab_type": "text"
      },
      "source": [
        "# Carrega base de dados"
      ]
    },
    {
      "cell_type": "code",
      "metadata": {
        "id": "vjQDZobQtwFE",
        "colab_type": "code",
        "colab": {}
      },
      "source": [
        "# Carrega a base\n",
        "online_retail = pd.read_csv(\"/content/gdrive/My Drive/Colab Notebooks/Kaggle/OnlineRetail.csv\", sep=',', encoding=\"ISO-8859-1\", header=0)"
      ],
      "execution_count": 257,
      "outputs": []
    },
    {
      "cell_type": "code",
      "metadata": {
        "id": "2dbTjjrYuISj",
        "colab_type": "code",
        "colab": {
          "base_uri": "https://localhost:8080/",
          "height": 206
        },
        "outputId": "2cc0eb0e-9279-4f83-f0e3-8219fdd1e70c"
      },
      "source": [
        "online_retail.head()"
      ],
      "execution_count": 258,
      "outputs": [
        {
          "output_type": "execute_result",
          "data": {
            "text/html": [
              "<div>\n",
              "<style scoped>\n",
              "    .dataframe tbody tr th:only-of-type {\n",
              "        vertical-align: middle;\n",
              "    }\n",
              "\n",
              "    .dataframe tbody tr th {\n",
              "        vertical-align: top;\n",
              "    }\n",
              "\n",
              "    .dataframe thead th {\n",
              "        text-align: right;\n",
              "    }\n",
              "</style>\n",
              "<table border=\"1\" class=\"dataframe\">\n",
              "  <thead>\n",
              "    <tr style=\"text-align: right;\">\n",
              "      <th></th>\n",
              "      <th>InvoiceNo</th>\n",
              "      <th>StockCode</th>\n",
              "      <th>Description</th>\n",
              "      <th>Quantity</th>\n",
              "      <th>InvoiceDate</th>\n",
              "      <th>UnitPrice</th>\n",
              "      <th>CustomerID</th>\n",
              "      <th>Country</th>\n",
              "    </tr>\n",
              "  </thead>\n",
              "  <tbody>\n",
              "    <tr>\n",
              "      <th>0</th>\n",
              "      <td>536365</td>\n",
              "      <td>85123A</td>\n",
              "      <td>WHITE HANGING HEART T-LIGHT HOLDER</td>\n",
              "      <td>6</td>\n",
              "      <td>01-12-2010 08:26</td>\n",
              "      <td>2.55</td>\n",
              "      <td>17850.0</td>\n",
              "      <td>United Kingdom</td>\n",
              "    </tr>\n",
              "    <tr>\n",
              "      <th>1</th>\n",
              "      <td>536365</td>\n",
              "      <td>71053</td>\n",
              "      <td>WHITE METAL LANTERN</td>\n",
              "      <td>6</td>\n",
              "      <td>01-12-2010 08:26</td>\n",
              "      <td>3.39</td>\n",
              "      <td>17850.0</td>\n",
              "      <td>United Kingdom</td>\n",
              "    </tr>\n",
              "    <tr>\n",
              "      <th>2</th>\n",
              "      <td>536365</td>\n",
              "      <td>84406B</td>\n",
              "      <td>CREAM CUPID HEARTS COAT HANGER</td>\n",
              "      <td>8</td>\n",
              "      <td>01-12-2010 08:26</td>\n",
              "      <td>2.75</td>\n",
              "      <td>17850.0</td>\n",
              "      <td>United Kingdom</td>\n",
              "    </tr>\n",
              "    <tr>\n",
              "      <th>3</th>\n",
              "      <td>536365</td>\n",
              "      <td>84029G</td>\n",
              "      <td>KNITTED UNION FLAG HOT WATER BOTTLE</td>\n",
              "      <td>6</td>\n",
              "      <td>01-12-2010 08:26</td>\n",
              "      <td>3.39</td>\n",
              "      <td>17850.0</td>\n",
              "      <td>United Kingdom</td>\n",
              "    </tr>\n",
              "    <tr>\n",
              "      <th>4</th>\n",
              "      <td>536365</td>\n",
              "      <td>84029E</td>\n",
              "      <td>RED WOOLLY HOTTIE WHITE HEART.</td>\n",
              "      <td>6</td>\n",
              "      <td>01-12-2010 08:26</td>\n",
              "      <td>3.39</td>\n",
              "      <td>17850.0</td>\n",
              "      <td>United Kingdom</td>\n",
              "    </tr>\n",
              "  </tbody>\n",
              "</table>\n",
              "</div>"
            ],
            "text/plain": [
              "  InvoiceNo StockCode  ... CustomerID         Country\n",
              "0    536365    85123A  ...    17850.0  United Kingdom\n",
              "1    536365     71053  ...    17850.0  United Kingdom\n",
              "2    536365    84406B  ...    17850.0  United Kingdom\n",
              "3    536365    84029G  ...    17850.0  United Kingdom\n",
              "4    536365    84029E  ...    17850.0  United Kingdom\n",
              "\n",
              "[5 rows x 8 columns]"
            ]
          },
          "metadata": {
            "tags": []
          },
          "execution_count": 258
        }
      ]
    },
    {
      "cell_type": "code",
      "metadata": {
        "id": "Lk5ZzFhguMm6",
        "colab_type": "code",
        "colab": {
          "base_uri": "https://localhost:8080/",
          "height": 34
        },
        "outputId": "12ac5c31-0bf5-486a-caaf-aa93301fdebf"
      },
      "source": [
        "online_retail['Country'].nunique()"
      ],
      "execution_count": 259,
      "outputs": [
        {
          "output_type": "execute_result",
          "data": {
            "text/plain": [
              "38"
            ]
          },
          "metadata": {
            "tags": []
          },
          "execution_count": 259
        }
      ]
    },
    {
      "cell_type": "code",
      "metadata": {
        "id": "TYuZoXF0HMiD",
        "colab_type": "code",
        "colab": {
          "base_uri": "https://localhost:8080/",
          "height": 694
        },
        "outputId": "8829109f-c4a3-4a2c-abb0-077fc31d1965"
      },
      "source": [
        "# Explora o numero de transacoes por pais\n",
        "countries = online_retail.groupby(by='Country')['InvoiceNo'].count().to_frame().reset_index()\n",
        "countries = countries.sort_values(by='InvoiceNo', ascending=False, ignore_index=True)\n",
        "print(countries)"
      ],
      "execution_count": 260,
      "outputs": [
        {
          "output_type": "stream",
          "text": [
            "                 Country  InvoiceNo\n",
            "0         United Kingdom     495478\n",
            "1                Germany       9495\n",
            "2                 France       8557\n",
            "3                   EIRE       8196\n",
            "4                  Spain       2533\n",
            "5            Netherlands       2371\n",
            "6                Belgium       2069\n",
            "7            Switzerland       2002\n",
            "8               Portugal       1519\n",
            "9              Australia       1259\n",
            "10                Norway       1086\n",
            "11                 Italy        803\n",
            "12       Channel Islands        758\n",
            "13               Finland        695\n",
            "14                Cyprus        622\n",
            "15                Sweden        462\n",
            "16           Unspecified        446\n",
            "17               Austria        401\n",
            "18               Denmark        389\n",
            "19                 Japan        358\n",
            "20                Poland        341\n",
            "21                Israel        297\n",
            "22                   USA        291\n",
            "23             Hong Kong        288\n",
            "24             Singapore        229\n",
            "25               Iceland        182\n",
            "26                Canada        151\n",
            "27                Greece        146\n",
            "28                 Malta        127\n",
            "29  United Arab Emirates         68\n",
            "30    European Community         61\n",
            "31                   RSA         58\n",
            "32               Lebanon         45\n",
            "33             Lithuania         35\n",
            "34                Brazil         32\n",
            "35        Czech Republic         30\n",
            "36               Bahrain         19\n",
            "37          Saudi Arabia         10\n"
          ],
          "name": "stdout"
        }
      ]
    },
    {
      "cell_type": "markdown",
      "metadata": {
        "id": "GbkMxC38EIXw",
        "colab_type": "text"
      },
      "source": [
        "Esta base inicial possui 541909 transações e 8 atributos"
      ]
    },
    {
      "cell_type": "code",
      "metadata": {
        "id": "iMfAfRHIDly5",
        "colab_type": "code",
        "colab": {
          "base_uri": "https://localhost:8080/",
          "height": 34
        },
        "outputId": "753f25ec-e404-4a18-e7b6-f622798b0a3f"
      },
      "source": [
        "online_retail.shape"
      ],
      "execution_count": 261,
      "outputs": [
        {
          "output_type": "execute_result",
          "data": {
            "text/plain": [
              "(541909, 8)"
            ]
          },
          "metadata": {
            "tags": []
          },
          "execution_count": 261
        }
      ]
    },
    {
      "cell_type": "markdown",
      "metadata": {
        "id": "5_tpVS4GEeE2",
        "colab_type": "text"
      },
      "source": [
        "Com o comando .info() conseguimos ver que alguns atributos possuem dados faltantes, como CustomerID, que precisarão ser tratados posteriomente"
      ]
    },
    {
      "cell_type": "code",
      "metadata": {
        "id": "_rZTzHOODl3l",
        "colab_type": "code",
        "colab": {
          "base_uri": "https://localhost:8080/",
          "height": 278
        },
        "outputId": "19d8d582-02ad-48b7-b384-5fa7fe46e675"
      },
      "source": [
        "online_retail.info()"
      ],
      "execution_count": 262,
      "outputs": [
        {
          "output_type": "stream",
          "text": [
            "<class 'pandas.core.frame.DataFrame'>\n",
            "RangeIndex: 541909 entries, 0 to 541908\n",
            "Data columns (total 8 columns):\n",
            " #   Column       Non-Null Count   Dtype  \n",
            "---  ------       --------------   -----  \n",
            " 0   InvoiceNo    541909 non-null  object \n",
            " 1   StockCode    541909 non-null  object \n",
            " 2   Description  540455 non-null  object \n",
            " 3   Quantity     541909 non-null  int64  \n",
            " 4   InvoiceDate  541909 non-null  object \n",
            " 5   UnitPrice    541909 non-null  float64\n",
            " 6   CustomerID   406829 non-null  float64\n",
            " 7   Country      541909 non-null  object \n",
            "dtypes: float64(2), int64(1), object(5)\n",
            "memory usage: 33.1+ MB\n"
          ],
          "name": "stdout"
        }
      ]
    },
    {
      "cell_type": "markdown",
      "metadata": {
        "id": "anpqpsTaU9be",
        "colab_type": "text"
      },
      "source": [
        "Com o método .describe() conseguimos ver que nos atributos 'Quantity' e 'UnitPrice' temos valores menores que zero, o que configura em dado ruidoso e também precisa ser removido"
      ]
    },
    {
      "cell_type": "code",
      "metadata": {
        "id": "sKqT-guIUywV",
        "colab_type": "code",
        "colab": {
          "base_uri": "https://localhost:8080/",
          "height": 300
        },
        "outputId": "cff035df-055f-486a-bcbe-6839080b7c97"
      },
      "source": [
        "online_retail.describe()"
      ],
      "execution_count": 263,
      "outputs": [
        {
          "output_type": "execute_result",
          "data": {
            "text/html": [
              "<div>\n",
              "<style scoped>\n",
              "    .dataframe tbody tr th:only-of-type {\n",
              "        vertical-align: middle;\n",
              "    }\n",
              "\n",
              "    .dataframe tbody tr th {\n",
              "        vertical-align: top;\n",
              "    }\n",
              "\n",
              "    .dataframe thead th {\n",
              "        text-align: right;\n",
              "    }\n",
              "</style>\n",
              "<table border=\"1\" class=\"dataframe\">\n",
              "  <thead>\n",
              "    <tr style=\"text-align: right;\">\n",
              "      <th></th>\n",
              "      <th>Quantity</th>\n",
              "      <th>UnitPrice</th>\n",
              "      <th>CustomerID</th>\n",
              "    </tr>\n",
              "  </thead>\n",
              "  <tbody>\n",
              "    <tr>\n",
              "      <th>count</th>\n",
              "      <td>541909.000000</td>\n",
              "      <td>541909.000000</td>\n",
              "      <td>406829.000000</td>\n",
              "    </tr>\n",
              "    <tr>\n",
              "      <th>mean</th>\n",
              "      <td>9.552250</td>\n",
              "      <td>4.611114</td>\n",
              "      <td>15287.690570</td>\n",
              "    </tr>\n",
              "    <tr>\n",
              "      <th>std</th>\n",
              "      <td>218.081158</td>\n",
              "      <td>96.759853</td>\n",
              "      <td>1713.600303</td>\n",
              "    </tr>\n",
              "    <tr>\n",
              "      <th>min</th>\n",
              "      <td>-80995.000000</td>\n",
              "      <td>-11062.060000</td>\n",
              "      <td>12346.000000</td>\n",
              "    </tr>\n",
              "    <tr>\n",
              "      <th>25%</th>\n",
              "      <td>1.000000</td>\n",
              "      <td>1.250000</td>\n",
              "      <td>13953.000000</td>\n",
              "    </tr>\n",
              "    <tr>\n",
              "      <th>50%</th>\n",
              "      <td>3.000000</td>\n",
              "      <td>2.080000</td>\n",
              "      <td>15152.000000</td>\n",
              "    </tr>\n",
              "    <tr>\n",
              "      <th>75%</th>\n",
              "      <td>10.000000</td>\n",
              "      <td>4.130000</td>\n",
              "      <td>16791.000000</td>\n",
              "    </tr>\n",
              "    <tr>\n",
              "      <th>max</th>\n",
              "      <td>80995.000000</td>\n",
              "      <td>38970.000000</td>\n",
              "      <td>18287.000000</td>\n",
              "    </tr>\n",
              "  </tbody>\n",
              "</table>\n",
              "</div>"
            ],
            "text/plain": [
              "            Quantity      UnitPrice     CustomerID\n",
              "count  541909.000000  541909.000000  406829.000000\n",
              "mean        9.552250       4.611114   15287.690570\n",
              "std       218.081158      96.759853    1713.600303\n",
              "min    -80995.000000  -11062.060000   12346.000000\n",
              "25%         1.000000       1.250000   13953.000000\n",
              "50%         3.000000       2.080000   15152.000000\n",
              "75%        10.000000       4.130000   16791.000000\n",
              "max     80995.000000   38970.000000   18287.000000"
            ]
          },
          "metadata": {
            "tags": []
          },
          "execution_count": 263
        }
      ]
    },
    {
      "cell_type": "markdown",
      "metadata": {
        "id": "oEQj326UDl73",
        "colab_type": "text"
      },
      "source": [
        "# Limpeza dos Dados"
      ]
    },
    {
      "cell_type": "markdown",
      "metadata": {
        "id": "r7_xcdEiVocC",
        "colab_type": "text"
      },
      "source": [
        "Para fazermos uma análise que possua um grande volume de dados e também possamos utilizar a visão de análise por regiões, somente os três países com maior número de transações serão utilizados"
      ]
    },
    {
      "cell_type": "code",
      "metadata": {
        "id": "M0-uJ5jkWQ5m",
        "colab_type": "code",
        "colab": {
          "base_uri": "https://localhost:8080/",
          "height": 69
        },
        "outputId": "1a4c0a01-7d3b-4824-a354-9b1759a0d25d"
      },
      "source": [
        "retail_uk = online_retail[online_retail['Country'] == 'United Kingdom'].copy() # o metodo .copy() garante que voce nao altere o dataframe original\n",
        "print('United Kingdom: ', retail_uk.shape)\n",
        "\n",
        "retail_ger = online_retail[online_retail['Country'] == 'Germany'].copy()\n",
        "print('Germany: ', retail_ger.shape)\n",
        "\n",
        "retail_fra = online_retail[online_retail['Country'] == 'France'].copy()\n",
        "print('France: ', retail_fra.shape)"
      ],
      "execution_count": 264,
      "outputs": [
        {
          "output_type": "stream",
          "text": [
            "United Kingdom:  (495478, 8)\n",
            "Germany:  (9495, 8)\n",
            "France:  (8557, 8)\n"
          ],
          "name": "stdout"
        }
      ]
    },
    {
      "cell_type": "code",
      "metadata": {
        "id": "NP31WdPuG0qE",
        "colab_type": "code",
        "colab": {
          "base_uri": "https://localhost:8080/",
          "height": 69
        },
        "outputId": "e40a46dd-4359-4ea9-b626-afc1674164d0"
      },
      "source": [
        "# Remocao de individuos com dados faltantes\n",
        "retail_uk = retail_uk.dropna(subset=['CustomerID'], how='all')\n",
        "print('United Kingdom: ', retail_uk.shape)\n",
        "\n",
        "retail_ger = retail_ger.dropna(subset=['CustomerID'], how='all')\n",
        "print('Germany: ', retail_ger.shape)\n",
        "\n",
        "retail_fra = retail_fra.dropna(subset=['CustomerID'], how='all')\n",
        "print('France: ', retail_fra.shape)"
      ],
      "execution_count": 265,
      "outputs": [
        {
          "output_type": "stream",
          "text": [
            "United Kingdom:  (361878, 8)\n",
            "Germany:  (9495, 8)\n",
            "France:  (8491, 8)\n"
          ],
          "name": "stdout"
        }
      ]
    },
    {
      "cell_type": "code",
      "metadata": {
        "id": "EFrdA1cBG0tm",
        "colab_type": "code",
        "colab": {
          "base_uri": "https://localhost:8080/",
          "height": 69
        },
        "outputId": "6d75f306-7078-4e2e-b45a-a94078e86a0e"
      },
      "source": [
        "# Remocao de dados duplicados\n",
        "retail_uk_copy = retail_uk.drop_duplicates(subset=['InvoiceNo', 'CustomerID'], keep='first')\n",
        "print('United Kingdom: ', retail_uk_copy.shape)\n",
        "\n",
        "retail_ger_copy = retail_ger.drop_duplicates(subset=['InvoiceNo', 'CustomerID'], keep='first')\n",
        "print('Germany: ', retail_ger_copy.shape)\n",
        "\n",
        "retail_fra_copy = retail_fra.drop_duplicates(subset=['InvoiceNo', 'CustomerID'], keep='first')\n",
        "print('France: ', retail_fra_copy.shape)"
      ],
      "execution_count": 266,
      "outputs": [
        {
          "output_type": "stream",
          "text": [
            "United Kingdom:  (19857, 8)\n",
            "Germany:  (603, 8)\n",
            "France:  (458, 8)\n"
          ],
          "name": "stdout"
        }
      ]
    },
    {
      "cell_type": "code",
      "metadata": {
        "id": "oeIovTm9G03B",
        "colab_type": "code",
        "colab": {
          "base_uri": "https://localhost:8080/",
          "height": 69
        },
        "outputId": "336c8483-db8d-464f-809d-8dde310c7218"
      },
      "source": [
        "# Remoção de dados ruidosos em 'Quantity'\n",
        "retail_uk_copy = retail_uk_copy[retail_uk_copy['Quantity'] > 0]\n",
        "print('United Kingdom: ', retail_uk_copy.shape)\n",
        "\n",
        "retail_ger_copy = retail_ger_copy[retail_ger_copy['Quantity'] > 0]\n",
        "print('Germany: ', retail_ger_copy.shape)\n",
        "\n",
        "retail_fra_copy = retail_fra_copy[retail_fra_copy['Quantity'] > 0]\n",
        "print('France: ', retail_fra_copy.shape)"
      ],
      "execution_count": 267,
      "outputs": [
        {
          "output_type": "stream",
          "text": [
            "United Kingdom:  (16649, 8)\n",
            "Germany:  (457, 8)\n",
            "France:  (389, 8)\n"
          ],
          "name": "stdout"
        }
      ]
    },
    {
      "cell_type": "code",
      "metadata": {
        "id": "-wOsXJ8ZG052",
        "colab_type": "code",
        "colab": {
          "base_uri": "https://localhost:8080/",
          "height": 69
        },
        "outputId": "0d442d18-bb38-4a9c-d3d7-497f31d51b37"
      },
      "source": [
        "# Remoção de dados ruidosos em 'UnitPrice'\n",
        "retail_uk_copy = retail_uk_copy[retail_uk_copy['UnitPrice'] > 0]\n",
        "print('United Kingdom: ', retail_uk_copy.shape)\n",
        "\n",
        "retail_ger_copy = retail_ger_copy[retail_ger_copy['UnitPrice'] > 0]\n",
        "print('Germany: ', retail_ger_copy.shape)\n",
        "\n",
        "retail_fra_copy = retail_fra_copy[retail_fra_copy['UnitPrice'] > 0]\n",
        "print('France: ', retail_fra_copy.shape)"
      ],
      "execution_count": 268,
      "outputs": [
        {
          "output_type": "stream",
          "text": [
            "United Kingdom:  (16643, 8)\n",
            "Germany:  (457, 8)\n",
            "France:  (389, 8)\n"
          ],
          "name": "stdout"
        }
      ]
    },
    {
      "cell_type": "markdown",
      "metadata": {
        "id": "6GzkJXpGdAbq",
        "colab_type": "text"
      },
      "source": [
        "Avaliando os descritores de informação vemos que os dados estão adequados agora"
      ]
    },
    {
      "cell_type": "code",
      "metadata": {
        "id": "yTKBB9rfcagW",
        "colab_type": "code",
        "colab": {
          "base_uri": "https://localhost:8080/",
          "height": 300
        },
        "outputId": "95ee8da0-4682-4a47-841c-95a753ee4ccf"
      },
      "source": [
        "retail_uk_copy.describe()"
      ],
      "execution_count": 269,
      "outputs": [
        {
          "output_type": "execute_result",
          "data": {
            "text/html": [
              "<div>\n",
              "<style scoped>\n",
              "    .dataframe tbody tr th:only-of-type {\n",
              "        vertical-align: middle;\n",
              "    }\n",
              "\n",
              "    .dataframe tbody tr th {\n",
              "        vertical-align: top;\n",
              "    }\n",
              "\n",
              "    .dataframe thead th {\n",
              "        text-align: right;\n",
              "    }\n",
              "</style>\n",
              "<table border=\"1\" class=\"dataframe\">\n",
              "  <thead>\n",
              "    <tr style=\"text-align: right;\">\n",
              "      <th></th>\n",
              "      <th>Quantity</th>\n",
              "      <th>UnitPrice</th>\n",
              "      <th>CustomerID</th>\n",
              "    </tr>\n",
              "  </thead>\n",
              "  <tbody>\n",
              "    <tr>\n",
              "      <th>count</th>\n",
              "      <td>16643.000000</td>\n",
              "      <td>16643.000000</td>\n",
              "      <td>16643.000000</td>\n",
              "    </tr>\n",
              "    <tr>\n",
              "      <th>mean</th>\n",
              "      <td>38.681368</td>\n",
              "      <td>5.319490</td>\n",
              "      <td>15507.853632</td>\n",
              "    </tr>\n",
              "    <tr>\n",
              "      <th>std</th>\n",
              "      <td>858.727526</td>\n",
              "      <td>75.567185</td>\n",
              "      <td>1626.228711</td>\n",
              "    </tr>\n",
              "    <tr>\n",
              "      <th>min</th>\n",
              "      <td>1.000000</td>\n",
              "      <td>0.040000</td>\n",
              "      <td>12346.000000</td>\n",
              "    </tr>\n",
              "    <tr>\n",
              "      <th>25%</th>\n",
              "      <td>3.000000</td>\n",
              "      <td>1.250000</td>\n",
              "      <td>14098.500000</td>\n",
              "    </tr>\n",
              "    <tr>\n",
              "      <th>50%</th>\n",
              "      <td>10.000000</td>\n",
              "      <td>2.080000</td>\n",
              "      <td>15498.000000</td>\n",
              "    </tr>\n",
              "    <tr>\n",
              "      <th>75%</th>\n",
              "      <td>24.000000</td>\n",
              "      <td>4.650000</td>\n",
              "      <td>16923.000000</td>\n",
              "    </tr>\n",
              "    <tr>\n",
              "      <th>max</th>\n",
              "      <td>80995.000000</td>\n",
              "      <td>8142.750000</td>\n",
              "      <td>18287.000000</td>\n",
              "    </tr>\n",
              "  </tbody>\n",
              "</table>\n",
              "</div>"
            ],
            "text/plain": [
              "           Quantity     UnitPrice    CustomerID\n",
              "count  16643.000000  16643.000000  16643.000000\n",
              "mean      38.681368      5.319490  15507.853632\n",
              "std      858.727526     75.567185   1626.228711\n",
              "min        1.000000      0.040000  12346.000000\n",
              "25%        3.000000      1.250000  14098.500000\n",
              "50%       10.000000      2.080000  15498.000000\n",
              "75%       24.000000      4.650000  16923.000000\n",
              "max    80995.000000   8142.750000  18287.000000"
            ]
          },
          "metadata": {
            "tags": []
          },
          "execution_count": 269
        }
      ]
    },
    {
      "cell_type": "code",
      "metadata": {
        "id": "xLFnc2MVc3b0",
        "colab_type": "code",
        "colab": {
          "base_uri": "https://localhost:8080/",
          "height": 278
        },
        "outputId": "4a6e9b9a-0e4d-4ee4-dfd7-1f77368c00e1"
      },
      "source": [
        "retail_uk_copy.info()"
      ],
      "execution_count": 270,
      "outputs": [
        {
          "output_type": "stream",
          "text": [
            "<class 'pandas.core.frame.DataFrame'>\n",
            "Int64Index: 16643 entries, 0 to 541890\n",
            "Data columns (total 8 columns):\n",
            " #   Column       Non-Null Count  Dtype  \n",
            "---  ------       --------------  -----  \n",
            " 0   InvoiceNo    16643 non-null  object \n",
            " 1   StockCode    16643 non-null  object \n",
            " 2   Description  16643 non-null  object \n",
            " 3   Quantity     16643 non-null  int64  \n",
            " 4   InvoiceDate  16643 non-null  object \n",
            " 5   UnitPrice    16643 non-null  float64\n",
            " 6   CustomerID   16643 non-null  float64\n",
            " 7   Country      16643 non-null  object \n",
            "dtypes: float64(2), int64(1), object(5)\n",
            "memory usage: 1.1+ MB\n"
          ],
          "name": "stdout"
        }
      ]
    },
    {
      "cell_type": "markdown",
      "metadata": {
        "id": "UoaGcQ1hdPnp",
        "colab_type": "text"
      },
      "source": [
        "Após os diversos tratamentos feitos nas bases dos 3 países selecionados para serem avaliados, observamos que os dados da França e da Alemanha ficaram muito insuficientes para serem bem analisados, assim, a partir deste ponto seguimos somente com os dados do Reino Unido."
      ]
    },
    {
      "cell_type": "code",
      "metadata": {
        "id": "tzeQB4jcgy5a",
        "colab_type": "code",
        "colab": {
          "base_uri": "https://localhost:8080/",
          "height": 206
        },
        "outputId": "a43fbabb-3976-4f8c-9ec8-cf4d3f8021d1"
      },
      "source": [
        "retail_uk_copy['Date'] = pd.DatetimeIndex(retail_uk_copy['InvoiceDate']).date # cria coluna somente com a data formata (ignorando horario)\n",
        "retail_uk_copy.head()"
      ],
      "execution_count": 271,
      "outputs": [
        {
          "output_type": "execute_result",
          "data": {
            "text/html": [
              "<div>\n",
              "<style scoped>\n",
              "    .dataframe tbody tr th:only-of-type {\n",
              "        vertical-align: middle;\n",
              "    }\n",
              "\n",
              "    .dataframe tbody tr th {\n",
              "        vertical-align: top;\n",
              "    }\n",
              "\n",
              "    .dataframe thead th {\n",
              "        text-align: right;\n",
              "    }\n",
              "</style>\n",
              "<table border=\"1\" class=\"dataframe\">\n",
              "  <thead>\n",
              "    <tr style=\"text-align: right;\">\n",
              "      <th></th>\n",
              "      <th>InvoiceNo</th>\n",
              "      <th>StockCode</th>\n",
              "      <th>Description</th>\n",
              "      <th>Quantity</th>\n",
              "      <th>InvoiceDate</th>\n",
              "      <th>UnitPrice</th>\n",
              "      <th>CustomerID</th>\n",
              "      <th>Country</th>\n",
              "      <th>Date</th>\n",
              "    </tr>\n",
              "  </thead>\n",
              "  <tbody>\n",
              "    <tr>\n",
              "      <th>0</th>\n",
              "      <td>536365</td>\n",
              "      <td>85123A</td>\n",
              "      <td>WHITE HANGING HEART T-LIGHT HOLDER</td>\n",
              "      <td>6</td>\n",
              "      <td>01-12-2010 08:26</td>\n",
              "      <td>2.55</td>\n",
              "      <td>17850.0</td>\n",
              "      <td>United Kingdom</td>\n",
              "      <td>2010-01-12</td>\n",
              "    </tr>\n",
              "    <tr>\n",
              "      <th>7</th>\n",
              "      <td>536366</td>\n",
              "      <td>22633</td>\n",
              "      <td>HAND WARMER UNION JACK</td>\n",
              "      <td>6</td>\n",
              "      <td>01-12-2010 08:28</td>\n",
              "      <td>1.85</td>\n",
              "      <td>17850.0</td>\n",
              "      <td>United Kingdom</td>\n",
              "      <td>2010-01-12</td>\n",
              "    </tr>\n",
              "    <tr>\n",
              "      <th>9</th>\n",
              "      <td>536367</td>\n",
              "      <td>84879</td>\n",
              "      <td>ASSORTED COLOUR BIRD ORNAMENT</td>\n",
              "      <td>32</td>\n",
              "      <td>01-12-2010 08:34</td>\n",
              "      <td>1.69</td>\n",
              "      <td>13047.0</td>\n",
              "      <td>United Kingdom</td>\n",
              "      <td>2010-01-12</td>\n",
              "    </tr>\n",
              "    <tr>\n",
              "      <th>21</th>\n",
              "      <td>536368</td>\n",
              "      <td>22960</td>\n",
              "      <td>JAM MAKING SET WITH JARS</td>\n",
              "      <td>6</td>\n",
              "      <td>01-12-2010 08:34</td>\n",
              "      <td>4.25</td>\n",
              "      <td>13047.0</td>\n",
              "      <td>United Kingdom</td>\n",
              "      <td>2010-01-12</td>\n",
              "    </tr>\n",
              "    <tr>\n",
              "      <th>25</th>\n",
              "      <td>536369</td>\n",
              "      <td>21756</td>\n",
              "      <td>BATH BUILDING BLOCK WORD</td>\n",
              "      <td>3</td>\n",
              "      <td>01-12-2010 08:35</td>\n",
              "      <td>5.95</td>\n",
              "      <td>13047.0</td>\n",
              "      <td>United Kingdom</td>\n",
              "      <td>2010-01-12</td>\n",
              "    </tr>\n",
              "  </tbody>\n",
              "</table>\n",
              "</div>"
            ],
            "text/plain": [
              "   InvoiceNo StockCode  ...         Country        Date\n",
              "0     536365    85123A  ...  United Kingdom  2010-01-12\n",
              "7     536366     22633  ...  United Kingdom  2010-01-12\n",
              "9     536367     84879  ...  United Kingdom  2010-01-12\n",
              "21    536368     22960  ...  United Kingdom  2010-01-12\n",
              "25    536369     21756  ...  United Kingdom  2010-01-12\n",
              "\n",
              "[5 rows x 9 columns]"
            ]
          },
          "metadata": {
            "tags": []
          },
          "execution_count": 271
        }
      ]
    },
    {
      "cell_type": "code",
      "metadata": {
        "id": "vmpLsMlIhxiy",
        "colab_type": "code",
        "colab": {
          "base_uri": "https://localhost:8080/",
          "height": 52
        },
        "outputId": "d7a4f875-a12a-4ccb-bc91-34f6b584decb"
      },
      "source": [
        "# Verifica min e max de data para estruturar a janela adequada de tempo dos dados\n",
        "print('Minimum data: ', retail_uk_copy['Date'].min())\n",
        "print('Maximum data: ', retail_uk_copy['Date'].max())"
      ],
      "execution_count": 272,
      "outputs": [
        {
          "output_type": "stream",
          "text": [
            "Minimum data:  2010-01-12\n",
            "Maximum data:  2011-12-10\n"
          ],
          "name": "stdout"
        }
      ]
    },
    {
      "cell_type": "markdown",
      "metadata": {
        "id": "gzIpPBovdP8v",
        "colab_type": "text"
      },
      "source": [
        "Como normalmente utilizamos métricas de avaliações de vendas baseadas em anos ou meses, a base será restringida para contemplar exatamente 365 dias, dado que temos dados com menos de dois anos."
      ]
    },
    {
      "cell_type": "code",
      "metadata": {
        "id": "0TdQptBYeg9m",
        "colab_type": "code",
        "colab": {
          "base_uri": "https://localhost:8080/",
          "height": 34
        },
        "outputId": "d58bb41a-2bae-4109-8310-9059d65421bb"
      },
      "source": [
        "uk_df = retail_uk_copy[retail_uk_copy['Date'] > datetime.date(year=2010,month=12,day=9)]\n",
        "print('United Kingdom: ', uk_df.shape)"
      ],
      "execution_count": 273,
      "outputs": [
        {
          "output_type": "stream",
          "text": [
            "United Kingdom:  (15859, 9)\n"
          ],
          "name": "stdout"
        }
      ]
    },
    {
      "cell_type": "code",
      "metadata": {
        "id": "lz2IS4chfOnY",
        "colab_type": "code",
        "colab": {
          "base_uri": "https://localhost:8080/",
          "height": 52
        },
        "outputId": "9a770482-2865-44ab-a516-f215eb8541a1"
      },
      "source": [
        "# Verifica min e max de data para a nova janela de tempo dos dados\n",
        "print('Minimum data: ', uk_df['Date'].min())\n",
        "print('Maximum data: ', uk_df['Date'].max())"
      ],
      "execution_count": 274,
      "outputs": [
        {
          "output_type": "stream",
          "text": [
            "Minimum data:  2010-12-12\n",
            "Maximum data:  2011-12-10\n"
          ],
          "name": "stdout"
        }
      ]
    },
    {
      "cell_type": "code",
      "metadata": {
        "id": "wS3F7NzbuKpe",
        "colab_type": "code",
        "colab": {
          "base_uri": "https://localhost:8080/",
          "height": 86
        },
        "outputId": "abaa8b96-da8c-4dcf-f7d3-4060d48c96cb"
      },
      "source": [
        "# Dados da base depois de pre-processdados\n",
        "print(\"SUMMARY:\")\n",
        "print(\"# transactions:\\t\\t\", uk_df['InvoiceNo'].nunique())\n",
        "print(\"# products bought:\\t\", uk_df['StockCode'].nunique())\n",
        "print(\"# customers:\\t\\t\", uk_df['CustomerID'].nunique())"
      ],
      "execution_count": 275,
      "outputs": [
        {
          "output_type": "stream",
          "text": [
            "SUMMARY:\n",
            "# transactions:\t\t 15859\n",
            "# products bought:\t 2443\n",
            "# customers:\t\t 3849\n"
          ],
          "name": "stdout"
        }
      ]
    },
    {
      "cell_type": "markdown",
      "metadata": {
        "id": "iLoeUBqqgI5k",
        "colab_type": "text"
      },
      "source": [
        "# Preparação dos Dados para o RFM <br>\n",
        "\n",
        "Como citado anteriormente, o método utilizado para realizar a segmentação dos clientes será o RFM, que consiste nas métricas 1) Recency (R), 2) Frequency (F) e 3) Monetary value (M), que serão calculadas e agrupadas a partir deste ponto."
      ]
    },
    {
      "cell_type": "markdown",
      "metadata": {
        "id": "pcEFtHIVqd3W",
        "colab_type": "text"
      },
      "source": [
        "* Recency (R) <br>\n",
        "  Para calcular o recency precisamos pegar a data mais recente na base (data referência) e calcular o tempo decorrido (em dias) entre a última compra de cada consumidor e a nossa data referência."
      ]
    },
    {
      "cell_type": "code",
      "metadata": {
        "id": "VfotBfO5qd7h",
        "colab_type": "code",
        "colab": {
          "base_uri": "https://localhost:8080/",
          "height": 34
        },
        "outputId": "f7da9402-1b0c-4fa3-f91e-acfe49e6a5cd"
      },
      "source": [
        "# Data mais recente da base\n",
        "ref_date = uk_df['Date'].max()\n",
        "print(\"Data referência: \", ref_date)"
      ],
      "execution_count": 276,
      "outputs": [
        {
          "output_type": "stream",
          "text": [
            "Data referência:  2011-12-10\n"
          ],
          "name": "stdout"
        }
      ]
    },
    {
      "cell_type": "code",
      "metadata": {
        "id": "VMjNqLPtqd-4",
        "colab_type": "code",
        "colab": {
          "base_uri": "https://localhost:8080/",
          "height": 206
        },
        "outputId": "69fd96b5-47dc-466f-8c02-d040e55cb406"
      },
      "source": [
        "# Agrupa os consumidores e extrai a data mais recente de compra de cada um\n",
        "recency_df = uk_df.groupby(by='CustomerID', as_index=False)['Date'].max()\n",
        "recency_df.columns = ['CustomerID', 'LastPurchaseDate']\n",
        "recency_df.head()"
      ],
      "execution_count": 277,
      "outputs": [
        {
          "output_type": "execute_result",
          "data": {
            "text/html": [
              "<div>\n",
              "<style scoped>\n",
              "    .dataframe tbody tr th:only-of-type {\n",
              "        vertical-align: middle;\n",
              "    }\n",
              "\n",
              "    .dataframe tbody tr th {\n",
              "        vertical-align: top;\n",
              "    }\n",
              "\n",
              "    .dataframe thead th {\n",
              "        text-align: right;\n",
              "    }\n",
              "</style>\n",
              "<table border=\"1\" class=\"dataframe\">\n",
              "  <thead>\n",
              "    <tr style=\"text-align: right;\">\n",
              "      <th></th>\n",
              "      <th>CustomerID</th>\n",
              "      <th>LastPurchaseDate</th>\n",
              "    </tr>\n",
              "  </thead>\n",
              "  <tbody>\n",
              "    <tr>\n",
              "      <th>0</th>\n",
              "      <td>12346.0</td>\n",
              "      <td>2011-01-18</td>\n",
              "    </tr>\n",
              "    <tr>\n",
              "      <th>1</th>\n",
              "      <td>12747.0</td>\n",
              "      <td>2011-11-17</td>\n",
              "    </tr>\n",
              "    <tr>\n",
              "      <th>2</th>\n",
              "      <td>12748.0</td>\n",
              "      <td>2011-12-05</td>\n",
              "    </tr>\n",
              "    <tr>\n",
              "      <th>3</th>\n",
              "      <td>12749.0</td>\n",
              "      <td>2011-11-17</td>\n",
              "    </tr>\n",
              "    <tr>\n",
              "      <th>4</th>\n",
              "      <td>12820.0</td>\n",
              "      <td>2011-10-26</td>\n",
              "    </tr>\n",
              "  </tbody>\n",
              "</table>\n",
              "</div>"
            ],
            "text/plain": [
              "   CustomerID LastPurchaseDate\n",
              "0     12346.0       2011-01-18\n",
              "1     12747.0       2011-11-17\n",
              "2     12748.0       2011-12-05\n",
              "3     12749.0       2011-11-17\n",
              "4     12820.0       2011-10-26"
            ]
          },
          "metadata": {
            "tags": []
          },
          "execution_count": 277
        }
      ]
    },
    {
      "cell_type": "code",
      "metadata": {
        "id": "LsQ57E840xT6",
        "colab_type": "code",
        "colab": {}
      },
      "source": [
        "# Modifica o tipo de dado para uma melhor visualização\n",
        "recency_df['CustomerID'] = recency_df['CustomerID'].astype(int)"
      ],
      "execution_count": 278,
      "outputs": []
    },
    {
      "cell_type": "code",
      "metadata": {
        "id": "ZMwhZZAD1hT3",
        "colab_type": "code",
        "colab": {
          "base_uri": "https://localhost:8080/",
          "height": 206
        },
        "outputId": "0b9cee7a-572a-45a1-9557-570c71b7d7cd"
      },
      "source": [
        "# Calcula a recency\n",
        "recency_df['Recency'] = recency_df['LastPurchaseDate'].apply(lambda x: (ref_date - x).days)\n",
        "recency_df.head()"
      ],
      "execution_count": 279,
      "outputs": [
        {
          "output_type": "execute_result",
          "data": {
            "text/html": [
              "<div>\n",
              "<style scoped>\n",
              "    .dataframe tbody tr th:only-of-type {\n",
              "        vertical-align: middle;\n",
              "    }\n",
              "\n",
              "    .dataframe tbody tr th {\n",
              "        vertical-align: top;\n",
              "    }\n",
              "\n",
              "    .dataframe thead th {\n",
              "        text-align: right;\n",
              "    }\n",
              "</style>\n",
              "<table border=\"1\" class=\"dataframe\">\n",
              "  <thead>\n",
              "    <tr style=\"text-align: right;\">\n",
              "      <th></th>\n",
              "      <th>CustomerID</th>\n",
              "      <th>LastPurchaseDate</th>\n",
              "      <th>Recency</th>\n",
              "    </tr>\n",
              "  </thead>\n",
              "  <tbody>\n",
              "    <tr>\n",
              "      <th>0</th>\n",
              "      <td>12346</td>\n",
              "      <td>2011-01-18</td>\n",
              "      <td>326</td>\n",
              "    </tr>\n",
              "    <tr>\n",
              "      <th>1</th>\n",
              "      <td>12747</td>\n",
              "      <td>2011-11-17</td>\n",
              "      <td>23</td>\n",
              "    </tr>\n",
              "    <tr>\n",
              "      <th>2</th>\n",
              "      <td>12748</td>\n",
              "      <td>2011-12-05</td>\n",
              "      <td>5</td>\n",
              "    </tr>\n",
              "    <tr>\n",
              "      <th>3</th>\n",
              "      <td>12749</td>\n",
              "      <td>2011-11-17</td>\n",
              "      <td>23</td>\n",
              "    </tr>\n",
              "    <tr>\n",
              "      <th>4</th>\n",
              "      <td>12820</td>\n",
              "      <td>2011-10-26</td>\n",
              "      <td>45</td>\n",
              "    </tr>\n",
              "  </tbody>\n",
              "</table>\n",
              "</div>"
            ],
            "text/plain": [
              "   CustomerID LastPurchaseDate  Recency\n",
              "0       12346       2011-01-18      326\n",
              "1       12747       2011-11-17       23\n",
              "2       12748       2011-12-05        5\n",
              "3       12749       2011-11-17       23\n",
              "4       12820       2011-10-26       45"
            ]
          },
          "metadata": {
            "tags": []
          },
          "execution_count": 279
        }
      ]
    },
    {
      "cell_type": "code",
      "metadata": {
        "id": "bpkBa1Oz23Z6",
        "colab_type": "code",
        "colab": {
          "base_uri": "https://localhost:8080/",
          "height": 206
        },
        "outputId": "cb6e456c-e449-490a-ee39-e441c5f1bea9"
      },
      "source": [
        "# Apaga a coluna 'LastPurchaseDate' jáá que não será mais usada\n",
        "recency_df = recency_df.drop('LastPurchaseDate', axis=1)\n",
        "recency_df.head()"
      ],
      "execution_count": 280,
      "outputs": [
        {
          "output_type": "execute_result",
          "data": {
            "text/html": [
              "<div>\n",
              "<style scoped>\n",
              "    .dataframe tbody tr th:only-of-type {\n",
              "        vertical-align: middle;\n",
              "    }\n",
              "\n",
              "    .dataframe tbody tr th {\n",
              "        vertical-align: top;\n",
              "    }\n",
              "\n",
              "    .dataframe thead th {\n",
              "        text-align: right;\n",
              "    }\n",
              "</style>\n",
              "<table border=\"1\" class=\"dataframe\">\n",
              "  <thead>\n",
              "    <tr style=\"text-align: right;\">\n",
              "      <th></th>\n",
              "      <th>CustomerID</th>\n",
              "      <th>Recency</th>\n",
              "    </tr>\n",
              "  </thead>\n",
              "  <tbody>\n",
              "    <tr>\n",
              "      <th>0</th>\n",
              "      <td>12346</td>\n",
              "      <td>326</td>\n",
              "    </tr>\n",
              "    <tr>\n",
              "      <th>1</th>\n",
              "      <td>12747</td>\n",
              "      <td>23</td>\n",
              "    </tr>\n",
              "    <tr>\n",
              "      <th>2</th>\n",
              "      <td>12748</td>\n",
              "      <td>5</td>\n",
              "    </tr>\n",
              "    <tr>\n",
              "      <th>3</th>\n",
              "      <td>12749</td>\n",
              "      <td>23</td>\n",
              "    </tr>\n",
              "    <tr>\n",
              "      <th>4</th>\n",
              "      <td>12820</td>\n",
              "      <td>45</td>\n",
              "    </tr>\n",
              "  </tbody>\n",
              "</table>\n",
              "</div>"
            ],
            "text/plain": [
              "   CustomerID  Recency\n",
              "0       12346      326\n",
              "1       12747       23\n",
              "2       12748        5\n",
              "3       12749       23\n",
              "4       12820       45"
            ]
          },
          "metadata": {
            "tags": []
          },
          "execution_count": 280
        }
      ]
    },
    {
      "cell_type": "markdown",
      "metadata": {
        "id": "xtWXhhBn23db",
        "colab_type": "text"
      },
      "source": [
        "* Frequency (F) <br>\n",
        "  A métrica frequency identifica o número de compras feitas por cada cliente. Esse valor pode ser obtido aqui através da quantidade de 'InvoiceNo' por cliente."
      ]
    },
    {
      "cell_type": "code",
      "metadata": {
        "id": "gbeRaU4e23rR",
        "colab_type": "code",
        "colab": {
          "base_uri": "https://localhost:8080/",
          "height": 206
        },
        "outputId": "102427ad-02ed-4998-90f0-0117db5c4607"
      },
      "source": [
        "frequency_df = uk_df.groupby(by=['CustomerID'], as_index=False)['InvoiceNo'].count()\n",
        "frequency_df.columns = ['CustomerID', 'Frequency']\n",
        "frequency_df.head()"
      ],
      "execution_count": 281,
      "outputs": [
        {
          "output_type": "execute_result",
          "data": {
            "text/html": [
              "<div>\n",
              "<style scoped>\n",
              "    .dataframe tbody tr th:only-of-type {\n",
              "        vertical-align: middle;\n",
              "    }\n",
              "\n",
              "    .dataframe tbody tr th {\n",
              "        vertical-align: top;\n",
              "    }\n",
              "\n",
              "    .dataframe thead th {\n",
              "        text-align: right;\n",
              "    }\n",
              "</style>\n",
              "<table border=\"1\" class=\"dataframe\">\n",
              "  <thead>\n",
              "    <tr style=\"text-align: right;\">\n",
              "      <th></th>\n",
              "      <th>CustomerID</th>\n",
              "      <th>Frequency</th>\n",
              "    </tr>\n",
              "  </thead>\n",
              "  <tbody>\n",
              "    <tr>\n",
              "      <th>0</th>\n",
              "      <td>12346.0</td>\n",
              "      <td>1</td>\n",
              "    </tr>\n",
              "    <tr>\n",
              "      <th>1</th>\n",
              "      <td>12747.0</td>\n",
              "      <td>10</td>\n",
              "    </tr>\n",
              "    <tr>\n",
              "      <th>2</th>\n",
              "      <td>12748.0</td>\n",
              "      <td>186</td>\n",
              "    </tr>\n",
              "    <tr>\n",
              "      <th>3</th>\n",
              "      <td>12749.0</td>\n",
              "      <td>5</td>\n",
              "    </tr>\n",
              "    <tr>\n",
              "      <th>4</th>\n",
              "      <td>12820.0</td>\n",
              "      <td>4</td>\n",
              "    </tr>\n",
              "  </tbody>\n",
              "</table>\n",
              "</div>"
            ],
            "text/plain": [
              "   CustomerID  Frequency\n",
              "0     12346.0          1\n",
              "1     12747.0         10\n",
              "2     12748.0        186\n",
              "3     12749.0          5\n",
              "4     12820.0          4"
            ]
          },
          "metadata": {
            "tags": []
          },
          "execution_count": 281
        }
      ]
    },
    {
      "cell_type": "code",
      "metadata": {
        "id": "PHEiETsg5Gyy",
        "colab_type": "code",
        "colab": {}
      },
      "source": [
        "# Modifica o tipo de dado para uma melhor visualização\n",
        "frequency_df['CustomerID'] = frequency_df['CustomerID'].astype(int)"
      ],
      "execution_count": 282,
      "outputs": []
    },
    {
      "cell_type": "markdown",
      "metadata": {
        "id": "oGBb5Lp95G2e",
        "colab_type": "text"
      },
      "source": [
        "* Monetary value (M) <br>\n",
        "  Consiste no montante total gasto pelo cliente. Ela será obtida através da soma do montante gerado por cada compra."
      ]
    },
    {
      "cell_type": "code",
      "metadata": {
        "id": "cXIvD2OZ87xs",
        "colab_type": "code",
        "colab": {
          "base_uri": "https://localhost:8080/",
          "height": 310
        },
        "outputId": "39479624-3513-44a5-b652-6f2a5c58c376"
      },
      "source": [
        "# Cria coluna com o montante por compra\n",
        "uk_df['Amount'] = uk_df['Quantity'] * uk_df['UnitPrice'].values\n",
        "uk_df.tail()"
      ],
      "execution_count": 283,
      "outputs": [
        {
          "output_type": "stream",
          "text": [
            "/usr/local/lib/python3.6/dist-packages/ipykernel_launcher.py:2: SettingWithCopyWarning: \n",
            "A value is trying to be set on a copy of a slice from a DataFrame.\n",
            "Try using .loc[row_indexer,col_indexer] = value instead\n",
            "\n",
            "See the caveats in the documentation: https://pandas.pydata.org/pandas-docs/stable/user_guide/indexing.html#returning-a-view-versus-a-copy\n",
            "  \n"
          ],
          "name": "stderr"
        },
        {
          "output_type": "execute_result",
          "data": {
            "text/html": [
              "<div>\n",
              "<style scoped>\n",
              "    .dataframe tbody tr th:only-of-type {\n",
              "        vertical-align: middle;\n",
              "    }\n",
              "\n",
              "    .dataframe tbody tr th {\n",
              "        vertical-align: top;\n",
              "    }\n",
              "\n",
              "    .dataframe thead th {\n",
              "        text-align: right;\n",
              "    }\n",
              "</style>\n",
              "<table border=\"1\" class=\"dataframe\">\n",
              "  <thead>\n",
              "    <tr style=\"text-align: right;\">\n",
              "      <th></th>\n",
              "      <th>InvoiceNo</th>\n",
              "      <th>StockCode</th>\n",
              "      <th>Description</th>\n",
              "      <th>Quantity</th>\n",
              "      <th>InvoiceDate</th>\n",
              "      <th>UnitPrice</th>\n",
              "      <th>CustomerID</th>\n",
              "      <th>Country</th>\n",
              "      <th>Date</th>\n",
              "      <th>Amount</th>\n",
              "    </tr>\n",
              "  </thead>\n",
              "  <tbody>\n",
              "    <tr>\n",
              "      <th>541863</th>\n",
              "      <td>581582</td>\n",
              "      <td>23552</td>\n",
              "      <td>BICYCLE PUNCTURE REPAIR KIT</td>\n",
              "      <td>6</td>\n",
              "      <td>09-12-2011 12:21</td>\n",
              "      <td>2.08</td>\n",
              "      <td>17581.0</td>\n",
              "      <td>United Kingdom</td>\n",
              "      <td>2011-09-12</td>\n",
              "      <td>12.48</td>\n",
              "    </tr>\n",
              "    <tr>\n",
              "      <th>541865</th>\n",
              "      <td>581583</td>\n",
              "      <td>20725</td>\n",
              "      <td>LUNCH BAG RED RETROSPOT</td>\n",
              "      <td>40</td>\n",
              "      <td>09-12-2011 12:23</td>\n",
              "      <td>1.45</td>\n",
              "      <td>13777.0</td>\n",
              "      <td>United Kingdom</td>\n",
              "      <td>2011-09-12</td>\n",
              "      <td>58.00</td>\n",
              "    </tr>\n",
              "    <tr>\n",
              "      <th>541867</th>\n",
              "      <td>581584</td>\n",
              "      <td>20832</td>\n",
              "      <td>RED FLOCK LOVE HEART PHOTO FRAME</td>\n",
              "      <td>72</td>\n",
              "      <td>09-12-2011 12:25</td>\n",
              "      <td>0.72</td>\n",
              "      <td>13777.0</td>\n",
              "      <td>United Kingdom</td>\n",
              "      <td>2011-09-12</td>\n",
              "      <td>51.84</td>\n",
              "    </tr>\n",
              "    <tr>\n",
              "      <th>541869</th>\n",
              "      <td>581585</td>\n",
              "      <td>22481</td>\n",
              "      <td>BLACK TEA TOWEL CLASSIC DESIGN</td>\n",
              "      <td>12</td>\n",
              "      <td>09-12-2011 12:31</td>\n",
              "      <td>0.39</td>\n",
              "      <td>15804.0</td>\n",
              "      <td>United Kingdom</td>\n",
              "      <td>2011-09-12</td>\n",
              "      <td>4.68</td>\n",
              "    </tr>\n",
              "    <tr>\n",
              "      <th>541890</th>\n",
              "      <td>581586</td>\n",
              "      <td>22061</td>\n",
              "      <td>LARGE CAKE STAND  HANGING STRAWBERY</td>\n",
              "      <td>8</td>\n",
              "      <td>09-12-2011 12:49</td>\n",
              "      <td>2.95</td>\n",
              "      <td>13113.0</td>\n",
              "      <td>United Kingdom</td>\n",
              "      <td>2011-09-12</td>\n",
              "      <td>23.60</td>\n",
              "    </tr>\n",
              "  </tbody>\n",
              "</table>\n",
              "</div>"
            ],
            "text/plain": [
              "       InvoiceNo StockCode  ...        Date  Amount\n",
              "541863    581582     23552  ...  2011-09-12   12.48\n",
              "541865    581583     20725  ...  2011-09-12   58.00\n",
              "541867    581584     20832  ...  2011-09-12   51.84\n",
              "541869    581585     22481  ...  2011-09-12    4.68\n",
              "541890    581586     22061  ...  2011-09-12   23.60\n",
              "\n",
              "[5 rows x 10 columns]"
            ]
          },
          "metadata": {
            "tags": []
          },
          "execution_count": 283
        }
      ]
    },
    {
      "cell_type": "code",
      "metadata": {
        "id": "Pt0vkQ505G5K",
        "colab_type": "code",
        "colab": {
          "base_uri": "https://localhost:8080/",
          "height": 206
        },
        "outputId": "0a6c8f9e-1bfe-4042-9b24-98c58cbd4766"
      },
      "source": [
        "monetary_df = uk_df.groupby(by=['CustomerID'], as_index=False)['Amount'].sum()\n",
        "monetary_df.columns = ['CustomerID', 'Monetary']\n",
        "monetary_df.head()"
      ],
      "execution_count": 284,
      "outputs": [
        {
          "output_type": "execute_result",
          "data": {
            "text/html": [
              "<div>\n",
              "<style scoped>\n",
              "    .dataframe tbody tr th:only-of-type {\n",
              "        vertical-align: middle;\n",
              "    }\n",
              "\n",
              "    .dataframe tbody tr th {\n",
              "        vertical-align: top;\n",
              "    }\n",
              "\n",
              "    .dataframe thead th {\n",
              "        text-align: right;\n",
              "    }\n",
              "</style>\n",
              "<table border=\"1\" class=\"dataframe\">\n",
              "  <thead>\n",
              "    <tr style=\"text-align: right;\">\n",
              "      <th></th>\n",
              "      <th>CustomerID</th>\n",
              "      <th>Monetary</th>\n",
              "    </tr>\n",
              "  </thead>\n",
              "  <tbody>\n",
              "    <tr>\n",
              "      <th>0</th>\n",
              "      <td>12346.0</td>\n",
              "      <td>77183.60</td>\n",
              "    </tr>\n",
              "    <tr>\n",
              "      <th>1</th>\n",
              "      <td>12747.0</td>\n",
              "      <td>658.89</td>\n",
              "    </tr>\n",
              "    <tr>\n",
              "      <th>2</th>\n",
              "      <td>12748.0</td>\n",
              "      <td>3499.03</td>\n",
              "    </tr>\n",
              "    <tr>\n",
              "      <th>3</th>\n",
              "      <td>12749.0</td>\n",
              "      <td>98.35</td>\n",
              "    </tr>\n",
              "    <tr>\n",
              "      <th>4</th>\n",
              "      <td>12820.0</td>\n",
              "      <td>58.20</td>\n",
              "    </tr>\n",
              "  </tbody>\n",
              "</table>\n",
              "</div>"
            ],
            "text/plain": [
              "   CustomerID  Monetary\n",
              "0     12346.0  77183.60\n",
              "1     12747.0    658.89\n",
              "2     12748.0   3499.03\n",
              "3     12749.0     98.35\n",
              "4     12820.0     58.20"
            ]
          },
          "metadata": {
            "tags": []
          },
          "execution_count": 284
        }
      ]
    },
    {
      "cell_type": "code",
      "metadata": {
        "id": "M20ee-kC-iXj",
        "colab_type": "code",
        "colab": {
          "base_uri": "https://localhost:8080/",
          "height": 81
        },
        "outputId": "ab7ac305-d835-4dc5-88cd-a4d91c175319"
      },
      "source": [
        "# Verifica se as informacoes estao corretas\n",
        "uk_df[uk_df['CustomerID'] == 12346.0]"
      ],
      "execution_count": 285,
      "outputs": [
        {
          "output_type": "execute_result",
          "data": {
            "text/html": [
              "<div>\n",
              "<style scoped>\n",
              "    .dataframe tbody tr th:only-of-type {\n",
              "        vertical-align: middle;\n",
              "    }\n",
              "\n",
              "    .dataframe tbody tr th {\n",
              "        vertical-align: top;\n",
              "    }\n",
              "\n",
              "    .dataframe thead th {\n",
              "        text-align: right;\n",
              "    }\n",
              "</style>\n",
              "<table border=\"1\" class=\"dataframe\">\n",
              "  <thead>\n",
              "    <tr style=\"text-align: right;\">\n",
              "      <th></th>\n",
              "      <th>InvoiceNo</th>\n",
              "      <th>StockCode</th>\n",
              "      <th>Description</th>\n",
              "      <th>Quantity</th>\n",
              "      <th>InvoiceDate</th>\n",
              "      <th>UnitPrice</th>\n",
              "      <th>CustomerID</th>\n",
              "      <th>Country</th>\n",
              "      <th>Date</th>\n",
              "      <th>Amount</th>\n",
              "    </tr>\n",
              "  </thead>\n",
              "  <tbody>\n",
              "    <tr>\n",
              "      <th>61619</th>\n",
              "      <td>541431</td>\n",
              "      <td>23166</td>\n",
              "      <td>MEDIUM CERAMIC TOP STORAGE JAR</td>\n",
              "      <td>74215</td>\n",
              "      <td>18-01-2011 10:01</td>\n",
              "      <td>1.04</td>\n",
              "      <td>12346.0</td>\n",
              "      <td>United Kingdom</td>\n",
              "      <td>2011-01-18</td>\n",
              "      <td>77183.6</td>\n",
              "    </tr>\n",
              "  </tbody>\n",
              "</table>\n",
              "</div>"
            ],
            "text/plain": [
              "      InvoiceNo StockCode  ...        Date   Amount\n",
              "61619    541431     23166  ...  2011-01-18  77183.6\n",
              "\n",
              "[1 rows x 10 columns]"
            ]
          },
          "metadata": {
            "tags": []
          },
          "execution_count": 285
        }
      ]
    },
    {
      "cell_type": "code",
      "metadata": {
        "id": "X8X4g7VO_J4x",
        "colab_type": "code",
        "colab": {
          "base_uri": "https://localhost:8080/",
          "height": 175
        },
        "outputId": "4739a17e-d85c-4f4b-d16f-cc594b9f7ee6"
      },
      "source": [
        "uk_df[uk_df['CustomerID'] == 12820.0]"
      ],
      "execution_count": 286,
      "outputs": [
        {
          "output_type": "execute_result",
          "data": {
            "text/html": [
              "<div>\n",
              "<style scoped>\n",
              "    .dataframe tbody tr th:only-of-type {\n",
              "        vertical-align: middle;\n",
              "    }\n",
              "\n",
              "    .dataframe tbody tr th {\n",
              "        vertical-align: top;\n",
              "    }\n",
              "\n",
              "    .dataframe thead th {\n",
              "        text-align: right;\n",
              "    }\n",
              "</style>\n",
              "<table border=\"1\" class=\"dataframe\">\n",
              "  <thead>\n",
              "    <tr style=\"text-align: right;\">\n",
              "      <th></th>\n",
              "      <th>InvoiceNo</th>\n",
              "      <th>StockCode</th>\n",
              "      <th>Description</th>\n",
              "      <th>Quantity</th>\n",
              "      <th>InvoiceDate</th>\n",
              "      <th>UnitPrice</th>\n",
              "      <th>CustomerID</th>\n",
              "      <th>Country</th>\n",
              "      <th>Date</th>\n",
              "      <th>Amount</th>\n",
              "    </tr>\n",
              "  </thead>\n",
              "  <tbody>\n",
              "    <tr>\n",
              "      <th>59368</th>\n",
              "      <td>541283</td>\n",
              "      <td>21977</td>\n",
              "      <td>PACK OF 60 PINK PAISLEY CAKE CASES</td>\n",
              "      <td>24</td>\n",
              "      <td>17-01-2011 12:34</td>\n",
              "      <td>0.55</td>\n",
              "      <td>12820.0</td>\n",
              "      <td>United Kingdom</td>\n",
              "      <td>2011-01-17</td>\n",
              "      <td>13.2</td>\n",
              "    </tr>\n",
              "    <tr>\n",
              "      <th>360567</th>\n",
              "      <td>568236</td>\n",
              "      <td>23328</td>\n",
              "      <td>SET 6 SCHOOL MILK BOTTLES IN CRATE</td>\n",
              "      <td>4</td>\n",
              "      <td>26-09-2011 11:49</td>\n",
              "      <td>3.75</td>\n",
              "      <td>12820.0</td>\n",
              "      <td>United Kingdom</td>\n",
              "      <td>2011-09-26</td>\n",
              "      <td>15.0</td>\n",
              "    </tr>\n",
              "    <tr>\n",
              "      <th>420111</th>\n",
              "      <td>572873</td>\n",
              "      <td>23436</td>\n",
              "      <td>VINTAGE CHRISTMAS GIFT BAG LARGE</td>\n",
              "      <td>12</td>\n",
              "      <td>26-10-2011 13:27</td>\n",
              "      <td>1.25</td>\n",
              "      <td>12820.0</td>\n",
              "      <td>United Kingdom</td>\n",
              "      <td>2011-10-26</td>\n",
              "      <td>15.0</td>\n",
              "    </tr>\n",
              "    <tr>\n",
              "      <th>531846</th>\n",
              "      <td>580973</td>\n",
              "      <td>21098</td>\n",
              "      <td>CHRISTMAS TOILET ROLL</td>\n",
              "      <td>12</td>\n",
              "      <td>06-12-2011 15:12</td>\n",
              "      <td>1.25</td>\n",
              "      <td>12820.0</td>\n",
              "      <td>United Kingdom</td>\n",
              "      <td>2011-06-12</td>\n",
              "      <td>15.0</td>\n",
              "    </tr>\n",
              "  </tbody>\n",
              "</table>\n",
              "</div>"
            ],
            "text/plain": [
              "       InvoiceNo StockCode  ...        Date  Amount\n",
              "59368     541283     21977  ...  2011-01-17    13.2\n",
              "360567    568236     23328  ...  2011-09-26    15.0\n",
              "420111    572873     23436  ...  2011-10-26    15.0\n",
              "531846    580973     21098  ...  2011-06-12    15.0\n",
              "\n",
              "[4 rows x 10 columns]"
            ]
          },
          "metadata": {
            "tags": []
          },
          "execution_count": 286
        }
      ]
    },
    {
      "cell_type": "code",
      "metadata": {
        "id": "FpoLZgPF_YeM",
        "colab_type": "code",
        "colab": {}
      },
      "source": [
        "# Modifica o tipo de dado para uma melhor visualização\n",
        "frequency_df['CustomerID'] = frequency_df['CustomerID'].astype(int)"
      ],
      "execution_count": 287,
      "outputs": []
    },
    {
      "cell_type": "markdown",
      "metadata": {
        "id": "yioRtZVVAvim",
        "colab_type": "text"
      },
      "source": [
        "* Concatena as tabelas das métricas individuais"
      ]
    },
    {
      "cell_type": "code",
      "metadata": {
        "id": "j4ykVA5FAvmR",
        "colab_type": "code",
        "colab": {
          "base_uri": "https://localhost:8080/",
          "height": 206
        },
        "outputId": "029ee96f-6066-40fb-f113-ca32da8c4c2d"
      },
      "source": [
        "# Concatena recency e frequency em uma tabela temporaria\n",
        "temp_df = recency_df.merge(frequency_df, on='CustomerID')\n",
        "temp_df.head()"
      ],
      "execution_count": 288,
      "outputs": [
        {
          "output_type": "execute_result",
          "data": {
            "text/html": [
              "<div>\n",
              "<style scoped>\n",
              "    .dataframe tbody tr th:only-of-type {\n",
              "        vertical-align: middle;\n",
              "    }\n",
              "\n",
              "    .dataframe tbody tr th {\n",
              "        vertical-align: top;\n",
              "    }\n",
              "\n",
              "    .dataframe thead th {\n",
              "        text-align: right;\n",
              "    }\n",
              "</style>\n",
              "<table border=\"1\" class=\"dataframe\">\n",
              "  <thead>\n",
              "    <tr style=\"text-align: right;\">\n",
              "      <th></th>\n",
              "      <th>CustomerID</th>\n",
              "      <th>Recency</th>\n",
              "      <th>Frequency</th>\n",
              "    </tr>\n",
              "  </thead>\n",
              "  <tbody>\n",
              "    <tr>\n",
              "      <th>0</th>\n",
              "      <td>12346</td>\n",
              "      <td>326</td>\n",
              "      <td>1</td>\n",
              "    </tr>\n",
              "    <tr>\n",
              "      <th>1</th>\n",
              "      <td>12747</td>\n",
              "      <td>23</td>\n",
              "      <td>10</td>\n",
              "    </tr>\n",
              "    <tr>\n",
              "      <th>2</th>\n",
              "      <td>12748</td>\n",
              "      <td>5</td>\n",
              "      <td>186</td>\n",
              "    </tr>\n",
              "    <tr>\n",
              "      <th>3</th>\n",
              "      <td>12749</td>\n",
              "      <td>23</td>\n",
              "      <td>5</td>\n",
              "    </tr>\n",
              "    <tr>\n",
              "      <th>4</th>\n",
              "      <td>12820</td>\n",
              "      <td>45</td>\n",
              "      <td>4</td>\n",
              "    </tr>\n",
              "  </tbody>\n",
              "</table>\n",
              "</div>"
            ],
            "text/plain": [
              "   CustomerID  Recency  Frequency\n",
              "0       12346      326          1\n",
              "1       12747       23         10\n",
              "2       12748        5        186\n",
              "3       12749       23          5\n",
              "4       12820       45          4"
            ]
          },
          "metadata": {
            "tags": []
          },
          "execution_count": 288
        }
      ]
    },
    {
      "cell_type": "code",
      "metadata": {
        "id": "MMteABWMBSdM",
        "colab_type": "code",
        "colab": {
          "base_uri": "https://localhost:8080/",
          "height": 206
        },
        "outputId": "0f05959e-f9b4-45f5-da50-21896a843425"
      },
      "source": [
        "# Concatena a tabela temporaria anterior com a monetary\n",
        "rfm_df = temp_df.merge(monetary_df, on='CustomerID')\n",
        "rfm_df.head()"
      ],
      "execution_count": 289,
      "outputs": [
        {
          "output_type": "execute_result",
          "data": {
            "text/html": [
              "<div>\n",
              "<style scoped>\n",
              "    .dataframe tbody tr th:only-of-type {\n",
              "        vertical-align: middle;\n",
              "    }\n",
              "\n",
              "    .dataframe tbody tr th {\n",
              "        vertical-align: top;\n",
              "    }\n",
              "\n",
              "    .dataframe thead th {\n",
              "        text-align: right;\n",
              "    }\n",
              "</style>\n",
              "<table border=\"1\" class=\"dataframe\">\n",
              "  <thead>\n",
              "    <tr style=\"text-align: right;\">\n",
              "      <th></th>\n",
              "      <th>CustomerID</th>\n",
              "      <th>Recency</th>\n",
              "      <th>Frequency</th>\n",
              "      <th>Monetary</th>\n",
              "    </tr>\n",
              "  </thead>\n",
              "  <tbody>\n",
              "    <tr>\n",
              "      <th>0</th>\n",
              "      <td>12346</td>\n",
              "      <td>326</td>\n",
              "      <td>1</td>\n",
              "      <td>77183.60</td>\n",
              "    </tr>\n",
              "    <tr>\n",
              "      <th>1</th>\n",
              "      <td>12747</td>\n",
              "      <td>23</td>\n",
              "      <td>10</td>\n",
              "      <td>658.89</td>\n",
              "    </tr>\n",
              "    <tr>\n",
              "      <th>2</th>\n",
              "      <td>12748</td>\n",
              "      <td>5</td>\n",
              "      <td>186</td>\n",
              "      <td>3499.03</td>\n",
              "    </tr>\n",
              "    <tr>\n",
              "      <th>3</th>\n",
              "      <td>12749</td>\n",
              "      <td>23</td>\n",
              "      <td>5</td>\n",
              "      <td>98.35</td>\n",
              "    </tr>\n",
              "    <tr>\n",
              "      <th>4</th>\n",
              "      <td>12820</td>\n",
              "      <td>45</td>\n",
              "      <td>4</td>\n",
              "      <td>58.20</td>\n",
              "    </tr>\n",
              "  </tbody>\n",
              "</table>\n",
              "</div>"
            ],
            "text/plain": [
              "   CustomerID  Recency  Frequency  Monetary\n",
              "0       12346      326          1  77183.60\n",
              "1       12747       23         10    658.89\n",
              "2       12748        5        186   3499.03\n",
              "3       12749       23          5     98.35\n",
              "4       12820       45          4     58.20"
            ]
          },
          "metadata": {
            "tags": []
          },
          "execution_count": 289
        }
      ]
    },
    {
      "cell_type": "code",
      "metadata": {
        "id": "ZMpY30efBSiW",
        "colab_type": "code",
        "colab": {
          "base_uri": "https://localhost:8080/",
          "height": 206
        },
        "outputId": "64a39845-edeb-489a-a907-8165ee5eabeb"
      },
      "source": [
        "# Verificacao da corretude das informacoes\n",
        "uk_df[uk_df['CustomerID'] == 12749.0]"
      ],
      "execution_count": 290,
      "outputs": [
        {
          "output_type": "execute_result",
          "data": {
            "text/html": [
              "<div>\n",
              "<style scoped>\n",
              "    .dataframe tbody tr th:only-of-type {\n",
              "        vertical-align: middle;\n",
              "    }\n",
              "\n",
              "    .dataframe tbody tr th {\n",
              "        vertical-align: top;\n",
              "    }\n",
              "\n",
              "    .dataframe thead th {\n",
              "        text-align: right;\n",
              "    }\n",
              "</style>\n",
              "<table border=\"1\" class=\"dataframe\">\n",
              "  <thead>\n",
              "    <tr style=\"text-align: right;\">\n",
              "      <th></th>\n",
              "      <th>InvoiceNo</th>\n",
              "      <th>StockCode</th>\n",
              "      <th>Description</th>\n",
              "      <th>Quantity</th>\n",
              "      <th>InvoiceDate</th>\n",
              "      <th>UnitPrice</th>\n",
              "      <th>CustomerID</th>\n",
              "      <th>Country</th>\n",
              "      <th>Date</th>\n",
              "      <th>Amount</th>\n",
              "    </tr>\n",
              "  </thead>\n",
              "  <tbody>\n",
              "    <tr>\n",
              "      <th>184487</th>\n",
              "      <td>552694</td>\n",
              "      <td>22768</td>\n",
              "      <td>FAMILY PHOTO FRAME CORNICE</td>\n",
              "      <td>2</td>\n",
              "      <td>10-05-2011 15:25</td>\n",
              "      <td>9.95</td>\n",
              "      <td>12749.0</td>\n",
              "      <td>United Kingdom</td>\n",
              "      <td>2011-10-05</td>\n",
              "      <td>19.90</td>\n",
              "    </tr>\n",
              "    <tr>\n",
              "      <th>285802</th>\n",
              "      <td>561926</td>\n",
              "      <td>22969</td>\n",
              "      <td>HOMEMADE JAM SCENTED CANDLES</td>\n",
              "      <td>12</td>\n",
              "      <td>01-08-2011 12:48</td>\n",
              "      <td>1.45</td>\n",
              "      <td>12749.0</td>\n",
              "      <td>United Kingdom</td>\n",
              "      <td>2011-01-08</td>\n",
              "      <td>17.40</td>\n",
              "    </tr>\n",
              "    <tr>\n",
              "      <th>285887</th>\n",
              "      <td>561928</td>\n",
              "      <td>23245</td>\n",
              "      <td>SET OF 3 REGENCY CAKE TINS</td>\n",
              "      <td>6</td>\n",
              "      <td>01-08-2011 12:50</td>\n",
              "      <td>4.95</td>\n",
              "      <td>12749.0</td>\n",
              "      <td>United Kingdom</td>\n",
              "      <td>2011-01-08</td>\n",
              "      <td>29.70</td>\n",
              "    </tr>\n",
              "    <tr>\n",
              "      <th>476296</th>\n",
              "      <td>577009</td>\n",
              "      <td>22720</td>\n",
              "      <td>SET OF 3 CAKE TINS PANTRY DESIGN</td>\n",
              "      <td>3</td>\n",
              "      <td>17-11-2011 12:05</td>\n",
              "      <td>4.95</td>\n",
              "      <td>12749.0</td>\n",
              "      <td>United Kingdom</td>\n",
              "      <td>2011-11-17</td>\n",
              "      <td>14.85</td>\n",
              "    </tr>\n",
              "    <tr>\n",
              "      <th>529701</th>\n",
              "      <td>580750</td>\n",
              "      <td>23583</td>\n",
              "      <td>LUNCH BAG PAISLEY PARK</td>\n",
              "      <td>10</td>\n",
              "      <td>06-12-2011 09:56</td>\n",
              "      <td>1.65</td>\n",
              "      <td>12749.0</td>\n",
              "      <td>United Kingdom</td>\n",
              "      <td>2011-06-12</td>\n",
              "      <td>16.50</td>\n",
              "    </tr>\n",
              "  </tbody>\n",
              "</table>\n",
              "</div>"
            ],
            "text/plain": [
              "       InvoiceNo StockCode  ...        Date  Amount\n",
              "184487    552694     22768  ...  2011-10-05   19.90\n",
              "285802    561926     22969  ...  2011-01-08   17.40\n",
              "285887    561928     23245  ...  2011-01-08   29.70\n",
              "476296    577009     22720  ...  2011-11-17   14.85\n",
              "529701    580750     23583  ...  2011-06-12   16.50\n",
              "\n",
              "[5 rows x 10 columns]"
            ]
          },
          "metadata": {
            "tags": []
          },
          "execution_count": 290
        }
      ]
    },
    {
      "cell_type": "code",
      "metadata": {
        "id": "-Q4u_gupBSgs",
        "colab_type": "code",
        "colab": {
          "base_uri": "https://localhost:8080/",
          "height": 52
        },
        "outputId": "2b8f257c-9382-4b83-caf9-ded33e2e557f"
      },
      "source": [
        "print(\"Amount sum: \", uk_df[uk_df['CustomerID'] == 12749.0]['Amount'].sum())\n",
        "print(\"Diff days: \", (ref_date - datetime.date(2011,11,17)).days)"
      ],
      "execution_count": 291,
      "outputs": [
        {
          "output_type": "stream",
          "text": [
            "Amount sum:  98.35\n",
            "Diff days:  23\n"
          ],
          "name": "stdout"
        }
      ]
    },
    {
      "cell_type": "markdown",
      "metadata": {
        "id": "g1cB_QgLm0Xe",
        "colab_type": "text"
      },
      "source": [
        "## Avaliação e Remoção de *Outliers* <br>\n",
        "\n",
        "Antes de realizar a segmentação (próxima etapa), precisa ser feita uma análise acerca de *outliers*, pois são dados que comprometem a acurácia das estimativas de segmentos, principalmente se houver uso de modelos de aprendizagem de máquina. A técnica de remoção de outliers utilizada será a conhecida regra estatística: <br>\n",
        "  - $low\\_outliers < Q1 - 1.5 * IQR$\n",
        "  - $high\\_outliers > Q3 + 1.5 * IQR$, onde $Q1$ e $Q3$ correspondem, respectivamente ao primeiro e terceiro quartile e o $IQR$ à métrica de dispersão *Interquartile Range*."
      ]
    },
    {
      "cell_type": "code",
      "metadata": {
        "id": "CUdGV6JkE9JI",
        "colab_type": "code",
        "colab": {
          "base_uri": "https://localhost:8080/",
          "height": 536
        },
        "outputId": "d8443512-5164-40af-b059-30cfe66a5c8f"
      },
      "source": [
        "# Analise de outliers para Recency, Frequency e Monetary\n",
        "\n",
        "attributes = ['Frequency','Recency', 'Monetary']\n",
        "plt.rcParams['figure.figsize'] = [10,8]\n",
        "sns.boxplot(data=rfm_df[attributes], orient=\"h\",palette=\"Set3\" , whis=1.0, saturation=1, width=0.7)\n",
        "plt.title(\"Outliers  Distribution\", fontsize = 14, fontweight='bold')\n",
        "plt.ylabel(\"Range\", fontweight='bold')\n",
        "plt.xlabel(\"Attributes\", fontweight='bold')"
      ],
      "execution_count": 292,
      "outputs": [
        {
          "output_type": "execute_result",
          "data": {
            "text/plain": [
              "Text(0.5, 0, 'Attributes')"
            ]
          },
          "metadata": {
            "tags": []
          },
          "execution_count": 292
        },
        {
          "output_type": "display_data",
          "data": {
            "image/png": "[encoded data removed]",
            "text/plain": [
              "<Figure size 720x576 with 1 Axes>"
            ]
          },
          "metadata": {
            "tags": [],
            "needs_background": "light"
          }
        }
      ]
    },
    {
      "cell_type": "markdown",
      "metadata": {
        "id": "G2iRgM2IGHpi",
        "colab_type": "text"
      },
      "source": [
        "Como podemos observar no gráfico acima (um box-and-plot, ideal para visualização de *outliers*), há presença de *outliers* na nossa base."
      ]
    },
    {
      "cell_type": "code",
      "metadata": {
        "id": "HmRX3nWUlw6T",
        "colab_type": "code",
        "colab": {}
      },
      "source": [
        "# Cria tabela com remocao de outliers para analises posteriores com com e sem remocao\n",
        "rfm_df_no_outlier = rfm_df.copy()\n",
        "rfm_df_w_outlier = rfm_df.copy()"
      ],
      "execution_count": 293,
      "outputs": []
    },
    {
      "cell_type": "code",
      "metadata": {
        "id": "lLILjV0lGHvS",
        "colab_type": "code",
        "colab": {
          "base_uri": "https://localhost:8080/",
          "height": 52
        },
        "outputId": "27831957-83a5-40ea-e6f6-42f4f87bd0d4"
      },
      "source": [
        "# Remove outliers em Recency\n",
        "Q1 = rfm_df_no_outlier['Recency'].quantile(0.25) # primeiro quartile (25%)\n",
        "Q3 = rfm_df_no_outlier['Recency'].quantile(0.75) # terceiro quartile (75%)\n",
        "\n",
        "IQR = Q3 - Q1 # calcula interquartile range\n",
        "\n",
        "print(\"Before outlier removing: \", rfm_df_no_outlier.shape)\n",
        "rfm_df_no_outlier = rfm_df_no_outlier[(rfm_df_no_outlier['Recency'] >= Q1 - 1.5 * IQR) & (rfm_df_no_outlier['Recency'] <= Q3 + 1.5 * IQR)]\n",
        "print(\"After outlier removing: \", rfm_df_no_outlier.shape)"
      ],
      "execution_count": 294,
      "outputs": [
        {
          "output_type": "stream",
          "text": [
            "Before outlier removing:  (3849, 4)\n",
            "After outlier removing:  (3816, 4)\n"
          ],
          "name": "stdout"
        }
      ]
    },
    {
      "cell_type": "code",
      "metadata": {
        "id": "qWd5ButnGHtd",
        "colab_type": "code",
        "colab": {
          "base_uri": "https://localhost:8080/",
          "height": 52
        },
        "outputId": "2c20c562-42e1-4a55-9417-02772e064093"
      },
      "source": [
        "# Remove outliers em Frequency\n",
        "Q1 = rfm_df_no_outlier['Frequency'].quantile(0.25) # primeiro quartile (25%)\n",
        "Q3 = rfm_df_no_outlier['Frequency'].quantile(0.75) # terceiro quartile (75%)\n",
        "\n",
        "IQR = Q3 - Q1 # calcula interquartile range\n",
        "\n",
        "print(\"Before outlier removing: \", rfm_df_no_outlier.shape)\n",
        "rfm_df_no_outlier = rfm_df_no_outlier[(rfm_df_no_outlier['Frequency'] >= Q1 - 1.5 * IQR) & (rfm_df_no_outlier['Frequency'] <= Q3 + 1.5 * IQR)]\n",
        "print(\"After outlier removing: \", rfm_df_no_outlier.shape)"
      ],
      "execution_count": 295,
      "outputs": [
        {
          "output_type": "stream",
          "text": [
            "Before outlier removing:  (3816, 4)\n",
            "After outlier removing:  (3585, 4)\n"
          ],
          "name": "stdout"
        }
      ]
    },
    {
      "cell_type": "code",
      "metadata": {
        "id": "8XEq4TIyKkX5",
        "colab_type": "code",
        "colab": {
          "base_uri": "https://localhost:8080/",
          "height": 52
        },
        "outputId": "bcd6213c-3ae1-4f6d-86fe-2e231643f200"
      },
      "source": [
        "# Remove outliers em Monetary\n",
        "Q1 = rfm_df_no_outlier['Monetary'].quantile(0.25) # primeiro quartile (25%)\n",
        "Q3 = rfm_df_no_outlier['Monetary'].quantile(0.75) # terceiro quartile (75%)\n",
        "\n",
        "IQR = Q3 - Q1 # calcula interquartile range\n",
        "\n",
        "print(\"Before outlier removing: \", rfm_df_no_outlier.shape)\n",
        "rfm_df_no_outlier = rfm_df_no_outlier[(rfm_df_no_outlier['Monetary'] >= Q1 - 1.5 * IQR) & (rfm_df_no_outlier['Monetary'] <= Q3 + 1.5 * IQR)]\n",
        "print(\"After outlier removing: \", rfm_df_no_outlier.shape)"
      ],
      "execution_count": 296,
      "outputs": [
        {
          "output_type": "stream",
          "text": [
            "Before outlier removing:  (3585, 4)\n",
            "After outlier removing:  (3234, 4)\n"
          ],
          "name": "stdout"
        }
      ]
    },
    {
      "cell_type": "code",
      "metadata": {
        "id": "4jxFnwSzLnrA",
        "colab_type": "code",
        "colab": {
          "base_uri": "https://localhost:8080/",
          "height": 536
        },
        "outputId": "4bdbbf65-c98b-4234-f862-ee6c47ae3ec0"
      },
      "source": [
        "# Analise de outliers para Recency, Frequency e Monetary depois da remocao\n",
        "\n",
        "attributes = ['Frequency','Recency', 'Monetary']\n",
        "plt.rcParams['figure.figsize'] = [10,8]\n",
        "sns.boxplot(data=rfm_df_no_outlier[attributes], orient=\"h\",palette=\"Set3\" , whis=1.0, saturation=1, width=0.7)\n",
        "plt.title(\"Outliers  Distribution after Removal\", fontsize = 14, fontweight='bold')\n",
        "plt.ylabel(\"Range\", fontweight='bold')\n",
        "plt.xlabel(\"Attributes\", fontweight='bold')"
      ],
      "execution_count": 297,
      "outputs": [
        {
          "output_type": "execute_result",
          "data": {
            "text/plain": [
              "Text(0.5, 0, 'Attributes')"
            ]
          },
          "metadata": {
            "tags": []
          },
          "execution_count": 297
        },
        {
          "output_type": "display_data",
          "data": {
            "image/png": "[encoded data removed]",
            "text/plain": [
              "<Figure size 720x576 with 1 Axes>"
            ]
          },
          "metadata": {
            "tags": [],
            "needs_background": "light"
          }
        }
      ]
    },
    {
      "cell_type": "markdown",
      "metadata": {
        "id": "kDoRSB41MHPb",
        "colab_type": "text"
      },
      "source": [
        "# Segmentação de Clientes (Tabela RFM)\n",
        "  Uma forma amplamente utilizada e simples de criar segmentos com RFM é usando a métrica estatística *quartile*. Notas de 1 a 4 (se o valor está no primeiro quartile, no segundo, terceiro ou quarto) são associadas a Recency, Frequency e Monetary. Um consiste no melhor valor e 4 no pior. O segmento final é calculado combinando as três notas individuais atribuídas a cada métrica (i.e. '111' é um segmento)."
      ]
    },
    {
      "cell_type": "markdown",
      "metadata": {
        "id": "vcUKZhnhMHTK",
        "colab_type": "text"
      },
      "source": [
        "## RFM Quartiles\n"
      ]
    },
    {
      "cell_type": "code",
      "metadata": {
        "id": "xfIJQCdvMHW3",
        "colab_type": "code",
        "colab": {
          "base_uri": "https://localhost:8080/",
          "height": 86
        },
        "outputId": "90f76b58-a1e7-4157-cc1b-774eb0392a72"
      },
      "source": [
        "# Encontra Q1, Q2 e Q3 para a tabela rfm\n",
        "quartiles_no_outlier = rfm_df_no_outlier.quantile(q=[0.25, 0.50, 0.75])\n",
        "quartiles_w_outlier = rfm_df_w_outlier.quantile(q=[0.25, 0.50, 0.75])\n",
        "print(quartiles_no_outlier)"
      ],
      "execution_count": 298,
      "outputs": [
        {
          "output_type": "stream",
          "text": [
            "      CustomerID  Recency  Frequency  Monetary\n",
            "0.25    14223.25     25.0        1.0   15.5625\n",
            "0.50    15550.50     70.0        2.0   35.1000\n",
            "0.75    16891.75    167.0        4.0   75.3725\n"
          ],
          "name": "stdout"
        }
      ]
    },
    {
      "cell_type": "code",
      "metadata": {
        "id": "yl4nQkPEULyq",
        "colab_type": "code",
        "colab": {
          "base_uri": "https://localhost:8080/",
          "height": 86
        },
        "outputId": "a3440892-4004-4aa9-8624-9782e51c56e2"
      },
      "source": [
        "# Para facilitar o acesso\n",
        "quartiles_no_outlier.to_dict()\n",
        "quartiles_w_outlier.to_dict()"
      ],
      "execution_count": 299,
      "outputs": [
        {
          "output_type": "execute_result",
          "data": {
            "text/plain": [
              "{'CustomerID': {0.25: 14199.0, 0.5: 15556.0, 0.75: 16912.0},\n",
              " 'Frequency': {0.25: 1.0, 0.5: 2.0, 0.75: 4.0},\n",
              " 'Monetary': {0.25: 17.4, 0.5: 45.0, 0.75: 121.19999999999999},\n",
              " 'Recency': {0.25: 22.0, 0.5: 60.0, 0.75: 154.0}}"
            ]
          },
          "metadata": {
            "tags": []
          },
          "execution_count": 299
        }
      ]
    },
    {
      "cell_type": "markdown",
      "metadata": {
        "id": "t4QpBWXxMHgz",
        "colab_type": "text"
      },
      "source": [
        "## Criação dos Segmentos <br>\n",
        "  Devido ao fato de em Recency um bom valor ser um valor baixo (quanto mais recente sua última compra tiver sido, menor é o valor) \n",
        "e o mesmo não valer para Frequency e Monetary (onde valores altos sãos os melhores valores), duas funções diferentes de criação de segmentos\n",
        "precisam ser criadas."
      ]
    },
    {
      "cell_type": "code",
      "metadata": {
        "id": "0kAWLG8KSxQ-",
        "colab_type": "code",
        "colab": {}
      },
      "source": [
        "# Funcoes para atribuicao de notas recency, frequency e monetary\n",
        "def r_score(x, m, d):\n",
        "  \"\"\" \n",
        "  Score Attribution Function\n",
        "  Params:\n",
        "    x = value,\n",
        "    m = metric (recency)\n",
        "    d = quartiles dictionary    \n",
        "  \"\"\"\n",
        "  if x <= d[m][0.25]:\n",
        "    return 1\n",
        "  elif x <= d[m][0.50]:\n",
        "    return 2\n",
        "  elif x <= d[m][0.75]:\n",
        "    return 3\n",
        "  else:\n",
        "    return 4\n",
        "\n",
        "def fm_score(x, m, d):\n",
        "  \"\"\" \n",
        "  Score Attribution Function\n",
        "  Params:\n",
        "    x = value,\n",
        "    m = metric (frequency or monetary)\n",
        "    d = quartiles dictionary    \n",
        "  \"\"\"\n",
        "  if x <= d[m][0.25]:\n",
        "    return 4\n",
        "  elif x <= d[m][0.50]:\n",
        "    return 3\n",
        "  elif x <= d[m][0.75]:\n",
        "    return 2\n",
        "  else:\n",
        "    return 1"
      ],
      "execution_count": 300,
      "outputs": []
    },
    {
      "cell_type": "code",
      "metadata": {
        "id": "_O05fd7WTvNP",
        "colab_type": "code",
        "colab": {
          "base_uri": "https://localhost:8080/",
          "height": 238
        },
        "outputId": "cb126291-695a-47be-d627-132e98f4bd74"
      },
      "source": [
        "# Cria tabela rfm com os segmentos para dados sem outliers\n",
        "\n",
        "rfm_no_outlier = rfm_df_no_outlier.copy().set_index(['CustomerID'], drop=True)\n",
        "rfm_no_outlier['R_Score'] = rfm_no_outlier['Recency'].apply(r_score, args=('Recency', quartiles_no_outlier,))\n",
        "rfm_no_outlier['F_Score'] = rfm_no_outlier['Frequency'].apply(fm_score, args=('Frequency', quartiles_no_outlier,))\n",
        "rfm_no_outlier['M_Score'] = rfm_no_outlier['Monetary'].apply(fm_score, args=('Monetary', quartiles_no_outlier,))\n",
        "\n",
        "rfm_no_outlier.head()"
      ],
      "execution_count": 301,
      "outputs": [
        {
          "output_type": "execute_result",
          "data": {
            "text/html": [
              "<div>\n",
              "<style scoped>\n",
              "    .dataframe tbody tr th:only-of-type {\n",
              "        vertical-align: middle;\n",
              "    }\n",
              "\n",
              "    .dataframe tbody tr th {\n",
              "        vertical-align: top;\n",
              "    }\n",
              "\n",
              "    .dataframe thead th {\n",
              "        text-align: right;\n",
              "    }\n",
              "</style>\n",
              "<table border=\"1\" class=\"dataframe\">\n",
              "  <thead>\n",
              "    <tr style=\"text-align: right;\">\n",
              "      <th></th>\n",
              "      <th>Recency</th>\n",
              "      <th>Frequency</th>\n",
              "      <th>Monetary</th>\n",
              "      <th>R_Score</th>\n",
              "      <th>F_Score</th>\n",
              "      <th>M_Score</th>\n",
              "    </tr>\n",
              "    <tr>\n",
              "      <th>CustomerID</th>\n",
              "      <th></th>\n",
              "      <th></th>\n",
              "      <th></th>\n",
              "      <th></th>\n",
              "      <th></th>\n",
              "      <th></th>\n",
              "    </tr>\n",
              "  </thead>\n",
              "  <tbody>\n",
              "    <tr>\n",
              "      <th>12749</th>\n",
              "      <td>23</td>\n",
              "      <td>5</td>\n",
              "      <td>98.35</td>\n",
              "      <td>1</td>\n",
              "      <td>1</td>\n",
              "      <td>1</td>\n",
              "    </tr>\n",
              "    <tr>\n",
              "      <th>12820</th>\n",
              "      <td>45</td>\n",
              "      <td>4</td>\n",
              "      <td>58.20</td>\n",
              "      <td>2</td>\n",
              "      <td>2</td>\n",
              "      <td>2</td>\n",
              "    </tr>\n",
              "    <tr>\n",
              "      <th>12821</th>\n",
              "      <td>96</td>\n",
              "      <td>1</td>\n",
              "      <td>19.92</td>\n",
              "      <td>3</td>\n",
              "      <td>4</td>\n",
              "      <td>3</td>\n",
              "    </tr>\n",
              "    <tr>\n",
              "      <th>12822</th>\n",
              "      <td>71</td>\n",
              "      <td>2</td>\n",
              "      <td>30.80</td>\n",
              "      <td>3</td>\n",
              "      <td>3</td>\n",
              "      <td>3</td>\n",
              "    </tr>\n",
              "    <tr>\n",
              "      <th>12824</th>\n",
              "      <td>30</td>\n",
              "      <td>1</td>\n",
              "      <td>5.04</td>\n",
              "      <td>2</td>\n",
              "      <td>4</td>\n",
              "      <td>4</td>\n",
              "    </tr>\n",
              "  </tbody>\n",
              "</table>\n",
              "</div>"
            ],
            "text/plain": [
              "            Recency  Frequency  Monetary  R_Score  F_Score  M_Score\n",
              "CustomerID                                                         \n",
              "12749            23          5     98.35        1        1        1\n",
              "12820            45          4     58.20        2        2        2\n",
              "12821            96          1     19.92        3        4        3\n",
              "12822            71          2     30.80        3        3        3\n",
              "12824            30          1      5.04        2        4        4"
            ]
          },
          "metadata": {
            "tags": []
          },
          "execution_count": 301
        }
      ]
    },
    {
      "cell_type": "code",
      "metadata": {
        "id": "tEe-IKm-Wy3n",
        "colab_type": "code",
        "colab": {
          "base_uri": "https://localhost:8080/",
          "height": 238
        },
        "outputId": "e5bca9e1-c75c-4f73-93e8-b975ba35e86d"
      },
      "source": [
        "# Com as notas calculadas, os segmentos sao montados, combinando R_Score, F_Score e M_Score para a tabela sem outliers\n",
        "rfm_no_outlier['RFM'] = rfm_no_outlier['R_Score'].map(str) \\\n",
        "                + rfm_no_outlier['F_Score'].map(str) \\\n",
        "                + rfm_no_outlier['M_Score'].map(str)\n",
        "rfm_no_outlier.head()"
      ],
      "execution_count": 302,
      "outputs": [
        {
          "output_type": "execute_result",
          "data": {
            "text/html": [
              "<div>\n",
              "<style scoped>\n",
              "    .dataframe tbody tr th:only-of-type {\n",
              "        vertical-align: middle;\n",
              "    }\n",
              "\n",
              "    .dataframe tbody tr th {\n",
              "        vertical-align: top;\n",
              "    }\n",
              "\n",
              "    .dataframe thead th {\n",
              "        text-align: right;\n",
              "    }\n",
              "</style>\n",
              "<table border=\"1\" class=\"dataframe\">\n",
              "  <thead>\n",
              "    <tr style=\"text-align: right;\">\n",
              "      <th></th>\n",
              "      <th>Recency</th>\n",
              "      <th>Frequency</th>\n",
              "      <th>Monetary</th>\n",
              "      <th>R_Score</th>\n",
              "      <th>F_Score</th>\n",
              "      <th>M_Score</th>\n",
              "      <th>RFM</th>\n",
              "    </tr>\n",
              "    <tr>\n",
              "      <th>CustomerID</th>\n",
              "      <th></th>\n",
              "      <th></th>\n",
              "      <th></th>\n",
              "      <th></th>\n",
              "      <th></th>\n",
              "      <th></th>\n",
              "      <th></th>\n",
              "    </tr>\n",
              "  </thead>\n",
              "  <tbody>\n",
              "    <tr>\n",
              "      <th>12749</th>\n",
              "      <td>23</td>\n",
              "      <td>5</td>\n",
              "      <td>98.35</td>\n",
              "      <td>1</td>\n",
              "      <td>1</td>\n",
              "      <td>1</td>\n",
              "      <td>111</td>\n",
              "    </tr>\n",
              "    <tr>\n",
              "      <th>12820</th>\n",
              "      <td>45</td>\n",
              "      <td>4</td>\n",
              "      <td>58.20</td>\n",
              "      <td>2</td>\n",
              "      <td>2</td>\n",
              "      <td>2</td>\n",
              "      <td>222</td>\n",
              "    </tr>\n",
              "    <tr>\n",
              "      <th>12821</th>\n",
              "      <td>96</td>\n",
              "      <td>1</td>\n",
              "      <td>19.92</td>\n",
              "      <td>3</td>\n",
              "      <td>4</td>\n",
              "      <td>3</td>\n",
              "      <td>343</td>\n",
              "    </tr>\n",
              "    <tr>\n",
              "      <th>12822</th>\n",
              "      <td>71</td>\n",
              "      <td>2</td>\n",
              "      <td>30.80</td>\n",
              "      <td>3</td>\n",
              "      <td>3</td>\n",
              "      <td>3</td>\n",
              "      <td>333</td>\n",
              "    </tr>\n",
              "    <tr>\n",
              "      <th>12824</th>\n",
              "      <td>30</td>\n",
              "      <td>1</td>\n",
              "      <td>5.04</td>\n",
              "      <td>2</td>\n",
              "      <td>4</td>\n",
              "      <td>4</td>\n",
              "      <td>244</td>\n",
              "    </tr>\n",
              "  </tbody>\n",
              "</table>\n",
              "</div>"
            ],
            "text/plain": [
              "            Recency  Frequency  Monetary  R_Score  F_Score  M_Score  RFM\n",
              "CustomerID                                                              \n",
              "12749            23          5     98.35        1        1        1  111\n",
              "12820            45          4     58.20        2        2        2  222\n",
              "12821            96          1     19.92        3        4        3  343\n",
              "12822            71          2     30.80        3        3        3  333\n",
              "12824            30          1      5.04        2        4        4  244"
            ]
          },
          "metadata": {
            "tags": []
          },
          "execution_count": 302
        }
      ]
    },
    {
      "cell_type": "markdown",
      "metadata": {
        "id": "BVGA4Es5a0zd",
        "colab_type": "text"
      },
      "source": [
        "## Salva a Tabela RFM para consumo"
      ]
    },
    {
      "cell_type": "code",
      "metadata": {
        "id": "gu6K9Y80Wy7G",
        "colab_type": "code",
        "colab": {}
      },
      "source": [
        "# Salva tabela final sem outliers\n",
        "rfm_no_outlier.to_csv('rfm_table_no_outlier.csv')\n",
        "\n",
        "# Salva tabela final com outliers\n",
        "rfm_w_outlier.to_csv('rfm_table_w_outlier.csv')"
      ],
      "execution_count": null,
      "outputs": []
    },
    {
      "cell_type": "markdown",
      "metadata": {
        "id": "5CUmR1RJWzEp",
        "colab_type": "text"
      },
      "source": [
        "# Análises"
      ]
    },
    {
      "cell_type": "code",
      "metadata": {
        "id": "v4IX15wmdez-",
        "colab_type": "code",
        "colab": {
          "base_uri": "https://localhost:8080/",
          "height": 34
        },
        "outputId": "cfb829fe-f4a3-4f37-e427-2321ab9a41fd"
      },
      "source": [
        "rfm_no_outlier.shape"
      ],
      "execution_count": 303,
      "outputs": [
        {
          "output_type": "execute_result",
          "data": {
            "text/plain": [
              "(3234, 7)"
            ]
          },
          "metadata": {
            "tags": []
          },
          "execution_count": 303
        }
      ]
    },
    {
      "cell_type": "markdown",
      "metadata": {
        "id": "OHTqR8tG38y9",
        "colab_type": "text"
      },
      "source": [
        "Segundo a fonte [Blast Analytics](https://www.blastanalytics.com/blog/rfm-analysis-boosts-sales), a tabela a seguir apresenta os principais segmentos RFM e sugestões de atuação em nível de Marketing."
      ]
    },
    {
      "cell_type": "markdown",
      "metadata": {
        "id": "-x353tmede3q",
        "colab_type": "text"
      },
      "source": [
        "| Segmentos | RFM | Descrição | Ações de Marketing |\n",
        "|-----------|-----|-----------|--------------------|\n",
        "| Melhores Clientes | 111 | Comprou mais recentemente, <br> com mais frequência e gastou mais | Sem incentivo de preços, novos produtos <br> e programas de lealdade |\n",
        "| Clientes Leais | x1x | Compra frequentemente | Usa R e M pra repensar estratégias |\n",
        "| Grandes Compradores | xx1 | Gastam mais | Mostrar itens mais caros |\n",
        "| Quase perdido | 311 | Não compra há algum tempo, <br> mas comprou com frequencia e <br> gastou muito | Incentivo com preços agressivos |\n",
        "| Cliente perdido | 411 |  Não compra há muito tempo, <br> mas comprou com frequencia e <br> gastou muito | Incentivo com preçços agressivos |\n",
        "| Clientes baratos perdidos | 444 | Comprou há muito tempo, <br>pouco e gastou pouco também | Não perca muito tempo tentando readquiri-lo |"
      ]
    },
    {
      "cell_type": "markdown",
      "metadata": {
        "id": "-kO4KrWk4sqR",
        "colab_type": "text"
      },
      "source": [
        "Com base nesta tabela, criaremos uma coluna 'Segment' para a realização de algumas análises. Mais segmentos podem ser análisados dependendo da necessidade da equipe de Marketing.\n"
      ]
    },
    {
      "cell_type": "code",
      "metadata": {
        "id": "GSaPLuZKbsyS",
        "colab_type": "code",
        "colab": {}
      },
      "source": [
        "# Extraindo lista de clientes contidos nos segmentos melhores clientes, quase perdido, cliente perdido e clientes baratos perdidos\n",
        "best = rfm_no_outlier.loc[rfm_no_outlier['RFM'] == '111'].index\n",
        "almost_lost = rfm_no_outlier.loc[rfm_no_outlier['RFM'] == '311'].index\n",
        "lost = rfm_no_outlier.loc[rfm_no_outlier['RFM'] == '411'].index\n",
        "lost_cheap = rfm_no_outlier.loc[rfm_no_outlier['RFM'] == '444'].index"
      ],
      "execution_count": 304,
      "outputs": []
    },
    {
      "cell_type": "code",
      "metadata": {
        "id": "rvfgZ3NP8iOr",
        "colab_type": "code",
        "colab": {}
      },
      "source": [
        "# Atribuindo os segmentos a tabela rfm\n",
        "rfm_no_outlier['Segment'] = np.array([np.nan for i in range(rfm_no_outlier.shape[0])])\n",
        "\n",
        "rfm_no_outlier.loc[rfm_no_outlier.index.isin(best), 'Segment'] = \"Melhores Clientes\"\n",
        "rfm_no_outlier.loc[rfm_no_outlier.index.isin(almost_lost), 'Segment'] = \"Quase Perdido\"\n",
        "rfm_no_outlier.loc[rfm_no_outlier.index.isin(lost), 'Segment'] = \"Cliente Perdido\"\n",
        "rfm_no_outlier.loc[rfm_no_outlier.index.isin(lost_cheap), 'Segment'] = \"Clientes Baratos Perdidos\""
      ],
      "execution_count": 305,
      "outputs": []
    },
    {
      "cell_type": "code",
      "metadata": {
        "id": "j61IzP1YZAIb",
        "colab_type": "code",
        "colab": {}
      },
      "source": [
        "# Atribui segmento 'Loyal Customers' aos individuos com a melhor nota em frequency\n",
        "loyal_temp = rfm_no_outlier.loc[rfm_no_outlier['F_Score'] == 1].index\n",
        "\n",
        "# Filtra os clientes que ja apareceram em outros segmentos\n",
        "loyal = loyal_temp[~loyal_temp.isin(best)]\n",
        "loyal = loyal[~loyal.isin(almost_lost)]\n",
        "loyal = loyal[~loyal.isin(lost)]\n",
        "\n",
        "rfm_no_outlier.loc[rfm_no_outlier.index.isin(loyal), 'Segment'] = \"Clientes Leais\"\n",
        "\n",
        "\n",
        "# Atribui segmento 'Big Spenders' aos individuos com a melhor nota em monetary\n",
        "big_spenders_temp = rfm_no_outlier.loc[rfm_no_outlier['M_Score'] == 1].index\n",
        "\n",
        "big_spenders = big_spenders_temp[~big_spenders_temp.isin(best)]\n",
        "big_spenders = big_spenders[~big_spenders.isin(almost_lost)]\n",
        "big_spenders = big_spenders[~big_spenders.isin(lost)]\n",
        "\n",
        "rfm_no_outlier.loc[rfm_no_outlier.index.isin(big_spenders), 'Segment'] = \"Grandes Compradores\""
      ],
      "execution_count": 306,
      "outputs": []
    },
    {
      "cell_type": "code",
      "metadata": {
        "id": "LsH5vzH3Zo5A",
        "colab_type": "code",
        "colab": {}
      },
      "source": [
        "# Preenche quem ficou sem segmento\n",
        "rfm_no_outlier['Segment'] = rfm_no_outlier['Segment'].fillna(\"Outros\")"
      ],
      "execution_count": 307,
      "outputs": []
    },
    {
      "cell_type": "code",
      "metadata": {
        "id": "DTVsVhPXZAme",
        "colab_type": "code",
        "colab": {
          "base_uri": "https://localhost:8080/",
          "height": 69
        },
        "outputId": "07f0f45e-4fb5-43e1-e829-93ae88c9d949"
      },
      "source": [
        "# Verificacao dos valores\n",
        "rfm_no_outlier['Segment'].unique()"
      ],
      "execution_count": 308,
      "outputs": [
        {
          "output_type": "execute_result",
          "data": {
            "text/plain": [
              "array(['Melhores Clientes', 'Outros', 'Grandes Compradores',\n",
              "       'Quase Perdido', 'Clientes Baratos Perdidos', 'Clientes Leais',\n",
              "       'Cliente Perdido'], dtype=object)"
            ]
          },
          "metadata": {
            "tags": []
          },
          "execution_count": 308
        }
      ]
    },
    {
      "cell_type": "markdown",
      "metadata": {
        "id": "hxWGgF3WNkXZ",
        "colab_type": "text"
      },
      "source": [
        "Com os principais segmentos definidos, podemos plotar alguns gráficos pra analisarmos a distribuição dos segmentos"
      ]
    },
    {
      "cell_type": "code",
      "metadata": {
        "id": "6KVzRFl0enwZ",
        "colab_type": "code",
        "colab": {}
      },
      "source": [
        "# Construcao de ados de representacao de cada segmento\n",
        "plot_data = rfm_no_outlier.groupby(by=['Segment'], as_index=False)['RFM'].count().rename(columns={'RFM': 'Count'})\n",
        "plot_data = plot_data.sort_values(by='Count', ascending=False).reset_index(drop=True)\n",
        "plot_data['Percentage'] = plot_data['Count'].apply(lambda x: x/rfm_no_outlier.shape[0])"
      ],
      "execution_count": 309,
      "outputs": []
    },
    {
      "cell_type": "code",
      "metadata": {
        "id": "eIwKHlTMtCH8",
        "colab_type": "code",
        "colab": {}
      },
      "source": [
        "# Construcao de dados de recency medio por segmento\n",
        "plot_data_r = rfm_no_outlier.groupby(by=['Segment'], as_index=False)['Recency'].mean().rename(columns={'Recency': 'AVG_Recency'})\n",
        "plot_data_r['AVG_Recency'] = plot_data_r['AVG_Recency'].round(2)\n",
        "plot_data_r = plot_data_r.sort_values(by='AVG_Recency', ascending=False).reset_index(drop=True)"
      ],
      "execution_count": 310,
      "outputs": []
    },
    {
      "cell_type": "code",
      "metadata": {
        "id": "cPCZzuipD74d",
        "colab_type": "code",
        "colab": {}
      },
      "source": [
        "# Construcao de dados de frequency medio por segmento\n",
        "plot_data_f = rfm_no_outlier.groupby(by=['Segment'], as_index=False)['Frequency'].mean().rename(columns={'Frequency': 'AVG_Frequency'})\n",
        "plot_data_f['AVG_Frequency'] = plot_data_f['AVG_Frequency'].round(2)\n",
        "plot_data_f = plot_data_f.sort_values(by='AVG_Frequency', ascending=False).reset_index(drop=True)"
      ],
      "execution_count": 311,
      "outputs": []
    },
    {
      "cell_type": "code",
      "metadata": {
        "id": "61pHKSQgD7f9",
        "colab_type": "code",
        "colab": {}
      },
      "source": [
        "# Construcao de dados de monetary medio por segmento\n",
        "plot_data_m = rfm_no_outlier.groupby(by=['Segment'], as_index=False)['Monetary'].mean().rename(columns={'Monetary': 'AVG_Monetary'})\n",
        "plot_data_m['AVG_Monetary'] = plot_data_m['AVG_Monetary'].round(2)\n",
        "plot_data_m = plot_data_m.sort_values(by='AVG_Monetary', ascending=False).reset_index(drop=True)"
      ],
      "execution_count": 312,
      "outputs": []
    },
    {
      "cell_type": "code",
      "metadata": {
        "id": "dOyhc5T9iGEH",
        "colab_type": "code",
        "colab": {
          "base_uri": "https://localhost:8080/",
          "height": 568
        },
        "outputId": "b8e5b44a-d8ab-4376-98cc-8a77e4d815b2"
      },
      "source": [
        "# Dashboard\n",
        "fig = plt.figure(figsize=(27,9))\n",
        "\n",
        "ax1 = fig.add_subplot(1, 2, 1)\n",
        "ax1.title.set_text('Representação de cada Segmento')\n",
        "ax1.set_xticklabels(plot_data['Segment'], rotation=45)\n",
        "sns.barplot(data=plot_data, x='Segment', y='Percentage', palette='Blues_d')\n",
        "\n",
        "ax2 = fig.add_subplot(1, 2, 2)\n",
        "ax2.title.set_text('Recency Médio por Segmento')\n",
        "ax2.set_xlabel('Average Recency (days)')\n",
        "ax2 = sns.barplot(data=plot_data_r, x='AVG_Recency', y='Segment')\n",
        "#ax.set_title('Average Recency per Segment')\n",
        "\n",
        "sns.despine()\n",
        "\n",
        "fig.tight_layout(pad=7.0)                                                    \n",
        "fig.suptitle('Dashboard')\n",
        "plt.show()"
      ],
      "execution_count": 313,
      "outputs": [
        {
          "output_type": "display_data",
          "data": {
            "image/png": "[encoded data removed]",
            "text/plain": [
              "<Figure size 1944x648 with 2 Axes>"
            ]
          },
          "metadata": {
            "tags": [],
            "needs_background": "light"
          }
        }
      ]
    },
    {
      "cell_type": "code",
      "metadata": {
        "id": "H4dMwgCPDv4K",
        "colab_type": "code",
        "colab": {
          "base_uri": "https://localhost:8080/",
          "height": 568
        },
        "outputId": "72517043-54ae-43d3-96c2-ed24db986d3c"
      },
      "source": [
        "# Dashboard\n",
        "fig = plt.figure(figsize=(27,9))\n",
        "\n",
        "ax1 = fig.add_subplot(1, 2, 1)\n",
        "ax1.title.set_text('Frequency Médio por Segmento')\n",
        "ax1.set_xlabel('Average Frequency')\n",
        "ax1 = sns.barplot(data=plot_data_f, x='AVG_Frequency', y='Segment')\n",
        "\n",
        "ax2 = fig.add_subplot(1, 2, 2)\n",
        "ax2.title.set_text('Monetary Médio por Segmento')\n",
        "ax2.set_xlabel('Average Monetary')\n",
        "ax2 = sns.barplot(data=plot_data_m, x='AVG_Monetary', y='Segment')\n",
        "\n",
        "sns.despine()\n",
        "\n",
        "fig.tight_layout(pad=7.0)                                                    \n",
        "fig.suptitle('Dashboard')\n",
        "plt.show()"
      ],
      "execution_count": 314,
      "outputs": [
        {
          "output_type": "display_data",
          "data": {
            "image/png": "[encoded data removed]",
            "text/plain": [
              "<Figure size 1944x648 with 2 Axes>"
            ]
          },
          "metadata": {
            "tags": [],
            "needs_background": "light"
          }
        }
      ]
    },
    {
      "cell_type": "markdown",
      "metadata": {
        "id": "cDFtN6xFDwJF",
        "colab_type": "text"
      },
      "source": [
        "Observando os gráficos conseguimos obervar que: <br>\n",
        " 1. Devido a grande quantidade de clientes fora das classes principais desenhadas pelos especialistas no geral, aqui representadas em 'Outros', se faz necessário encontrar outra abordagem para analisar este grupo, que por restrições de tempo não será explorado.\n",
        " 2. Outro ponto interessante é que compradores leais, apesar da alta frequência de compra e também de serem compradores recentes, não gastam muito em suas compras. Um ponto que poderia ser analisado seria o perfil de compra desses compradores, como categoria de produtos (dado que se tem acesso a este dado) entre outros, que proporcione dados para ações de engajamento desses compradores em compras maiores.\n",
        " 3. Um grupo que também me chamou atenção foi o de 'Quase Perdido'. Apesar de normalmente ser classificado como um grupo que não compra há algum tempo, ele não está entre os piores nessa classificação, mas se encontra nos top compradores mais frequentes e que mais gastam, demandando assim uma certa atenção por parte do Marketing, pois acredito que sejam clientes fáceis de voltar a cativar."
      ]
    }
  ]
}